{
 "metadata": {
  "name": "",
  "signature": "sha256:1d79c15d5ab7c080d477e0f941e2558d1a3b857c452c2c1b3c45c1e518eedc84"
 },
 "nbformat": 3,
 "nbformat_minor": 0,
 "worksheets": [
  {
   "cells": [
    {
     "cell_type": "code",
     "collapsed": false,
     "input": [
      "What's for those recently in confucian wikipedias, what's "
     ],
     "language": "python",
     "metadata": {},
     "outputs": []
    },
    {
     "cell_type": "code",
     "collapsed": false,
     "input": [
      "import pandas as pd\n",
      "import numpy\n",
      "from collections import defaultdict\n",
      "import json\n",
      "import statsmodels.api as sm\n",
      "from matplotlib.pylab import style\n",
      "style.use('fivethirtyeight')\n",
      "%pylab inline\n",
      "java_min_int = -2147483648\n",
      "WIKIS =('jawiki', 'tlwiki', 'urwiki', 'zhwiki', 'dewiki', 'enwiki','kowiki')"
     ],
     "language": "python",
     "metadata": {},
     "outputs": [
      {
       "output_type": "stream",
       "stream": "stdout",
       "text": [
        "Populating the interactive namespace from numpy and matplotlib\n"
       ]
      }
     ],
     "prompt_number": 3
    },
    {
     "cell_type": "code",
     "collapsed": false,
     "input": [
      "allrecs = pd.read_csv('snapshot_data/2014-10-13/gender-index-data-2014-10-13.csv',na_values=[java_min_int])\n",
      "def split_column(q_str):\n",
      "    if type(q_str) is float:\n",
      "        if numpy.isnan(q_str):\n",
      "            return q_str \n",
      "    if type(q_str) is str:\n",
      "        qs = q_str.split('|')\n",
      "        return qs[:-1] #cos the format will always end with a |\n",
      "\n",
      "for col in ['gender','site_links']:\n",
      "    allrecs[col] = allrecs[col].apply(split_column)"
     ],
     "language": "python",
     "metadata": {},
     "outputs": [],
     "prompt_number": 4
    },
    {
     "cell_type": "code",
     "collapsed": false,
     "input": [
      "def has(xxwiki):\n",
      "    def has_xx(row):\n",
      "        if isinstance(row['site_links'], list):\n",
      "            return xxwiki in row['site_links']\n",
      "        else: return False\n",
      "    return has_xx"
     ],
     "language": "python",
     "metadata": {},
     "outputs": [],
     "prompt_number": 5
    },
    {
     "cell_type": "markdown",
     "metadata": {},
     "source": [
      "generate files"
     ]
    },
    {
     "cell_type": "code",
     "collapsed": false,
     "input": [
      "allrecs.head(20)"
     ],
     "language": "python",
     "metadata": {},
     "outputs": [
      {
       "html": [
        "<div style=\"max-height:1000px;max-width:1500px;overflow:auto;\">\n",
        "<table border=\"1\" class=\"dataframe\">\n",
        "  <thead>\n",
        "    <tr style=\"text-align: right;\">\n",
        "      <th></th>\n",
        "      <th>qid</th>\n",
        "      <th>dob</th>\n",
        "      <th>dod</th>\n",
        "      <th>gender</th>\n",
        "      <th>ethnic_group</th>\n",
        "      <th>citizenship</th>\n",
        "      <th>place_of_birth</th>\n",
        "      <th>site_links</th>\n",
        "    </tr>\n",
        "  </thead>\n",
        "  <tbody>\n",
        "    <tr>\n",
        "      <th>0 </th>\n",
        "      <td>  Q23</td>\n",
        "      <td> 1732</td>\n",
        "      <td> 1799</td>\n",
        "      <td> [Q6581097]</td>\n",
        "      <td> NaN</td>\n",
        "      <td>                 Q30|</td>\n",
        "      <td>   Q494413|</td>\n",
        "      <td> [zhwiki, kywiki, euwiki, plwiki, bswiki, angwi...</td>\n",
        "    </tr>\n",
        "    <tr>\n",
        "      <th>1 </th>\n",
        "      <td>  Q42</td>\n",
        "      <td> 1952</td>\n",
        "      <td> 2001</td>\n",
        "      <td> [Q6581097]</td>\n",
        "      <td> NaN</td>\n",
        "      <td>                Q145|</td>\n",
        "      <td>      Q350|</td>\n",
        "      <td> [zhwiki, jvwiki, euwiki, plwiki, bswiki, eswik...</td>\n",
        "    </tr>\n",
        "    <tr>\n",
        "      <th>2 </th>\n",
        "      <td> Q207</td>\n",
        "      <td> 1946</td>\n",
        "      <td>  NaN</td>\n",
        "      <td> [Q6581097]</td>\n",
        "      <td> NaN</td>\n",
        "      <td>                 Q30|</td>\n",
        "      <td>    Q49145|</td>\n",
        "      <td> [uzwiki, eswiki, kowikiquote, huwiki, liwikiqu...</td>\n",
        "    </tr>\n",
        "    <tr>\n",
        "      <th>3 </th>\n",
        "      <td> Q297</td>\n",
        "      <td>  NaN</td>\n",
        "      <td> 1660</td>\n",
        "      <td> [Q6581097]</td>\n",
        "      <td> NaN</td>\n",
        "      <td>                 Q29|</td>\n",
        "      <td>     Q8717|</td>\n",
        "      <td> [zhwiki, kywiki, plwiki, euwiki, bswiki, uzwik...</td>\n",
        "    </tr>\n",
        "    <tr>\n",
        "      <th>4 </th>\n",
        "      <td> Q326</td>\n",
        "      <td> 1942</td>\n",
        "      <td>  NaN</td>\n",
        "      <td> [Q6581097]</td>\n",
        "      <td> NaN</td>\n",
        "      <td>            Q298|Q39|</td>\n",
        "      <td>     Q2887|</td>\n",
        "      <td> [zhwiki, plwiki, euwiki, kowiki, frwiki, eswik...</td>\n",
        "    </tr>\n",
        "    <tr>\n",
        "      <th>5 </th>\n",
        "      <td> Q368</td>\n",
        "      <td> 1915</td>\n",
        "      <td> 2006</td>\n",
        "      <td> [Q6581097]</td>\n",
        "      <td> NaN</td>\n",
        "      <td>                Q298|</td>\n",
        "      <td>    Q33986|</td>\n",
        "      <td> [lbwiki, zhwiki, plwiki, euwiki, bswiki, angwi...</td>\n",
        "    </tr>\n",
        "    <tr>\n",
        "      <th>6 </th>\n",
        "      <td> Q377</td>\n",
        "      <td> 1882</td>\n",
        "      <td> 1942</td>\n",
        "      <td> [Q6581097]</td>\n",
        "      <td> NaN</td>\n",
        "      <td> Q34266|Q2895|Q15180|</td>\n",
        "      <td>   Q658871|</td>\n",
        "      <td> [zhwiki, kywiki, ukwikisource, jvwiki, plwiki,...</td>\n",
        "    </tr>\n",
        "    <tr>\n",
        "      <th>7 </th>\n",
        "      <td> Q475</td>\n",
        "      <td> 1911</td>\n",
        "      <td> 1982</td>\n",
        "      <td> [Q6581097]</td>\n",
        "      <td> NaN</td>\n",
        "      <td>                Q298|</td>\n",
        "      <td>     Q2887|</td>\n",
        "      <td> [plwiki, euwiki, kowiki, frwiki, eswiki, yowik...</td>\n",
        "    </tr>\n",
        "    <tr>\n",
        "      <th>8 </th>\n",
        "      <td> Q501</td>\n",
        "      <td> 1821</td>\n",
        "      <td> 1867</td>\n",
        "      <td> [Q6581097]</td>\n",
        "      <td> NaN</td>\n",
        "      <td>                Q142|</td>\n",
        "      <td>       Q90|</td>\n",
        "      <td> [zhwiki, glwikisource, plwiki, euwiki, bswiki,...</td>\n",
        "    </tr>\n",
        "    <tr>\n",
        "      <th>9 </th>\n",
        "      <td> Q530</td>\n",
        "      <td> 1956</td>\n",
        "      <td>  NaN</td>\n",
        "      <td> [Q6581097]</td>\n",
        "      <td> NaN</td>\n",
        "      <td>                 Q34|</td>\n",
        "      <td>   Q499415|</td>\n",
        "      <td> [plwiki, euwiki, frwiki, bswiki, bewiki, eswik...</td>\n",
        "    </tr>\n",
        "    <tr>\n",
        "      <th>10</th>\n",
        "      <td> Q555</td>\n",
        "      <td> 1973</td>\n",
        "      <td>  NaN</td>\n",
        "      <td> [Q6581072]</td>\n",
        "      <td> NaN</td>\n",
        "      <td>                 Q30|</td>\n",
        "      <td>  Q1020700|</td>\n",
        "      <td> [zhwiki, eowiki, plwiki, kowiki, ruwiki, frwik...</td>\n",
        "    </tr>\n",
        "    <tr>\n",
        "      <th>11</th>\n",
        "      <td> Q619</td>\n",
        "      <td> 1473</td>\n",
        "      <td> 1543</td>\n",
        "      <td> [Q6581097]</td>\n",
        "      <td> NaN</td>\n",
        "      <td>                 Q36|</td>\n",
        "      <td>    Q47554|</td>\n",
        "      <td> [szlwiki, zhwiki, kywiki, plwiki, euwiki, bswi...</td>\n",
        "    </tr>\n",
        "    <tr>\n",
        "      <th>12</th>\n",
        "      <td> Q633</td>\n",
        "      <td> 1945</td>\n",
        "      <td>  NaN</td>\n",
        "      <td> [Q6581097]</td>\n",
        "      <td> NaN</td>\n",
        "      <td>                 Q16|</td>\n",
        "      <td>      Q172|</td>\n",
        "      <td> [euwikiquote, zhwiki, plwiki, euwiki, eswiki, ...</td>\n",
        "    </tr>\n",
        "    <tr>\n",
        "      <th>13</th>\n",
        "      <td> Q635</td>\n",
        "      <td>  -68</td>\n",
        "      <td>  -29</td>\n",
        "      <td> [Q6581072]</td>\n",
        "      <td> NaN</td>\n",
        "      <td>              Q11768|</td>\n",
        "      <td>       Q87|</td>\n",
        "      <td> [zhwiki, plwiki, euwiki, bswiki, uzwiki, eswik...</td>\n",
        "    </tr>\n",
        "    <tr>\n",
        "      <th>14</th>\n",
        "      <td> Q747</td>\n",
        "      <td> 1606</td>\n",
        "      <td> 1684</td>\n",
        "      <td> [Q6581097]</td>\n",
        "      <td> NaN</td>\n",
        "      <td>              Q70972|</td>\n",
        "      <td>    Q30974|</td>\n",
        "      <td> [lbwiki, zhwiki, plwiki, euwiki, bswiki, eswik...</td>\n",
        "    </tr>\n",
        "    <tr>\n",
        "      <th>15</th>\n",
        "      <td> Q815</td>\n",
        "      <td> 1898</td>\n",
        "      <td> 1980</td>\n",
        "      <td> [Q6581097]</td>\n",
        "      <td> NaN</td>\n",
        "      <td>                Q298|</td>\n",
        "      <td>    Q14467|</td>\n",
        "      <td> [ptwiki, plwiki, ruwiki, kowiki, frwiki, enwik...</td>\n",
        "    </tr>\n",
        "    <tr>\n",
        "      <th>16</th>\n",
        "      <td> Q849</td>\n",
        "      <td> 1431</td>\n",
        "      <td> 1463</td>\n",
        "      <td> [Q6581097]</td>\n",
        "      <td> NaN</td>\n",
        "      <td>              Q70972|</td>\n",
        "      <td>       Q90|</td>\n",
        "      <td> [zhwiki, plwiki, euwiki, ptwikisource, eswiki,...</td>\n",
        "    </tr>\n",
        "    <tr>\n",
        "      <th>17</th>\n",
        "      <td> Q853</td>\n",
        "      <td> 1932</td>\n",
        "      <td> 1986</td>\n",
        "      <td> [Q6581097]</td>\n",
        "      <td> NaN</td>\n",
        "      <td>              Q15180|</td>\n",
        "      <td> Q15651436|</td>\n",
        "      <td> [zhwiki, plwiki, euwiki, eswiki, afwiki, ocwik...</td>\n",
        "    </tr>\n",
        "    <tr>\n",
        "      <th>18</th>\n",
        "      <td> Q859</td>\n",
        "      <td> -427</td>\n",
        "      <td> -347</td>\n",
        "      <td> [Q6581097]</td>\n",
        "      <td> NaN</td>\n",
        "      <td>             Q844930|</td>\n",
        "      <td>  Q1779520|</td>\n",
        "      <td> [uzwiki, bhwiki, eswiki, ptwikisource, huwiki,...</td>\n",
        "    </tr>\n",
        "    <tr>\n",
        "      <th>19</th>\n",
        "      <td> Q873</td>\n",
        "      <td> 1949</td>\n",
        "      <td>  NaN</td>\n",
        "      <td> [Q6581072]</td>\n",
        "      <td> NaN</td>\n",
        "      <td>                 Q30|</td>\n",
        "      <td>  Q1000642|</td>\n",
        "      <td> [lbwiki, zhwiki, jvwiki, plwiki, euwiki, bswik...</td>\n",
        "    </tr>\n",
        "  </tbody>\n",
        "</table>\n",
        "</div>"
       ],
       "metadata": {},
       "output_type": "pyout",
       "prompt_number": 6,
       "text": [
        "     qid   dob   dod      gender ethnic_group           citizenship  \\\n",
        "0    Q23  1732  1799  [Q6581097]          NaN                  Q30|   \n",
        "1    Q42  1952  2001  [Q6581097]          NaN                 Q145|   \n",
        "2   Q207  1946   NaN  [Q6581097]          NaN                  Q30|   \n",
        "3   Q297   NaN  1660  [Q6581097]          NaN                  Q29|   \n",
        "4   Q326  1942   NaN  [Q6581097]          NaN             Q298|Q39|   \n",
        "5   Q368  1915  2006  [Q6581097]          NaN                 Q298|   \n",
        "6   Q377  1882  1942  [Q6581097]          NaN  Q34266|Q2895|Q15180|   \n",
        "7   Q475  1911  1982  [Q6581097]          NaN                 Q298|   \n",
        "8   Q501  1821  1867  [Q6581097]          NaN                 Q142|   \n",
        "9   Q530  1956   NaN  [Q6581097]          NaN                  Q34|   \n",
        "10  Q555  1973   NaN  [Q6581072]          NaN                  Q30|   \n",
        "11  Q619  1473  1543  [Q6581097]          NaN                  Q36|   \n",
        "12  Q633  1945   NaN  [Q6581097]          NaN                  Q16|   \n",
        "13  Q635   -68   -29  [Q6581072]          NaN               Q11768|   \n",
        "14  Q747  1606  1684  [Q6581097]          NaN               Q70972|   \n",
        "15  Q815  1898  1980  [Q6581097]          NaN                 Q298|   \n",
        "16  Q849  1431  1463  [Q6581097]          NaN               Q70972|   \n",
        "17  Q853  1932  1986  [Q6581097]          NaN               Q15180|   \n",
        "18  Q859  -427  -347  [Q6581097]          NaN              Q844930|   \n",
        "19  Q873  1949   NaN  [Q6581072]          NaN                  Q30|   \n",
        "\n",
        "   place_of_birth                                         site_links  \n",
        "0        Q494413|  [zhwiki, kywiki, euwiki, plwiki, bswiki, angwi...  \n",
        "1           Q350|  [zhwiki, jvwiki, euwiki, plwiki, bswiki, eswik...  \n",
        "2         Q49145|  [uzwiki, eswiki, kowikiquote, huwiki, liwikiqu...  \n",
        "3          Q8717|  [zhwiki, kywiki, plwiki, euwiki, bswiki, uzwik...  \n",
        "4          Q2887|  [zhwiki, plwiki, euwiki, kowiki, frwiki, eswik...  \n",
        "5         Q33986|  [lbwiki, zhwiki, plwiki, euwiki, bswiki, angwi...  \n",
        "6        Q658871|  [zhwiki, kywiki, ukwikisource, jvwiki, plwiki,...  \n",
        "7          Q2887|  [plwiki, euwiki, kowiki, frwiki, eswiki, yowik...  \n",
        "8            Q90|  [zhwiki, glwikisource, plwiki, euwiki, bswiki,...  \n",
        "9        Q499415|  [plwiki, euwiki, frwiki, bswiki, bewiki, eswik...  \n",
        "10      Q1020700|  [zhwiki, eowiki, plwiki, kowiki, ruwiki, frwik...  \n",
        "11        Q47554|  [szlwiki, zhwiki, kywiki, plwiki, euwiki, bswi...  \n",
        "12          Q172|  [euwikiquote, zhwiki, plwiki, euwiki, eswiki, ...  \n",
        "13           Q87|  [zhwiki, plwiki, euwiki, bswiki, uzwiki, eswik...  \n",
        "14        Q30974|  [lbwiki, zhwiki, plwiki, euwiki, bswiki, eswik...  \n",
        "15        Q14467|  [ptwiki, plwiki, ruwiki, kowiki, frwiki, enwik...  \n",
        "16           Q90|  [zhwiki, plwiki, euwiki, ptwikisource, eswiki,...  \n",
        "17     Q15651436|  [zhwiki, plwiki, euwiki, eswiki, afwiki, ocwik...  \n",
        "18      Q1779520|  [uzwiki, bhwiki, eswiki, ptwikisource, huwiki,...  \n",
        "19      Q1000642|  [lbwiki, zhwiki, jvwiki, plwiki, euwiki, bswik...  "
       ]
      }
     ],
     "prompt_number": 6
    },
    {
     "cell_type": "code",
     "collapsed": false,
     "input": [
      "def makedecades(b,e):\n",
      "    for y in range(b, e, 10):\n",
      "        yield y, y+10\n",
      "        \n",
      "def isfemale(x):\n",
      "    if isinstance(x, list):\n",
      "        return x[0] == 'Q6581072'\n",
      "    else: return False\n",
      "def ismale(x):\n",
      "    if isinstance(x, list):\n",
      "        return x[0] == 'Q6581097'\n",
      "    else: return False\n",
      "def nogender(x):\n",
      "    if not isinstance(x, list):\n",
      "        return True\n",
      "    else: return False\n",
      "        \n",
      "for xxwiki in WIKIS:\n",
      "    has_wiki = has(xxwiki)\n",
      "    recs = allrecs[allrecs.apply(has_wiki, axis=1)]\n",
      "    for gender, gender_test in (('female', isfemale), ('male', ismale), ('nogender', nogender)):\n",
      "        grecs = recs[recs['gender'].apply(gender_test)]\n",
      "\n",
      "        for start_year, stop_year in  makedecades(1930,1990):\n",
      "            modrecs = grecs[(grecs['dob'] >= start_year) &(grecs['dob'] < stop_year)]\n",
      "            #print len(modrecs), xxwiki, start_year\n",
      "            filepath = 'helpers/inspection/{}_{}_{}.json'.format(xxwiki, start_year,gender)\n",
      "            json.dump(list(modrecs['qid']), open(filepath,'w'))\n",
      "            !scp $filepath wmflabs-tools:/home/maximilianklein/inspectionshortcut"
     ],
     "language": "python",
     "metadata": {},
     "outputs": [
      {
       "output_type": "stream",
       "stream": "stdout",
       "text": [
        " 772 jawiki 1930\n",
        "1202 jawiki 1940\n",
        "1457 jawiki 1950\n",
        "2194 jawiki 1960\n",
        "3138 jawiki 1970\n",
        "4304 jawiki 1980\n",
        "4718"
       ]
      },
      {
       "output_type": "stream",
       "stream": "stdout",
       "text": [
        " jawiki 1930\n",
        "6520 jawiki 1940\n",
        "6555 jawiki 1950\n",
        "7536 jawiki 1960\n",
        "9715 jawiki 1970\n",
        "11830 jawiki 1980\n",
        "340"
       ]
      },
      {
       "output_type": "stream",
       "stream": "stdout",
       "text": [
        " jawiki 1930\n",
        "422 jawiki 1940\n",
        "379 jawiki 1950\n",
        "376 jawiki 1960\n",
        "379 jawiki 1970\n",
        "305 jawiki 1980\n",
        "177"
       ]
      },
      {
       "output_type": "stream",
       "stream": "stdout",
       "text": [
        " tlwiki 1930\n",
        "235 tlwiki 1940\n",
        "294 tlwiki 1950\n",
        "427 tlwiki 1960\n",
        "625 tlwiki 1970\n",
        "837 tlwiki 1980\n",
        "359 tlwiki 1930\n",
        "480 tlwiki 1940\n",
        "479 tlwiki 1950\n",
        "557 tlwiki 1960\n",
        "598 tlwiki 1970\n",
        "683 tlwiki 1980\n",
        "0 tlwiki 1930\n",
        "1 tlwiki 1940\n",
        "2 tlwiki 1950\n",
        "2 tlwiki 1960\n",
        "6 tlwiki 1970\n",
        "3 tlwiki 1980\n",
        "109"
       ]
      },
      {
       "output_type": "stream",
       "stream": "stdout",
       "text": [
        " urwiki 1930\n",
        "156 urwiki 1940\n",
        "189 urwiki 1950\n",
        "229 urwiki 1960\n",
        "422 urwiki 1970\n",
        "697 urwiki 1980\n",
        "176 urwiki 1930\n",
        "199 urwiki 1940\n",
        "176 urwiki 1950\n",
        "142 urwiki 1960\n",
        "126 urwiki 1970\n",
        "133 urwiki 1980\n",
        "0 urwiki 1930\n",
        "0 urwiki 1940\n",
        "0 urwiki 1950\n",
        "1 urwiki 1960\n",
        "0 urwiki 1970\n",
        "1 urwiki 1980\n",
        "307"
       ]
      },
      {
       "output_type": "stream",
       "stream": "stdout",
       "text": [
        " zhwiki 1930\n",
        "468 zhwiki 1940\n",
        "717 zhwiki 1950\n",
        "996 zhwiki 1960\n",
        "1637 zhwiki 1970\n",
        "3014 zhwiki 1980\n",
        "2448"
       ]
      },
      {
       "output_type": "stream",
       "stream": "stdout",
       "text": [
        " zhwiki 1930\n",
        "3339 zhwiki 1940\n",
        "3495 zhwiki 1950\n",
        "3794 zhwiki 1960\n",
        "4753 zhwiki 1970\n",
        "6477 zhwiki 1980\n",
        "257"
       ]
      },
      {
       "output_type": "stream",
       "stream": "stdout",
       "text": [
        " zhwiki 1930\n",
        "389 zhwiki 1940\n",
        "624 zhwiki 1950\n",
        "543 zhwiki 1960\n",
        "257 zhwiki 1970\n",
        "299 zhwiki 1980\n",
        "4101"
       ]
      },
      {
       "output_type": "stream",
       "stream": "stdout",
       "text": [
        " dewiki 1930\n",
        "7107 dewiki 1940\n",
        "8671 dewiki 1950\n",
        "10194 dewiki 1960\n",
        "10401 dewiki 1970\n",
        "10982 dewiki 1980\n",
        "31003"
       ]
      },
      {
       "output_type": "stream",
       "stream": "stdout",
       "text": [
        " dewiki 1930\n",
        "37919 dewiki 1940\n",
        "35954"
       ]
      },
      {
       "output_type": "stream",
       "stream": "stdout",
       "text": [
        " dewiki 1950\n",
        "33389 dewiki 1960\n",
        "28342"
       ]
      },
      {
       "output_type": "stream",
       "stream": "stdout",
       "text": [
        " dewiki 1970\n",
        "29896 dewiki 1980\n",
        "0"
       ]
      },
      {
       "output_type": "stream",
       "stream": "stdout",
       "text": [
        " dewiki 1930\n",
        "0 dewiki 1940\n",
        "1 dewiki 1950\n",
        "1 dewiki 1960\n",
        "0 dewiki 1970\n",
        "0 dewiki 1980\n",
        "7338"
       ]
      },
      {
       "output_type": "stream",
       "stream": "stdout",
       "text": [
        " enwiki 1930\n",
        "12475 enwiki 1940\n",
        "15750 enwiki 1950\n",
        "17603 enwiki 1960\n",
        "20983"
       ]
      },
      {
       "output_type": "stream",
       "stream": "stdout",
       "text": [
        " enwiki 1970\n",
        "24977 enwiki 1980\n",
        "50168"
       ]
      },
      {
       "output_type": "stream",
       "stream": "stdout",
       "text": [
        " enwiki 1930\n",
        "67619"
       ]
      },
      {
       "output_type": "stream",
       "stream": "stdout",
       "text": [
        " enwiki 1940\n",
        "71683"
       ]
      },
      {
       "output_type": "stream",
       "stream": "stdout",
       "text": [
        " enwiki 1950\n",
        "71914"
       ]
      },
      {
       "output_type": "stream",
       "stream": "stdout",
       "text": [
        " enwiki 1960\n",
        "78598"
       ]
      },
      {
       "output_type": "stream",
       "stream": "stdout",
       "text": [
        " enwiki 1970\n",
        "96430"
       ]
      },
      {
       "output_type": "stream",
       "stream": "stdout",
       "text": [
        " enwiki 1980\n",
        "48"
       ]
      },
      {
       "output_type": "stream",
       "stream": "stdout",
       "text": [
        " enwiki 1930\n",
        "63 enwiki 1940\n",
        "88 enwiki 1950\n",
        "88 enwiki 1960\n",
        "92 enwiki 1970\n",
        "93 enwiki 1980\n",
        "215"
       ]
      },
      {
       "output_type": "stream",
       "stream": "stdout",
       "text": [
        " kowiki 1930\n",
        "397 kowiki 1940\n",
        "552 kowiki 1950\n",
        "920 kowiki 1960\n",
        "1454 kowiki 1970\n",
        "2056 kowiki 1980\n",
        "1405 kowiki 1930\n",
        "2172 kowiki 1940\n",
        "2240 kowiki 1950\n",
        "2913"
       ]
      },
      {
       "output_type": "stream",
       "stream": "stdout",
       "text": [
        " kowiki 1960\n",
        "3851 kowiki 1970\n",
        "5287 kowiki 1980\n",
        "8 kowiki 1930\n",
        "13 kowiki 1940\n",
        "20 kowiki 1950\n",
        "24 kowiki 1960\n",
        "37 kowiki 1970\n",
        "34 kowiki 1980\n"
       ]
      }
     ],
     "prompt_number": 40
    },
    {
     "cell_type": "markdown",
     "metadata": {},
     "source": [
      "then wait for the remote 200word summary task on labs under viafbot/inspection"
     ]
    },
    {
     "cell_type": "code",
     "collapsed": false,
     "input": [
      "!mkdir helpers/inspection/expanded_descriptions"
     ],
     "language": "python",
     "metadata": {},
     "outputs": [],
     "prompt_number": 42
    },
    {
     "cell_type": "code",
     "collapsed": false,
     "input": [
      "!scp wmflabs-tools:/home/maximilianklein/inspectionshortcut/output/* helpers/inspection/expanded_descriptions/."
     ],
     "language": "python",
     "metadata": {},
     "outputs": [
      {
       "output_type": "stream",
       "stream": "stdout",
       "text": [
        "\r\n",
        "If you are having access problems, please see: https://wikitech.wikimedia.org/wiki/Access#Accessing_public_and_private_instances\r\n"
       ]
      },
      {
       "output_type": "stream",
       "stream": "stdout",
       "text": [
        "\r",
        "dewiki_1930_female_descriptions.json            0%    0     0.0KB/s   --:-- ETA"
       ]
      },
      {
       "output_type": "stream",
       "stream": "stdout",
       "text": [
        "\r",
        "dewiki_1930_female_descriptions.json           47%  496KB 496.0KB/s   00:01 ETA"
       ]
      },
      {
       "output_type": "stream",
       "stream": "stdout",
       "text": [
        "\r",
        "dewiki_1930_female_descriptions.json          100% 1054KB   1.0MB/s   00:01    \r\n"
       ]
      },
      {
       "output_type": "stream",
       "stream": "stdout",
       "text": [
        "\r",
        "dewiki_1930_male_descriptions.json              0%    0     0.0KB/s   --:-- ETA"
       ]
      },
      {
       "output_type": "stream",
       "stream": "stdout",
       "text": [
        "\r",
        "dewiki_1930_male_descriptions.json             22%  592KB 592.0KB/s   00:03 ETA"
       ]
      },
      {
       "output_type": "stream",
       "stream": "stdout",
       "text": [
        "\r",
        "dewiki_1930_male_descriptions.json             46% 1200KB 593.6KB/s   00:02 ETA"
       ]
      },
      {
       "output_type": "stream",
       "stream": "stdout",
       "text": [
        "\r",
        "dewiki_1930_male_descriptions.json             70% 1840KB 598.2KB/s   00:01 ETA"
       ]
      },
      {
       "output_type": "stream",
       "stream": "stdout",
       "text": [
        "\r",
        "dewiki_1930_male_descriptions.json             95% 2480KB 602.4KB/s   00:00 ETA"
       ]
      },
      {
       "output_type": "stream",
       "stream": "stdout",
       "text": [
        "\r",
        "dewiki_1930_male_descriptions.json            100% 2604KB 650.9KB/s   00:04    \r\n"
       ]
      },
      {
       "output_type": "stream",
       "stream": "stdout",
       "text": [
        "\r",
        "dewiki_1940_female_descriptions.json            0%    0     0.0KB/s   --:-- ETA"
       ]
      },
      {
       "output_type": "stream",
       "stream": "stdout",
       "text": [
        "\r",
        "dewiki_1940_female_descriptions.json           23%  432KB 432.0KB/s   00:03 ETA"
       ]
      },
      {
       "output_type": "stream",
       "stream": "stdout",
       "text": [
        "\r",
        "dewiki_1940_female_descriptions.json           57% 1040KB 449.6KB/s   00:01 ETA"
       ]
      },
      {
       "output_type": "stream",
       "stream": "stdout",
       "text": [
        "\r",
        "dewiki_1940_female_descriptions.json           93% 1712KB 471.8KB/s   00:00 ETA"
       ]
      },
      {
       "output_type": "stream",
       "stream": "stdout",
       "text": [
        "\r",
        "dewiki_1940_female_descriptions.json          100% 1824KB 456.0KB/s   00:04    \r\n"
       ]
      },
      {
       "output_type": "stream",
       "stream": "stdout",
       "text": [
        "\r",
        "dewiki_1940_male_descriptions.json              0%    0     0.0KB/s   --:-- ETA"
       ]
      },
      {
       "output_type": "stream",
       "stream": "stdout",
       "text": [
        "\r",
        "dewiki_1940_male_descriptions.json             18%  464KB 464.0KB/s   00:04 ETA"
       ]
      },
      {
       "output_type": "stream",
       "stream": "stdout",
       "text": [
        "\r",
        "dewiki_1940_male_descriptions.json             41% 1072KB 478.4KB/s   00:03 ETA"
       ]
      },
      {
       "output_type": "stream",
       "stream": "stdout",
       "text": [
        "\r",
        "dewiki_1940_male_descriptions.json             68% 1744KB 497.8KB/s   00:01 ETA"
       ]
      },
      {
       "output_type": "stream",
       "stream": "stdout",
       "text": [
        "\r",
        "dewiki_1940_male_descriptions.json             93% 2384KB 512.0KB/s   00:00 ETA"
       ]
      },
      {
       "output_type": "stream",
       "stream": "stdout",
       "text": [
        "\r",
        "dewiki_1940_male_descriptions.json            100% 2556KB 638.9KB/s   00:04    \r\n"
       ]
      },
      {
       "output_type": "stream",
       "stream": "stdout",
       "text": [
        "\r",
        "dewiki_1950_female_descriptions.json            0%    0     0.0KB/s   --:-- ETA"
       ]
      },
      {
       "output_type": "stream",
       "stream": "stdout",
       "text": [
        "\r",
        "dewiki_1950_female_descriptions.json           17%  400KB 400.0KB/s   00:04 ETA"
       ]
      },
      {
       "output_type": "stream",
       "stream": "stdout",
       "text": [
        "\r",
        "dewiki_1950_female_descriptions.json           45% 1008KB 420.8KB/s   00:02 ETA"
       ]
      },
      {
       "output_type": "stream",
       "stream": "stdout",
       "text": [
        "\r",
        "dewiki_1950_female_descriptions.json           74% 1648KB 442.7KB/s   00:01 ETA"
       ]
      },
      {
       "output_type": "stream",
       "stream": "stdout",
       "text": [
        "\r",
        "dewiki_1950_female_descriptions.json          100% 2225KB 556.2KB/s   00:04    \r\n"
       ]
      },
      {
       "output_type": "stream",
       "stream": "stdout",
       "text": [
        "\r",
        "dewiki_1950_male_descriptions.json              0%    0     0.0KB/s   --:-- ETA"
       ]
      },
      {
       "output_type": "stream",
       "stream": "stdout",
       "text": [
        "\r",
        "dewiki_1950_male_descriptions.json             18%  464KB 464.0KB/s   00:04 ETA"
       ]
      },
      {
       "output_type": "stream",
       "stream": "stdout",
       "text": [
        "\r",
        "dewiki_1950_male_descriptions.json             40% 1040KB 475.2KB/s   00:03 ETA"
       ]
      },
      {
       "output_type": "stream",
       "stream": "stdout",
       "text": [
        "\r",
        "dewiki_1950_male_descriptions.json             64% 1648KB 488.5KB/s   00:01 ETA"
       ]
      },
      {
       "output_type": "stream",
       "stream": "stdout",
       "text": [
        "\r",
        "dewiki_1950_male_descriptions.json             89% 2288KB 503.6KB/s   00:00 ETA"
       ]
      },
      {
       "output_type": "stream",
       "stream": "stdout",
       "text": [
        "\r",
        "dewiki_1950_male_descriptions.json            100% 2562KB 512.3KB/s   00:05    \r\n"
       ]
      },
      {
       "output_type": "stream",
       "stream": "stdout",
       "text": [
        "\r",
        "dewiki_1950_nogender_descriptions.json          0%    0     0.0KB/s   --:-- ETA"
       ]
      },
      {
       "output_type": "stream",
       "stream": "stdout",
       "text": [
        "\r",
        "dewiki_1950_nogender_descriptions.json        100%  263     0.3KB/s   00:00    \r\n"
       ]
      },
      {
       "output_type": "stream",
       "stream": "stdout",
       "text": [
        "\r",
        "dewiki_1960_female_descriptions.json            0%    0     0.0KB/s   --:-- ETA"
       ]
      },
      {
       "output_type": "stream",
       "stream": "stdout",
       "text": [
        "\r",
        "dewiki_1960_female_descriptions.json           18%  464KB 464.0KB/s   00:04 ETA"
       ]
      },
      {
       "output_type": "stream",
       "stream": "stdout",
       "text": [
        "\r",
        "dewiki_1960_female_descriptions.json           41% 1072KB 478.4KB/s   00:03 ETA"
       ]
      },
      {
       "output_type": "stream",
       "stream": "stdout",
       "text": [
        "\r",
        "dewiki_1960_female_descriptions.json           66% 1712KB 494.6KB/s   00:01 ETA"
       ]
      },
      {
       "output_type": "stream",
       "stream": "stdout",
       "text": [
        "\r",
        "dewiki_1960_female_descriptions.json           91% 2352KB 509.1KB/s   00:00 ETA"
       ]
      },
      {
       "output_type": "stream",
       "stream": "stdout",
       "text": [
        "\r",
        "dewiki_1960_female_descriptions.json          100% 2563KB 640.8KB/s   00:04    \r\n"
       ]
      },
      {
       "output_type": "stream",
       "stream": "stdout",
       "text": [
        "\r",
        "dewiki_1960_male_descriptions.json              0%    0     0.0KB/s   --:-- ETA"
       ]
      },
      {
       "output_type": "stream",
       "stream": "stdout",
       "text": [
        "\r",
        "dewiki_1960_male_descriptions.json             16%  432KB 432.0KB/s   00:04 ETA"
       ]
      },
      {
       "output_type": "stream",
       "stream": "stdout",
       "text": [
        "\r",
        "dewiki_1960_male_descriptions.json             41% 1072KB 452.8KB/s   00:03 ETA"
       ]
      },
      {
       "output_type": "stream",
       "stream": "stdout",
       "text": [
        "\r",
        "dewiki_1960_male_descriptions.json             67% 1744KB 474.7KB/s   00:01 ETA"
       ]
      },
      {
       "output_type": "stream",
       "stream": "stdout",
       "text": [
        "\r",
        "dewiki_1960_male_descriptions.json             93% 2416KB 494.5KB/s   00:00 ETA"
       ]
      },
      {
       "output_type": "stream",
       "stream": "stdout",
       "text": [
        "\r",
        "dewiki_1960_male_descriptions.json            100% 2581KB 645.1KB/s   00:04    \r\n"
       ]
      },
      {
       "output_type": "stream",
       "stream": "stdout",
       "text": [
        "\r",
        "dewiki_1960_nogender_descriptions.json          0%    0     0.0KB/s   --:-- ETA"
       ]
      },
      {
       "output_type": "stream",
       "stream": "stdout",
       "text": [
        "\r",
        "dewiki_1960_nogender_descriptions.json        100%  257     0.3KB/s   00:00    \r\n"
       ]
      },
      {
       "output_type": "stream",
       "stream": "stdout",
       "text": [
        "\r",
        "dewiki_1970_female_descriptions.json            0%    0     0.0KB/s   --:-- ETA"
       ]
      },
      {
       "output_type": "stream",
       "stream": "stdout",
       "text": [
        "\r",
        "dewiki_1970_female_descriptions.json           18%  464KB 464.0KB/s   00:04 ETA"
       ]
      },
      {
       "output_type": "stream",
       "stream": "stdout",
       "text": [
        "\r",
        "dewiki_1970_female_descriptions.json           43% 1104KB 481.6KB/s   00:02 ETA"
       ]
      },
      {
       "output_type": "stream",
       "stream": "stdout",
       "text": [
        "\r",
        "dewiki_1970_female_descriptions.json           68% 1744KB 497.4KB/s   00:01 ETA"
       ]
      },
      {
       "output_type": "stream",
       "stream": "stdout",
       "text": [
        "\r",
        "dewiki_1970_female_descriptions.json           93% 2384KB 511.7KB/s   00:00 ETA"
       ]
      },
      {
       "output_type": "stream",
       "stream": "stdout",
       "text": [
        "\r",
        "dewiki_1970_female_descriptions.json          100% 2546KB 636.5KB/s   00:04    \r\n"
       ]
      },
      {
       "output_type": "stream",
       "stream": "stdout",
       "text": [
        "\r",
        "dewiki_1970_male_descriptions.json              0%    0     0.0KB/s   --:-- ETA"
       ]
      },
      {
       "output_type": "stream",
       "stream": "stdout",
       "text": [
        "\r",
        "dewiki_1970_male_descriptions.json             18%  464KB 464.0KB/s   00:04 ETA"
       ]
      },
      {
       "output_type": "stream",
       "stream": "stdout",
       "text": [
        "\r",
        "dewiki_1970_male_descriptions.json             41% 1072KB 478.4KB/s   00:03 ETA"
       ]
      },
      {
       "output_type": "stream",
       "stream": "stdout",
       "text": [
        "\r",
        "dewiki_1970_male_descriptions.json             65% 1680KB 491.4KB/s   00:01 ETA"
       ]
      },
      {
       "output_type": "stream",
       "stream": "stdout",
       "text": [
        "\r",
        "dewiki_1970_male_descriptions.json             90% 2320KB 506.2KB/s   00:00 ETA"
       ]
      },
      {
       "output_type": "stream",
       "stream": "stdout",
       "text": [
        "\r",
        "dewiki_1970_male_descriptions.json            100% 2574KB 643.6KB/s   00:04    \r\n"
       ]
      },
      {
       "output_type": "stream",
       "stream": "stdout",
       "text": [
        "\r",
        "dewiki_1980_female_descriptions.json            0%    0     0.0KB/s   --:-- ETA"
       ]
      },
      {
       "output_type": "stream",
       "stream": "stdout",
       "text": [
        "\r",
        "dewiki_1980_female_descriptions.json           18%  464KB 464.0KB/s   00:04 ETA"
       ]
      },
      {
       "output_type": "stream",
       "stream": "stdout",
       "text": [
        "\r",
        "dewiki_1980_female_descriptions.json           43% 1104KB 481.6KB/s   00:02 ETA"
       ]
      },
      {
       "output_type": "stream",
       "stream": "stdout",
       "text": [
        "\r",
        "dewiki_1980_female_descriptions.json           68% 1744KB 497.4KB/s   00:01 ETA"
       ]
      },
      {
       "output_type": "stream",
       "stream": "stdout",
       "text": [
        "\r",
        "dewiki_1980_female_descriptions.json           88% 2256KB 498.9KB/s   00:00 ETA"
       ]
      },
      {
       "output_type": "stream",
       "stream": "stdout",
       "text": [
        "\r",
        "dewiki_1980_female_descriptions.json          100% 2544KB 508.7KB/s   00:05    \r\n"
       ]
      },
      {
       "output_type": "stream",
       "stream": "stdout",
       "text": [
        "\r",
        "dewiki_1980_male_descriptions.json              0%    0     0.0KB/s   --:-- ETA"
       ]
      },
      {
       "output_type": "stream",
       "stream": "stdout",
       "text": [
        "\r",
        "dewiki_1980_male_descriptions.json              9%  256KB 128.0KB/s   00:18 ETA"
       ]
      },
      {
       "output_type": "stream",
       "stream": "stdout",
       "text": [
        "\r",
        "dewiki_1980_male_descriptions.json             22%  592KB 148.8KB/s   00:13 ETA"
       ]
      },
      {
       "output_type": "stream",
       "stream": "stdout",
       "text": [
        "\r",
        "dewiki_1980_male_descriptions.json             37%  976KB 172.3KB/s   00:09 ETA"
       ]
      },
      {
       "output_type": "stream",
       "stream": "stdout",
       "text": [
        "\r",
        "dewiki_1980_male_descriptions.json             52% 1360KB 193.5KB/s   00:06 ETA"
       ]
      },
      {
       "output_type": "stream",
       "stream": "stdout",
       "text": [
        "\r",
        "dewiki_1980_male_descriptions.json             78% 2032KB 241.3KB/s   00:02 ETA"
       ]
      },
      {
       "output_type": "stream",
       "stream": "stdout",
       "text": [
        "\r",
        "dewiki_1980_male_descriptions.json            100% 2595KB 432.5KB/s   00:06    \r\n"
       ]
      },
      {
       "output_type": "stream",
       "stream": "stdout",
       "text": [
        "\r",
        "enwiki_1930_female_descriptions.json            0%    0     0.0KB/s   --:-- ETA"
       ]
      },
      {
       "output_type": "stream",
       "stream": "stdout",
       "text": [
        "\r",
        "enwiki_1930_female_descriptions.json           24%  464KB 464.0KB/s   00:03 ETA"
       ]
      },
      {
       "output_type": "stream",
       "stream": "stdout",
       "text": [
        "\r",
        "enwiki_1930_female_descriptions.json           61% 1136KB 484.8KB/s   00:01 ETA"
       ]
      },
      {
       "output_type": "stream",
       "stream": "stdout",
       "text": [
        "\r",
        "enwiki_1930_female_descriptions.json          100% 1858KB 619.2KB/s   00:03    \r\n"
       ]
      },
      {
       "output_type": "stream",
       "stream": "stdout",
       "text": [
        "\r",
        "enwiki_1930_male_descriptions.json              0%    0     0.0KB/s   --:-- ETA"
       ]
      },
      {
       "output_type": "stream",
       "stream": "stdout",
       "text": [
        "\r",
        "enwiki_1930_male_descriptions.json             21%  528KB 528.0KB/s   00:03 ETA"
       ]
      },
      {
       "output_type": "stream",
       "stream": "stdout",
       "text": [
        "\r",
        "enwiki_1930_male_descriptions.json             46% 1168KB 539.2KB/s   00:02 ETA"
       ]
      },
      {
       "output_type": "stream",
       "stream": "stdout",
       "text": [
        "\r",
        "enwiki_1930_male_descriptions.json             76% 1904KB 558.9KB/s   00:01 ETA"
       ]
      },
      {
       "output_type": "stream",
       "stream": "stdout",
       "text": [
        "\r",
        "enwiki_1930_male_descriptions.json            100% 2505KB 626.2KB/s   00:04    \r\n"
       ]
      },
      {
       "output_type": "stream",
       "stream": "stdout",
       "text": [
        "\r",
        "enwiki_1930_nogender_descriptions.json          0%    0     0.0KB/s   --:-- ETA"
       ]
      },
      {
       "output_type": "stream",
       "stream": "stdout",
       "text": [
        "\r",
        "enwiki_1930_nogender_descriptions.json        100%   12KB  12.2KB/s   00:00    \r\n"
       ]
      },
      {
       "output_type": "stream",
       "stream": "stdout",
       "text": [
        "\r",
        "enwiki_1940_female_descriptions.json            0%    0     0.0KB/s   --:-- ETA"
       ]
      },
      {
       "output_type": "stream",
       "stream": "stdout",
       "text": [
        "\r",
        "enwiki_1940_female_descriptions.json           19%  496KB 496.0KB/s   00:04 ETA"
       ]
      },
      {
       "output_type": "stream",
       "stream": "stdout",
       "text": [
        "\r",
        "enwiki_1940_female_descriptions.json           44% 1136KB 510.4KB/s   00:02 ETA"
       ]
      },
      {
       "output_type": "stream",
       "stream": "stdout",
       "text": [
        "\r",
        "enwiki_1940_female_descriptions.json           74% 1872KB 533.0KB/s   00:01 ETA"
       ]
      },
      {
       "output_type": "stream",
       "stream": "stdout",
       "text": [
        "\r",
        "enwiki_1940_female_descriptions.json          100% 2528KB 842.7KB/s   00:03    \r\n"
       ]
      },
      {
       "output_type": "stream",
       "stream": "stdout",
       "text": [
        "\r",
        "enwiki_1940_male_descriptions.json              0%    0     0.0KB/s   --:-- ETA"
       ]
      },
      {
       "output_type": "stream",
       "stream": "stdout",
       "text": [
        "\r",
        "enwiki_1940_male_descriptions.json             19%  496KB 496.0KB/s   00:04 ETA"
       ]
      },
      {
       "output_type": "stream",
       "stream": "stdout",
       "text": [
        "\r",
        "enwiki_1940_male_descriptions.json             45% 1136KB 510.4KB/s   00:02 ETA"
       ]
      },
      {
       "output_type": "stream",
       "stream": "stdout",
       "text": [
        "\r",
        "enwiki_1940_male_descriptions.json             74% 1872KB 533.0KB/s   00:01 ETA"
       ]
      },
      {
       "output_type": "stream",
       "stream": "stdout",
       "text": [
        "\r",
        "enwiki_1940_male_descriptions.json            100% 2509KB 836.2KB/s   00:03    \r\n"
       ]
      },
      {
       "output_type": "stream",
       "stream": "stdout",
       "text": [
        "\r",
        "enwiki_1940_nogender_descriptions.json          0%    0     0.0KB/s   --:-- ETA"
       ]
      },
      {
       "output_type": "stream",
       "stream": "stdout",
       "text": [
        "\r",
        "enwiki_1940_nogender_descriptions.json        100%   16KB  16.0KB/s   00:00    \r\n"
       ]
      },
      {
       "output_type": "stream",
       "stream": "stdout",
       "text": [
        "\r",
        "enwiki_1950_female_descriptions.json            0%    0     0.0KB/s   --:-- ETA"
       ]
      },
      {
       "output_type": "stream",
       "stream": "stdout",
       "text": [
        "\r",
        "enwiki_1950_female_descriptions.json           19%  496KB 496.0KB/s   00:04 ETA"
       ]
      },
      {
       "output_type": "stream",
       "stream": "stdout",
       "text": [
        "\r",
        "enwiki_1950_female_descriptions.json           45% 1136KB 510.4KB/s   00:02 ETA"
       ]
      },
      {
       "output_type": "stream",
       "stream": "stdout",
       "text": [
        "\r",
        "enwiki_1950_female_descriptions.json           72% 1808KB 526.6KB/s   00:01 ETA"
       ]
      },
      {
       "output_type": "stream",
       "stream": "stdout",
       "text": [
        "\r",
        "enwiki_1950_female_descriptions.json          100% 2505KB 626.3KB/s   00:04    \r\n"
       ]
      },
      {
       "output_type": "stream",
       "stream": "stdout",
       "text": [
        "\r",
        "enwiki_1950_male_descriptions.json              0%    0     0.0KB/s   --:-- ETA"
       ]
      },
      {
       "output_type": "stream",
       "stream": "stdout",
       "text": [
        "\r",
        "enwiki_1950_male_descriptions.json             20%  528KB 528.0KB/s   00:03 ETA"
       ]
      },
      {
       "output_type": "stream",
       "stream": "stdout",
       "text": [
        "\r",
        "enwiki_1950_male_descriptions.json             46% 1168KB 539.2KB/s   00:02 ETA"
       ]
      },
      {
       "output_type": "stream",
       "stream": "stdout",
       "text": [
        "\r",
        "enwiki_1950_male_descriptions.json             75% 1904KB 558.9KB/s   00:01 ETA"
       ]
      },
      {
       "output_type": "stream",
       "stream": "stdout",
       "text": [
        "\r",
        "enwiki_1950_male_descriptions.json            100% 2528KB 632.0KB/s   00:04    \r\n"
       ]
      },
      {
       "output_type": "stream",
       "stream": "stdout",
       "text": [
        "\r",
        "enwiki_1950_nogender_descriptions.json          0%    0     0.0KB/s   --:-- ETA"
       ]
      },
      {
       "output_type": "stream",
       "stream": "stdout",
       "text": [
        "\r",
        "enwiki_1950_nogender_descriptions.json        100%   22KB  21.9KB/s   00:00    \r\n"
       ]
      },
      {
       "output_type": "stream",
       "stream": "stdout",
       "text": [
        "\r",
        "enwiki_1960_female_descriptions.json            0%    0     0.0KB/s   --:-- ETA"
       ]
      },
      {
       "output_type": "stream",
       "stream": "stdout",
       "text": [
        "\r",
        "enwiki_1960_female_descriptions.json           20%  528KB 528.0KB/s   00:03 ETA"
       ]
      },
      {
       "output_type": "stream",
       "stream": "stdout",
       "text": [
        "\r",
        "enwiki_1960_female_descriptions.json           46% 1168KB 539.2KB/s   00:02 ETA"
       ]
      },
      {
       "output_type": "stream",
       "stream": "stdout",
       "text": [
        "\r",
        "enwiki_1960_female_descriptions.json           75% 1904KB 558.9KB/s   00:01 ETA"
       ]
      },
      {
       "output_type": "stream",
       "stream": "stdout",
       "text": [
        "\r",
        "enwiki_1960_female_descriptions.json          100% 2524KB 631.1KB/s   00:04    \r\n"
       ]
      },
      {
       "output_type": "stream",
       "stream": "stdout",
       "text": [
        "\r",
        "enwiki_1960_male_descriptions.json              0%    0     0.0KB/s   --:-- ETA"
       ]
      },
      {
       "output_type": "stream",
       "stream": "stdout",
       "text": [
        "\r",
        "enwiki_1960_male_descriptions.json             19%  496KB 496.0KB/s   00:04 ETA"
       ]
      },
      {
       "output_type": "stream",
       "stream": "stdout",
       "text": [
        "\r",
        "enwiki_1960_male_descriptions.json             46% 1168KB 513.6KB/s   00:02 ETA"
       ]
      },
      {
       "output_type": "stream",
       "stream": "stdout",
       "text": [
        "\r",
        "enwiki_1960_male_descriptions.json             75% 1904KB 535.8KB/s   00:01 ETA"
       ]
      },
      {
       "output_type": "stream",
       "stream": "stdout",
       "text": [
        "\r",
        "enwiki_1960_male_descriptions.json            100% 2518KB 629.6KB/s   00:04    \r\n"
       ]
      },
      {
       "output_type": "stream",
       "stream": "stdout",
       "text": [
        "\r",
        "enwiki_1960_nogender_descriptions.json          0%    0     0.0KB/s   --:-- ETA"
       ]
      },
      {
       "output_type": "stream",
       "stream": "stdout",
       "text": [
        "\r",
        "enwiki_1960_nogender_descriptions.json        100%   21KB  21.2KB/s   00:00    \r\n"
       ]
      },
      {
       "output_type": "stream",
       "stream": "stdout",
       "text": [
        "\r",
        "enwiki_1970_female_descriptions.json            0%    0     0.0KB/s   --:-- ETA"
       ]
      },
      {
       "output_type": "stream",
       "stream": "stdout",
       "text": [
        "\r",
        "enwiki_1970_female_descriptions.json           19%  496KB 496.0KB/s   00:04 ETA"
       ]
      },
      {
       "output_type": "stream",
       "stream": "stdout",
       "text": [
        "\r",
        "enwiki_1970_female_descriptions.json           46% 1168KB 513.6KB/s   00:02 ETA"
       ]
      },
      {
       "output_type": "stream",
       "stream": "stdout",
       "text": [
        "\r",
        "enwiki_1970_female_descriptions.json           75% 1904KB 535.8KB/s   00:01 ETA"
       ]
      },
      {
       "output_type": "stream",
       "stream": "stdout",
       "text": [
        "\r",
        "enwiki_1970_female_descriptions.json          100% 2534KB 633.4KB/s   00:04    \r\n"
       ]
      },
      {
       "output_type": "stream",
       "stream": "stdout",
       "text": [
        "\r",
        "enwiki_1970_male_descriptions.json              0%    0     0.0KB/s   --:-- ETA"
       ]
      },
      {
       "output_type": "stream",
       "stream": "stdout",
       "text": [
        "\r",
        "enwiki_1970_male_descriptions.json             20%  528KB 528.0KB/s   00:03 ETA"
       ]
      },
      {
       "output_type": "stream",
       "stream": "stdout",
       "text": [
        "\r",
        "enwiki_1970_male_descriptions.json             46% 1168KB 539.2KB/s   00:02 ETA"
       ]
      },
      {
       "output_type": "stream",
       "stream": "stdout",
       "text": [
        "\r",
        "enwiki_1970_male_descriptions.json             73% 1872KB 555.7KB/s   00:01 ETA"
       ]
      },
      {
       "output_type": "stream",
       "stream": "stdout",
       "text": [
        "\r",
        "enwiki_1970_male_descriptions.json            100% 2530KB 632.4KB/s   00:04    \r\n"
       ]
      },
      {
       "output_type": "stream",
       "stream": "stdout",
       "text": [
        "\r",
        "enwiki_1970_nogender_descriptions.json          0%    0     0.0KB/s   --:-- ETA"
       ]
      },
      {
       "output_type": "stream",
       "stream": "stdout",
       "text": [
        "\r",
        "enwiki_1970_nogender_descriptions.json        100%   22KB  22.2KB/s   00:00    \r\n"
       ]
      },
      {
       "output_type": "stream",
       "stream": "stdout",
       "text": [
        "\r",
        "enwiki_1980_female_descriptions.json            0%    0     0.0KB/s   --:-- ETA"
       ]
      },
      {
       "output_type": "stream",
       "stream": "stdout",
       "text": [
        "\r",
        "enwiki_1980_female_descriptions.json           19%  496KB 496.0KB/s   00:04 ETA"
       ]
      },
      {
       "output_type": "stream",
       "stream": "stdout",
       "text": [
        "\r",
        "enwiki_1980_female_descriptions.json           44% 1104KB 507.2KB/s   00:02 ETA"
       ]
      },
      {
       "output_type": "stream",
       "stream": "stdout",
       "text": [
        "\r",
        "enwiki_1980_female_descriptions.json           73% 1840KB 530.1KB/s   00:01 ETA"
       ]
      },
      {
       "output_type": "stream",
       "stream": "stdout",
       "text": [
        "\r",
        "enwiki_1980_female_descriptions.json          100% 2494KB 623.6KB/s   00:04    \r\n"
       ]
      },
      {
       "output_type": "stream",
       "stream": "stdout",
       "text": [
        "\r",
        "enwiki_1980_male_descriptions.json              0%    0     0.0KB/s   --:-- ETA"
       ]
      },
      {
       "output_type": "stream",
       "stream": "stdout",
       "text": [
        "\r",
        "enwiki_1980_male_descriptions.json              8%  224KB 224.0KB/s   00:10 ETA"
       ]
      },
      {
       "output_type": "stream",
       "stream": "stdout",
       "text": [
        "\r",
        "enwiki_1980_male_descriptions.json             36%  928KB 272.0KB/s   00:05 ETA"
       ]
      },
      {
       "output_type": "stream",
       "stream": "stdout",
       "text": [
        "\r",
        "enwiki_1980_male_descriptions.json             68% 1728KB 324.8KB/s   00:02 ETA"
       ]
      },
      {
       "output_type": "stream",
       "stream": "stdout",
       "text": [
        "\r",
        "enwiki_1980_male_descriptions.json            100% 2528KB 632.0KB/s   00:04    \r\n"
       ]
      },
      {
       "output_type": "stream",
       "stream": "stdout",
       "text": [
        "\r",
        "enwiki_1980_nogender_descriptions.json          0%    0     0.0KB/s   --:-- ETA"
       ]
      },
      {
       "output_type": "stream",
       "stream": "stdout",
       "text": [
        "\r",
        "enwiki_1980_nogender_descriptions.json        100%   22KB  22.4KB/s   00:00    \r\n"
       ]
      },
      {
       "output_type": "stream",
       "stream": "stdout",
       "text": [
        "\r",
        "jawiki_1930_female_descriptions.json            0%    0     0.0KB/s   --:-- ETA"
       ]
      },
      {
       "output_type": "stream",
       "stream": "stdout",
       "text": [
        "\r",
        "jawiki_1930_female_descriptions.json          100%  228KB 228.1KB/s   00:01    \r\n"
       ]
      },
      {
       "output_type": "stream",
       "stream": "stdout",
       "text": [
        "\r",
        "jawiki_1930_male_descriptions.json              0%    0     0.0KB/s   --:-- ETA"
       ]
      },
      {
       "output_type": "stream",
       "stream": "stdout",
       "text": [
        "\r",
        "jawiki_1930_male_descriptions.json             19%  272KB 272.0KB/s   00:04 ETA"
       ]
      },
      {
       "output_type": "stream",
       "stream": "stdout",
       "text": [
        "\r",
        "jawiki_1930_male_descriptions.json             83% 1184KB 336.0KB/s   00:00 ETA"
       ]
      },
      {
       "output_type": "stream",
       "stream": "stdout",
       "text": [
        "\r",
        "jawiki_1930_male_descriptions.json            100% 1426KB 712.8KB/s   00:02    \r\n"
       ]
      },
      {
       "output_type": "stream",
       "stream": "stdout",
       "text": [
        "\r",
        "jawiki_1930_nogender_descriptions.json          0%    0     0.0KB/s   --:-- ETA"
       ]
      },
      {
       "output_type": "stream",
       "stream": "stdout",
       "text": [
        "\r",
        "jawiki_1930_nogender_descriptions.json        100%  354KB 354.2KB/s   00:01    \r\n"
       ]
      },
      {
       "output_type": "stream",
       "stream": "stdout",
       "text": [
        "\r",
        "jawiki_1940_female_descriptions.json            0%    0     0.0KB/s   --:-- ETA"
       ]
      },
      {
       "output_type": "stream",
       "stream": "stdout",
       "text": [
        "\r",
        "jawiki_1940_female_descriptions.json          100%  363KB 363.0KB/s   00:01    \r\n"
       ]
      },
      {
       "output_type": "stream",
       "stream": "stdout",
       "text": [
        "\r",
        "jawiki_1940_male_descriptions.json              0%    0     0.0KB/s   --:-- ETA"
       ]
      },
      {
       "output_type": "stream",
       "stream": "stdout",
       "text": [
        "\r",
        "jawiki_1940_male_descriptions.json             22%  432KB 432.0KB/s   00:03 ETA"
       ]
      },
      {
       "output_type": "stream",
       "stream": "stdout",
       "text": [
        "\r",
        "jawiki_1940_male_descriptions.json             47%  912KB 436.8KB/s   00:02 ETA"
       ]
      },
      {
       "output_type": "stream",
       "stream": "stdout",
       "text": [
        "\r",
        "jawiki_1940_male_descriptions.json             73% 1392KB 441.1KB/s   00:01 ETA"
       ]
      },
      {
       "output_type": "stream",
       "stream": "stdout",
       "text": [
        "\r",
        "jawiki_1940_male_descriptions.json            100% 1902KB 475.6KB/s   00:04    \r\n"
       ]
      },
      {
       "output_type": "stream",
       "stream": "stdout",
       "text": [
        "\r",
        "jawiki_1940_nogender_descriptions.json          0%    0     0.0KB/s   --:-- ETA"
       ]
      },
      {
       "output_type": "stream",
       "stream": "stdout",
       "text": [
        "\r",
        "jawiki_1940_nogender_descriptions.json        100%  443KB 443.5KB/s   00:01    \r\n"
       ]
      },
      {
       "output_type": "stream",
       "stream": "stdout",
       "text": [
        "\r",
        "jawiki_1950_female_descriptions.json            0%    0     0.0KB/s   --:-- ETA"
       ]
      },
      {
       "output_type": "stream",
       "stream": "stdout",
       "text": [
        "\r",
        "jawiki_1950_female_descriptions.json           95%  432KB 432.0KB/s   00:00 ETA"
       ]
      },
      {
       "output_type": "stream",
       "stream": "stdout",
       "text": [
        "\r",
        "jawiki_1950_female_descriptions.json          100%  452KB 451.7KB/s   00:01    \r\n"
       ]
      },
      {
       "output_type": "stream",
       "stream": "stdout",
       "text": [
        "\r",
        "jawiki_1950_male_descriptions.json              0%    0     0.0KB/s   --:-- ETA"
       ]
      },
      {
       "output_type": "stream",
       "stream": "stdout",
       "text": [
        "\r",
        "jawiki_1950_male_descriptions.json             26%  496KB 496.0KB/s   00:02 ETA"
       ]
      },
      {
       "output_type": "stream",
       "stream": "stdout",
       "text": [
        "\r",
        "jawiki_1950_male_descriptions.json             57% 1104KB 507.2KB/s   00:01 ETA"
       ]
      },
      {
       "output_type": "stream",
       "stream": "stdout",
       "text": [
        "\r",
        "jawiki_1950_male_descriptions.json             88% 1680KB 514.1KB/s   00:00 ETA"
       ]
      },
      {
       "output_type": "stream",
       "stream": "stdout",
       "text": [
        "\r",
        "jawiki_1950_male_descriptions.json            100% 1904KB 634.6KB/s   00:03    \r\n"
       ]
      },
      {
       "output_type": "stream",
       "stream": "stdout",
       "text": [
        "\r",
        "jawiki_1950_nogender_descriptions.json          0%    0     0.0KB/s   --:-- ETA"
       ]
      },
      {
       "output_type": "stream",
       "stream": "stdout",
       "text": [
        "\r",
        "jawiki_1950_nogender_descriptions.json        100%  398KB 398.3KB/s   00:01    \r\n"
       ]
      },
      {
       "output_type": "stream",
       "stream": "stdout",
       "text": [
        "\r",
        "jawiki_1960_female_descriptions.json            0%    0     0.0KB/s   --:-- ETA"
       ]
      },
      {
       "output_type": "stream",
       "stream": "stdout",
       "text": [
        "\r",
        "jawiki_1960_female_descriptions.json           72%  496KB 496.0KB/s   00:00 ETA"
       ]
      },
      {
       "output_type": "stream",
       "stream": "stdout",
       "text": [
        "\r",
        "jawiki_1960_female_descriptions.json          100%  681KB 340.5KB/s   00:02    \r\n"
       ]
      },
      {
       "output_type": "stream",
       "stream": "stdout",
       "text": [
        "\r",
        "jawiki_1960_male_descriptions.json              0%    0     0.0KB/s   --:-- ETA"
       ]
      },
      {
       "output_type": "stream",
       "stream": "stdout",
       "text": [
        "\r",
        "jawiki_1960_male_descriptions.json             19%  432KB 432.0KB/s   00:04 ETA"
       ]
      },
      {
       "output_type": "stream",
       "stream": "stdout",
       "text": [
        "\r",
        "jawiki_1960_male_descriptions.json             46% 1008KB 446.4KB/s   00:02 ETA"
       ]
      },
      {
       "output_type": "stream",
       "stream": "stdout",
       "text": [
        "\r",
        "jawiki_1960_male_descriptions.json             72% 1584KB 459.4KB/s   00:01 ETA"
       ]
      },
      {
       "output_type": "stream",
       "stream": "stdout",
       "text": [
        "\r",
        "jawiki_1960_male_descriptions.json            100% 2177KB 544.2KB/s   00:04    \r\n"
       ]
      },
      {
       "output_type": "stream",
       "stream": "stdout",
       "text": [
        "\r",
        "jawiki_1960_nogender_descriptions.json          0%    0     0.0KB/s   --:-- ETA"
       ]
      },
      {
       "output_type": "stream",
       "stream": "stdout",
       "text": [
        "\r",
        "jawiki_1960_nogender_descriptions.json        100%  394KB 394.4KB/s   00:01    \r\n"
       ]
      },
      {
       "output_type": "stream",
       "stream": "stdout",
       "text": [
        "\r",
        "jawiki_1970_female_descriptions.json            0%    0     0.0KB/s   --:-- ETA"
       ]
      },
      {
       "output_type": "stream",
       "stream": "stdout",
       "text": [
        "\r",
        "jawiki_1970_female_descriptions.json           47%  464KB 464.0KB/s   00:01 ETA"
       ]
      },
      {
       "output_type": "stream",
       "stream": "stdout",
       "text": [
        "\r",
        "jawiki_1970_female_descriptions.json          100%  984KB 492.0KB/s   00:02    \r\n"
       ]
      },
      {
       "output_type": "stream",
       "stream": "stdout",
       "text": [
        "\r",
        "jawiki_1970_male_descriptions.json              0%    0     0.0KB/s   --:-- ETA"
       ]
      },
      {
       "output_type": "stream",
       "stream": "stdout",
       "text": [
        "\r",
        "jawiki_1970_male_descriptions.json             14%  400KB 400.0KB/s   00:05 ETA"
       ]
      },
      {
       "output_type": "stream",
       "stream": "stdout",
       "text": [
        "\r",
        "jawiki_1970_male_descriptions.json             34%  944KB 414.4KB/s   00:04 ETA"
       ]
      },
      {
       "output_type": "stream",
       "stream": "stdout",
       "text": [
        "\r",
        "jawiki_1970_male_descriptions.json             56% 1520KB 430.6KB/s   00:02 ETA"
       ]
      },
      {
       "output_type": "stream",
       "stream": "stdout",
       "text": [
        "\r",
        "jawiki_1970_male_descriptions.json             77% 2096KB 445.1KB/s   00:01 ETA"
       ]
      },
      {
       "output_type": "stream",
       "stream": "stdout",
       "text": [
        "\r",
        "jawiki_1970_male_descriptions.json             98% 2672KB 458.2KB/s   00:00 ETA"
       ]
      },
      {
       "output_type": "stream",
       "stream": "stdout",
       "text": [
        "\r",
        "jawiki_1970_male_descriptions.json            100% 2705KB 541.0KB/s   00:05    \r\n"
       ]
      },
      {
       "output_type": "stream",
       "stream": "stdout",
       "text": [
        "\r",
        "jawiki_1970_nogender_descriptions.json          0%    0     0.0KB/s   --:-- ETA"
       ]
      },
      {
       "output_type": "stream",
       "stream": "stdout",
       "text": [
        "\r",
        "jawiki_1970_nogender_descriptions.json        100%  387KB 387.5KB/s   00:01    \r\n"
       ]
      },
      {
       "output_type": "stream",
       "stream": "stdout",
       "text": [
        "\r",
        "jawiki_1980_female_descriptions.json            0%    0     0.0KB/s   --:-- ETA"
       ]
      },
      {
       "output_type": "stream",
       "stream": "stdout",
       "text": [
        "\r",
        "jawiki_1980_female_descriptions.json           32%  496KB 496.0KB/s   00:02 ETA"
       ]
      },
      {
       "output_type": "stream",
       "stream": "stdout",
       "text": [
        "\r",
        "jawiki_1980_female_descriptions.json           74% 1136KB 510.4KB/s   00:00 ETA"
       ]
      },
      {
       "output_type": "stream",
       "stream": "stdout",
       "text": [
        "\r",
        "jawiki_1980_female_descriptions.json          100% 1522KB 760.9KB/s   00:02    \r\n"
       ]
      },
      {
       "output_type": "stream",
       "stream": "stdout",
       "text": [
        "\r",
        "jawiki_1980_male_descriptions.json              0%    0     0.0KB/s   --:-- ETA"
       ]
      },
      {
       "output_type": "stream",
       "stream": "stdout",
       "text": [
        "\r",
        "jawiki_1980_male_descriptions.json             15%  432KB 432.0KB/s   00:05 ETA"
       ]
      },
      {
       "output_type": "stream",
       "stream": "stdout",
       "text": [
        "\r",
        "jawiki_1980_male_descriptions.json             37% 1008KB 446.4KB/s   00:03 ETA"
       ]
      },
      {
       "output_type": "stream",
       "stream": "stdout",
       "text": [
        "\r",
        "jawiki_1980_male_descriptions.json             58% 1584KB 459.4KB/s   00:02 ETA"
       ]
      },
      {
       "output_type": "stream",
       "stream": "stdout",
       "text": [
        "\r",
        "jawiki_1980_male_descriptions.json             79% 2160KB 471.0KB/s   00:01 ETA"
       ]
      },
      {
       "output_type": "stream",
       "stream": "stdout",
       "text": [
        "\r",
        "jawiki_1980_male_descriptions.json            100% 2710KB 677.5KB/s   00:04    \r\n"
       ]
      },
      {
       "output_type": "stream",
       "stream": "stdout",
       "text": [
        "\r",
        "jawiki_1980_nogender_descriptions.json          0%    0     0.0KB/s   --:-- ETA"
       ]
      },
      {
       "output_type": "stream",
       "stream": "stdout",
       "text": [
        "\r",
        "jawiki_1980_nogender_descriptions.json        100%  296KB 296.5KB/s   00:00    \r\n"
       ]
      },
      {
       "output_type": "stream",
       "stream": "stdout",
       "text": [
        "\r",
        "kowiki_1930_female_descriptions.json            0%    0     0.0KB/s   --:-- ETA"
       ]
      },
      {
       "output_type": "stream",
       "stream": "stdout",
       "text": [
        "\r",
        "kowiki_1930_female_descriptions.json          100%   56KB  56.4KB/s   00:01    \r\n"
       ]
      },
      {
       "output_type": "stream",
       "stream": "stdout",
       "text": [
        "\r",
        "kowiki_1930_male_descriptions.json              0%    0     0.0KB/s   --:-- ETA"
       ]
      },
      {
       "output_type": "stream",
       "stream": "stdout",
       "text": [
        "\r",
        "kowiki_1930_male_descriptions.json            100%  368KB 367.7KB/s   00:00    \r\n"
       ]
      },
      {
       "output_type": "stream",
       "stream": "stdout",
       "text": [
        "\r",
        "kowiki_1930_nogender_descriptions.json          0%    0     0.0KB/s   --:-- ETA"
       ]
      },
      {
       "output_type": "stream",
       "stream": "stdout",
       "text": [
        "\r",
        "kowiki_1930_nogender_descriptions.json        100% 6241     6.1KB/s   00:01    \r\n"
       ]
      },
      {
       "output_type": "stream",
       "stream": "stdout",
       "text": [
        "\r",
        "kowiki_1940_female_descriptions.json            0%    0     0.0KB/s   --:-- ETA"
       ]
      },
      {
       "output_type": "stream",
       "stream": "stdout",
       "text": [
        "\r",
        "kowiki_1940_female_descriptions.json          100%  102KB 102.4KB/s   00:00    \r\n"
       ]
      },
      {
       "output_type": "stream",
       "stream": "stdout",
       "text": [
        "\r",
        "kowiki_1940_male_descriptions.json              0%    0     0.0KB/s   --:-- ETA"
       ]
      },
      {
       "output_type": "stream",
       "stream": "stdout",
       "text": [
        "\r",
        "kowiki_1940_male_descriptions.json             81%  464KB 464.0KB/s   00:00 ETA"
       ]
      },
      {
       "output_type": "stream",
       "stream": "stdout",
       "text": [
        "\r",
        "kowiki_1940_male_descriptions.json            100%  567KB 567.0KB/s   00:01    \r\n"
       ]
      },
      {
       "output_type": "stream",
       "stream": "stdout",
       "text": [
        "\r",
        "kowiki_1940_nogender_descriptions.json          0%    0     0.0KB/s   --:-- ETA"
       ]
      },
      {
       "output_type": "stream",
       "stream": "stdout",
       "text": [
        "\r",
        "kowiki_1940_nogender_descriptions.json        100%   10KB  10.2KB/s   00:00    \r\n"
       ]
      },
      {
       "output_type": "stream",
       "stream": "stdout",
       "text": [
        "\r",
        "kowiki_1950_female_descriptions.json            0%    0     0.0KB/s   --:-- ETA"
       ]
      },
      {
       "output_type": "stream",
       "stream": "stdout",
       "text": [
        "\r",
        "kowiki_1950_female_descriptions.json          100%  144KB 144.3KB/s   00:00    \r\n"
       ]
      },
      {
       "output_type": "stream",
       "stream": "stdout",
       "text": [
        "\r",
        "kowiki_1950_male_descriptions.json              0%    0     0.0KB/s   --:-- ETA"
       ]
      },
      {
       "output_type": "stream",
       "stream": "stdout",
       "text": [
        "\r",
        "kowiki_1950_male_descriptions.json             30%  176KB 176.0KB/s   00:02 ETA"
       ]
      },
      {
       "output_type": "stream",
       "stream": "stdout",
       "text": [
        "\r",
        "kowiki_1950_male_descriptions.json            100%  584KB 292.2KB/s   00:02    \r\n"
       ]
      },
      {
       "output_type": "stream",
       "stream": "stdout",
       "text": [
        "\r",
        "kowiki_1950_nogender_descriptions.json          0%    0     0.0KB/s   --:-- ETA"
       ]
      },
      {
       "output_type": "stream",
       "stream": "stdout",
       "text": [
        "\r",
        "kowiki_1950_nogender_descriptions.json        100%   16KB  15.8KB/s   00:00    \r\n"
       ]
      },
      {
       "output_type": "stream",
       "stream": "stdout",
       "text": [
        "\r",
        "kowiki_1960_female_descriptions.json            0%    0     0.0KB/s   --:-- ETA"
       ]
      },
      {
       "output_type": "stream",
       "stream": "stdout",
       "text": [
        "\r",
        "kowiki_1960_female_descriptions.json          100%  236KB 235.8KB/s   00:01    \r\n"
       ]
      },
      {
       "output_type": "stream",
       "stream": "stdout",
       "text": [
        "\r",
        "kowiki_1960_male_descriptions.json              0%    0     0.0KB/s   --:-- ETA"
       ]
      },
      {
       "output_type": "stream",
       "stream": "stdout",
       "text": [
        "\r",
        "kowiki_1960_male_descriptions.json             48%  368KB 368.0KB/s   00:01 ETA"
       ]
      },
      {
       "output_type": "stream",
       "stream": "stdout",
       "text": [
        "\r",
        "kowiki_1960_male_descriptions.json            100%  751KB 375.6KB/s   00:02    \r\n"
       ]
      },
      {
       "output_type": "stream",
       "stream": "stdout",
       "text": [
        "\r",
        "kowiki_1960_nogender_descriptions.json          0%    0     0.0KB/s   --:-- ETA"
       ]
      },
      {
       "output_type": "stream",
       "stream": "stdout",
       "text": [
        "\r",
        "kowiki_1960_nogender_descriptions.json        100%   18KB  17.7KB/s   00:00    \r\n"
       ]
      },
      {
       "output_type": "stream",
       "stream": "stdout",
       "text": [
        "\r",
        "kowiki_1970_female_descriptions.json            0%    0     0.0KB/s   --:-- ETA"
       ]
      },
      {
       "output_type": "stream",
       "stream": "stdout",
       "text": [
        "\r",
        "kowiki_1970_female_descriptions.json          100%  375KB 374.6KB/s   00:01    \r\n"
       ]
      },
      {
       "output_type": "stream",
       "stream": "stdout",
       "text": [
        "\r",
        "kowiki_1970_male_descriptions.json              0%    0     0.0KB/s   --:-- ETA"
       ]
      },
      {
       "output_type": "stream",
       "stream": "stdout",
       "text": [
        "\r",
        "kowiki_1970_male_descriptions.json             56%  560KB 560.0KB/s   00:00 ETA"
       ]
      },
      {
       "output_type": "stream",
       "stream": "stdout",
       "text": [
        "\r",
        "kowiki_1970_male_descriptions.json            100%  984KB 491.8KB/s   00:02    \r\n"
       ]
      },
      {
       "output_type": "stream",
       "stream": "stdout",
       "text": [
        "\r",
        "kowiki_1970_nogender_descriptions.json          0%    0     0.0KB/s   --:-- ETA"
       ]
      },
      {
       "output_type": "stream",
       "stream": "stdout",
       "text": [
        "\r",
        "kowiki_1970_nogender_descriptions.json        100%   27KB  26.6KB/s   00:00    \r\n"
       ]
      },
      {
       "output_type": "stream",
       "stream": "stdout",
       "text": [
        "\r",
        "kowiki_1980_female_descriptions.json            0%    0     0.0KB/s   --:-- ETA"
       ]
      },
      {
       "output_type": "stream",
       "stream": "stdout",
       "text": [
        "\r",
        "kowiki_1980_female_descriptions.json          100%  548KB 548.4KB/s   00:01    \r\n"
       ]
      },
      {
       "output_type": "stream",
       "stream": "stdout",
       "text": [
        "\r",
        "kowiki_1980_male_descriptions.json              0%    0     0.0KB/s   --:-- ETA"
       ]
      },
      {
       "output_type": "stream",
       "stream": "stdout",
       "text": [
        "\r",
        "kowiki_1980_male_descriptions.json             41%  560KB 560.0KB/s   00:01 ETA"
       ]
      },
      {
       "output_type": "stream",
       "stream": "stdout",
       "text": [
        "\r",
        "kowiki_1980_male_descriptions.json             90% 1232KB 571.2KB/s   00:00 ETA"
       ]
      },
      {
       "output_type": "stream",
       "stream": "stdout",
       "text": [
        "\r",
        "kowiki_1980_male_descriptions.json            100% 1360KB 679.9KB/s   00:02    \r\n"
       ]
      },
      {
       "output_type": "stream",
       "stream": "stdout",
       "text": [
        "\r",
        "kowiki_1980_nogender_descriptions.json          0%    0     0.0KB/s   --:-- ETA"
       ]
      },
      {
       "output_type": "stream",
       "stream": "stdout",
       "text": [
        "\r",
        "kowiki_1980_nogender_descriptions.json        100%   22KB  21.8KB/s   00:00    \r\n"
       ]
      },
      {
       "output_type": "stream",
       "stream": "stdout",
       "text": [
        "\r",
        "tlwiki_1930_female_descriptions.json            0%    0     0.0KB/s   --:-- ETA"
       ]
      },
      {
       "output_type": "stream",
       "stream": "stdout",
       "text": [
        "\r",
        "tlwiki_1930_female_descriptions.json          100%   44KB  43.8KB/s   00:00    \r\n"
       ]
      },
      {
       "output_type": "stream",
       "stream": "stdout",
       "text": [
        "\r",
        "tlwiki_1930_male_descriptions.json              0%    0     0.0KB/s   --:-- ETA"
       ]
      },
      {
       "output_type": "stream",
       "stream": "stdout",
       "text": [
        "\r",
        "tlwiki_1930_male_descriptions.json            100%   90KB  89.9KB/s   00:00    \r\n"
       ]
      },
      {
       "output_type": "stream",
       "stream": "stdout",
       "text": [
        "\r",
        "tlwiki_1940_female_descriptions.json            0%    0     0.0KB/s   --:-- ETA"
       ]
      },
      {
       "output_type": "stream",
       "stream": "stdout",
       "text": [
        "\r",
        "tlwiki_1940_female_descriptions.json          100%   58KB  58.4KB/s   00:00    \r\n"
       ]
      },
      {
       "output_type": "stream",
       "stream": "stdout",
       "text": [
        "\r",
        "tlwiki_1940_male_descriptions.json              0%    0     0.0KB/s   --:-- ETA"
       ]
      },
      {
       "output_type": "stream",
       "stream": "stdout",
       "text": [
        "\r",
        "tlwiki_1940_male_descriptions.json            100%  120KB 119.9KB/s   00:01    \r\n"
       ]
      },
      {
       "output_type": "stream",
       "stream": "stdout",
       "text": [
        "\r",
        "tlwiki_1940_nogender_descriptions.json          0%    0     0.0KB/s   --:-- ETA"
       ]
      },
      {
       "output_type": "stream",
       "stream": "stdout",
       "text": [
        "\r",
        "tlwiki_1940_nogender_descriptions.json        100%  143     0.1KB/s   00:00    \r\n"
       ]
      },
      {
       "output_type": "stream",
       "stream": "stdout",
       "text": [
        "\r",
        "tlwiki_1950_female_descriptions.json            0%    0     0.0KB/s   --:-- ETA"
       ]
      },
      {
       "output_type": "stream",
       "stream": "stdout",
       "text": [
        "\r",
        "tlwiki_1950_female_descriptions.json          100%   73KB  73.3KB/s   00:00    \r\n"
       ]
      },
      {
       "output_type": "stream",
       "stream": "stdout",
       "text": [
        "\r",
        "tlwiki_1950_male_descriptions.json              0%    0     0.0KB/s   --:-- ETA"
       ]
      },
      {
       "output_type": "stream",
       "stream": "stdout",
       "text": [
        "\r",
        "tlwiki_1950_male_descriptions.json            100%  119KB 118.6KB/s   00:01    \r\n"
       ]
      },
      {
       "output_type": "stream",
       "stream": "stdout",
       "text": [
        "\r",
        "tlwiki_1950_nogender_descriptions.json          0%    0     0.0KB/s   --:-- ETA"
       ]
      },
      {
       "output_type": "stream",
       "stream": "stdout",
       "text": [
        "\r",
        "tlwiki_1950_nogender_descriptions.json        100%  396     0.4KB/s   00:00    \r\n"
       ]
      },
      {
       "output_type": "stream",
       "stream": "stdout",
       "text": [
        "\r",
        "tlwiki_1960_female_descriptions.json            0%    0     0.0KB/s   --:-- ETA"
       ]
      },
      {
       "output_type": "stream",
       "stream": "stdout",
       "text": [
        "\r",
        "tlwiki_1960_female_descriptions.json          100%  106KB 106.1KB/s   00:00    \r\n"
       ]
      },
      {
       "output_type": "stream",
       "stream": "stdout",
       "text": [
        "\r",
        "tlwiki_1960_male_descriptions.json              0%    0     0.0KB/s   --:-- ETA"
       ]
      },
      {
       "output_type": "stream",
       "stream": "stdout",
       "text": [
        "\r",
        "tlwiki_1960_male_descriptions.json            100%  138KB 137.6KB/s   00:01    \r\n"
       ]
      },
      {
       "output_type": "stream",
       "stream": "stdout",
       "text": [
        "\r",
        "tlwiki_1960_nogender_descriptions.json          0%    0     0.0KB/s   --:-- ETA"
       ]
      },
      {
       "output_type": "stream",
       "stream": "stdout",
       "text": [
        "\r",
        "tlwiki_1960_nogender_descriptions.json        100%  286     0.3KB/s   00:00    \r\n"
       ]
      },
      {
       "output_type": "stream",
       "stream": "stdout",
       "text": [
        "\r",
        "tlwiki_1970_female_descriptions.json            0%    0     0.0KB/s   --:-- ETA"
       ]
      },
      {
       "output_type": "stream",
       "stream": "stdout",
       "text": [
        "\r",
        "tlwiki_1970_female_descriptions.json          100%  155KB 155.0KB/s   00:01    \r\n"
       ]
      },
      {
       "output_type": "stream",
       "stream": "stdout",
       "text": [
        "\r",
        "tlwiki_1970_male_descriptions.json              0%    0     0.0KB/s   --:-- ETA"
       ]
      },
      {
       "output_type": "stream",
       "stream": "stdout",
       "text": [
        "\r",
        "tlwiki_1970_male_descriptions.json            100%  149KB 148.9KB/s   00:00    \r\n"
       ]
      },
      {
       "output_type": "stream",
       "stream": "stdout",
       "text": [
        "\r",
        "tlwiki_1970_nogender_descriptions.json          0%    0     0.0KB/s   --:-- ETA"
       ]
      },
      {
       "output_type": "stream",
       "stream": "stdout",
       "text": [
        "\r",
        "tlwiki_1970_nogender_descriptions.json        100%  854     0.8KB/s   00:00    \r\n"
       ]
      },
      {
       "output_type": "stream",
       "stream": "stdout",
       "text": [
        "\r",
        "tlwiki_1980_female_descriptions.json            0%    0     0.0KB/s   --:-- ETA"
       ]
      },
      {
       "output_type": "stream",
       "stream": "stdout",
       "text": [
        "\r",
        "tlwiki_1980_female_descriptions.json          100%  207KB 207.2KB/s   00:00    \r\n"
       ]
      },
      {
       "output_type": "stream",
       "stream": "stdout",
       "text": [
        "\r",
        "tlwiki_1980_male_descriptions.json              0%    0     0.0KB/s   --:-- ETA"
       ]
      },
      {
       "output_type": "stream",
       "stream": "stdout",
       "text": [
        "\r",
        "tlwiki_1980_male_descriptions.json            100%  168KB 168.3KB/s   00:01    \r\n"
       ]
      },
      {
       "output_type": "stream",
       "stream": "stdout",
       "text": [
        "\r",
        "tlwiki_1980_nogender_descriptions.json          0%    0     0.0KB/s   --:-- ETA"
       ]
      },
      {
       "output_type": "stream",
       "stream": "stdout",
       "text": [
        "\r",
        "tlwiki_1980_nogender_descriptions.json        100%  440     0.4KB/s   00:00    \r\n"
       ]
      },
      {
       "output_type": "stream",
       "stream": "stdout",
       "text": [
        "\r",
        "urwiki_1930_female_descriptions.json            0%    0     0.0KB/s   --:-- ETA"
       ]
      },
      {
       "output_type": "stream",
       "stream": "stdout",
       "text": [
        "\r",
        "urwiki_1930_female_descriptions.json          100%   27KB  27.2KB/s   00:00    \r\n"
       ]
      },
      {
       "output_type": "stream",
       "stream": "stdout",
       "text": [
        "\r",
        "urwiki_1930_male_descriptions.json              0%    0     0.0KB/s   --:-- ETA"
       ]
      },
      {
       "output_type": "stream",
       "stream": "stdout",
       "text": [
        "\r",
        "urwiki_1930_male_descriptions.json            100%   45KB  45.5KB/s   00:00    \r\n"
       ]
      },
      {
       "output_type": "stream",
       "stream": "stdout",
       "text": [
        "\r",
        "urwiki_1940_female_descriptions.json            0%    0     0.0KB/s   --:-- ETA"
       ]
      },
      {
       "output_type": "stream",
       "stream": "stdout",
       "text": [
        "\r",
        "urwiki_1940_female_descriptions.json          100%   39KB  39.5KB/s   00:00    \r\n"
       ]
      },
      {
       "output_type": "stream",
       "stream": "stdout",
       "text": [
        "\r",
        "urwiki_1940_male_descriptions.json              0%    0     0.0KB/s   --:-- ETA"
       ]
      },
      {
       "output_type": "stream",
       "stream": "stdout",
       "text": [
        "\r",
        "urwiki_1940_male_descriptions.json            100%   52KB  51.6KB/s   00:00    \r\n"
       ]
      },
      {
       "output_type": "stream",
       "stream": "stdout",
       "text": [
        "\r",
        "urwiki_1950_female_descriptions.json            0%    0     0.0KB/s   --:-- ETA"
       ]
      },
      {
       "output_type": "stream",
       "stream": "stdout",
       "text": [
        "\r",
        "urwiki_1950_female_descriptions.json          100%   47KB  47.0KB/s   00:00    \r\n"
       ]
      },
      {
       "output_type": "stream",
       "stream": "stdout",
       "text": [
        "\r",
        "urwiki_1950_male_descriptions.json              0%    0     0.0KB/s   --:-- ETA"
       ]
      },
      {
       "output_type": "stream",
       "stream": "stdout",
       "text": [
        "\r",
        "urwiki_1950_male_descriptions.json            100%   47KB  47.0KB/s   00:00    \r\n"
       ]
      },
      {
       "output_type": "stream",
       "stream": "stdout",
       "text": [
        "\r",
        "urwiki_1960_female_descriptions.json            0%    0     0.0KB/s   --:-- ETA"
       ]
      },
      {
       "output_type": "stream",
       "stream": "stdout",
       "text": [
        "\r",
        "urwiki_1960_female_descriptions.json          100%   57KB  57.4KB/s   00:01    \r\n"
       ]
      },
      {
       "output_type": "stream",
       "stream": "stdout",
       "text": [
        "\r",
        "urwiki_1960_male_descriptions.json              0%    0     0.0KB/s   --:-- ETA"
       ]
      },
      {
       "output_type": "stream",
       "stream": "stdout",
       "text": [
        "\r",
        "urwiki_1960_male_descriptions.json            100%   37KB  37.2KB/s   00:00    \r\n"
       ]
      },
      {
       "output_type": "stream",
       "stream": "stdout",
       "text": [
        "\r",
        "urwiki_1960_nogender_descriptions.json          0%    0     0.0KB/s   --:-- ETA"
       ]
      },
      {
       "output_type": "stream",
       "stream": "stdout",
       "text": [
        "\r",
        "urwiki_1960_nogender_descriptions.json        100% 1113     1.1KB/s   00:00    \r\n"
       ]
      },
      {
       "output_type": "stream",
       "stream": "stdout",
       "text": [
        "\r",
        "urwiki_1970_female_descriptions.json            0%    0     0.0KB/s   --:-- ETA"
       ]
      },
      {
       "output_type": "stream",
       "stream": "stdout",
       "text": [
        "\r",
        "urwiki_1970_female_descriptions.json          100%  114KB 113.7KB/s   00:00    \r\n"
       ]
      },
      {
       "output_type": "stream",
       "stream": "stdout",
       "text": [
        "\r",
        "urwiki_1970_male_descriptions.json              0%    0     0.0KB/s   --:-- ETA"
       ]
      },
      {
       "output_type": "stream",
       "stream": "stdout",
       "text": [
        "\r",
        "urwiki_1970_male_descriptions.json            100%   33KB  33.2KB/s   00:01    \r\n"
       ]
      },
      {
       "output_type": "stream",
       "stream": "stdout",
       "text": [
        "\r",
        "urwiki_1980_female_descriptions.json            0%    0     0.0KB/s   --:-- ETA"
       ]
      },
      {
       "output_type": "stream",
       "stream": "stdout",
       "text": [
        "\r",
        "urwiki_1980_female_descriptions.json          100%  196KB 195.5KB/s   00:00    \r\n"
       ]
      },
      {
       "output_type": "stream",
       "stream": "stdout",
       "text": [
        "\r",
        "urwiki_1980_male_descriptions.json              0%    0     0.0KB/s   --:-- ETA"
       ]
      },
      {
       "output_type": "stream",
       "stream": "stdout",
       "text": [
        "\r",
        "urwiki_1980_male_descriptions.json            100%   33KB  33.3KB/s   00:00    \r\n"
       ]
      },
      {
       "output_type": "stream",
       "stream": "stdout",
       "text": [
        "\r",
        "urwiki_1980_nogender_descriptions.json          0%    0     0.0KB/s   --:-- ETA"
       ]
      },
      {
       "output_type": "stream",
       "stream": "stdout",
       "text": [
        "\r",
        "urwiki_1980_nogender_descriptions.json        100% 1036     1.0KB/s   00:00    \r\n"
       ]
      },
      {
       "output_type": "stream",
       "stream": "stdout",
       "text": [
        "\r",
        "zhwiki_1930_female_descriptions.json            0%    0     0.0KB/s   --:-- ETA"
       ]
      },
      {
       "output_type": "stream",
       "stream": "stdout",
       "text": [
        "\r",
        "zhwiki_1930_female_descriptions.json          100%   95KB  95.4KB/s   00:00    \r\n"
       ]
      },
      {
       "output_type": "stream",
       "stream": "stdout",
       "text": [
        "\r",
        "zhwiki_1930_male_descriptions.json              0%    0     0.0KB/s   --:-- ETA"
       ]
      },
      {
       "output_type": "stream",
       "stream": "stdout",
       "text": [
        "\r",
        "zhwiki_1930_male_descriptions.json             53%  368KB 368.0KB/s   00:00 ETA"
       ]
      },
      {
       "output_type": "stream",
       "stream": "stdout",
       "text": [
        "\r",
        "zhwiki_1930_male_descriptions.json            100%  683KB 341.6KB/s   00:02    \r\n"
       ]
      },
      {
       "output_type": "stream",
       "stream": "stdout",
       "text": [
        "\r",
        "zhwiki_1930_nogender_descriptions.json          0%    0     0.0KB/s   --:-- ETA"
       ]
      },
      {
       "output_type": "stream",
       "stream": "stdout",
       "text": [
        "\r",
        "zhwiki_1930_nogender_descriptions.json        100%  251KB 251.2KB/s   00:01    \r\n"
       ]
      },
      {
       "output_type": "stream",
       "stream": "stdout",
       "text": [
        "\r",
        "zhwiki_1940_female_descriptions.json            0%    0     0.0KB/s   --:-- ETA"
       ]
      },
      {
       "output_type": "stream",
       "stream": "stdout",
       "text": [
        "\r",
        "zhwiki_1940_female_descriptions.json          100%  148KB 148.0KB/s   00:01    \r\n"
       ]
      },
      {
       "output_type": "stream",
       "stream": "stdout",
       "text": [
        "\r",
        "zhwiki_1940_male_descriptions.json              0%    0     0.0KB/s   --:-- ETA"
       ]
      },
      {
       "output_type": "stream",
       "stream": "stdout",
       "text": [
        "\r",
        "zhwiki_1940_male_descriptions.json             28%  256KB 256.0KB/s   00:02 ETA"
       ]
      },
      {
       "output_type": "stream",
       "stream": "stdout",
       "text": [
        "\r",
        "zhwiki_1940_male_descriptions.json             65%  592KB 264.0KB/s   00:01 ETA"
       ]
      },
      {
       "output_type": "stream",
       "stream": "stdout",
       "text": [
        "\r",
        "zhwiki_1940_male_descriptions.json            100%  908KB 302.6KB/s   00:03    \r\n"
       ]
      },
      {
       "output_type": "stream",
       "stream": "stdout",
       "text": [
        "\r",
        "zhwiki_1940_nogender_descriptions.json          0%    0     0.0KB/s   --:-- ETA"
       ]
      },
      {
       "output_type": "stream",
       "stream": "stdout",
       "text": [
        "\r",
        "zhwiki_1940_nogender_descriptions.json        100%  363KB 362.6KB/s   00:01    \r\n"
       ]
      },
      {
       "output_type": "stream",
       "stream": "stdout",
       "text": [
        "\r",
        "zhwiki_1950_female_descriptions.json            0%    0     0.0KB/s   --:-- ETA"
       ]
      },
      {
       "output_type": "stream",
       "stream": "stdout",
       "text": [
        "\r",
        "zhwiki_1950_female_descriptions.json          100%  209KB 209.2KB/s   00:00    \r\n"
       ]
      },
      {
       "output_type": "stream",
       "stream": "stdout",
       "text": [
        "\r",
        "zhwiki_1950_male_descriptions.json              0%    0     0.0KB/s   --:-- ETA"
       ]
      },
      {
       "output_type": "stream",
       "stream": "stdout",
       "text": [
        "\r",
        "zhwiki_1950_male_descriptions.json             48%  480KB 480.0KB/s   00:01 ETA"
       ]
      },
      {
       "output_type": "stream",
       "stream": "stdout",
       "text": [
        "\r",
        "zhwiki_1950_male_descriptions.json            100%  985KB 492.6KB/s   00:02    \r\n"
       ]
      },
      {
       "output_type": "stream",
       "stream": "stdout",
       "text": [
        "\r",
        "zhwiki_1950_nogender_descriptions.json          0%    0     0.0KB/s   --:-- ETA"
       ]
      },
      {
       "output_type": "stream",
       "stream": "stdout",
       "text": [
        "\r",
        "zhwiki_1950_nogender_descriptions.json          0%    0     0.0KB/s   --:-- ETA"
       ]
      },
      {
       "output_type": "stream",
       "stream": "stdout",
       "text": [
        "\r",
        "zhwiki_1950_nogender_descriptions.json         88%  512KB 512.0KB/s   00:00 ETA"
       ]
      },
      {
       "output_type": "stream",
       "stream": "stdout",
       "text": [
        "\r",
        "zhwiki_1950_nogender_descriptions.json        100%  580KB 289.8KB/s   00:02    \r\n"
       ]
      },
      {
       "output_type": "stream",
       "stream": "stdout",
       "text": [
        "\r",
        "zhwiki_1960_female_descriptions.json            0%    0     0.0KB/s   --:-- ETA"
       ]
      },
      {
       "output_type": "stream",
       "stream": "stdout",
       "text": [
        "\r",
        "zhwiki_1960_female_descriptions.json          100%  307KB 307.3KB/s   00:01    \r\n"
       ]
      },
      {
       "output_type": "stream",
       "stream": "stdout",
       "text": [
        "\r",
        "zhwiki_1960_male_descriptions.json              0%    0     0.0KB/s   --:-- ETA"
       ]
      },
      {
       "output_type": "stream",
       "stream": "stdout",
       "text": [
        "\r",
        "zhwiki_1960_male_descriptions.json             53%  560KB 560.0KB/s   00:00 ETA"
       ]
      },
      {
       "output_type": "stream",
       "stream": "stdout",
       "text": [
        "\r",
        "zhwiki_1960_male_descriptions.json            100% 1043KB   1.0MB/s   00:01    \r\n"
       ]
      },
      {
       "output_type": "stream",
       "stream": "stdout",
       "text": [
        "\r",
        "zhwiki_1960_nogender_descriptions.json          0%    0     0.0KB/s   --:-- ETA"
       ]
      },
      {
       "output_type": "stream",
       "stream": "stdout",
       "text": [
        "\r",
        "zhwiki_1960_nogender_descriptions.json        100%  499KB 499.2KB/s   00:01    \r\n"
       ]
      },
      {
       "output_type": "stream",
       "stream": "stdout",
       "text": [
        "\r",
        "zhwiki_1970_female_descriptions.json            0%    0     0.0KB/s   --:-- ETA"
       ]
      },
      {
       "output_type": "stream",
       "stream": "stdout",
       "text": [
        "\r",
        "zhwiki_1970_female_descriptions.json           87%  432KB 432.0KB/s   00:00 ETA"
       ]
      },
      {
       "output_type": "stream",
       "stream": "stdout",
       "text": [
        "\r",
        "zhwiki_1970_female_descriptions.json          100%  492KB 492.5KB/s   00:01    \r\n"
       ]
      },
      {
       "output_type": "stream",
       "stream": "stdout",
       "text": [
        "\r",
        "zhwiki_1970_male_descriptions.json              0%    0     0.0KB/s   --:-- ETA"
       ]
      },
      {
       "output_type": "stream",
       "stream": "stdout",
       "text": [
        "\r",
        "zhwiki_1970_male_descriptions.json             33%  432KB 432.0KB/s   00:01 ETA"
       ]
      },
      {
       "output_type": "stream",
       "stream": "stdout",
       "text": [
        "\r",
        "zhwiki_1970_male_descriptions.json             76%  976KB 443.2KB/s   00:00 ETA"
       ]
      },
      {
       "output_type": "stream",
       "stream": "stdout",
       "text": [
        "\r",
        "zhwiki_1970_male_descriptions.json            100% 1283KB 641.4KB/s   00:02    \r\n"
       ]
      },
      {
       "output_type": "stream",
       "stream": "stdout",
       "text": [
        "\r",
        "zhwiki_1970_nogender_descriptions.json          0%    0     0.0KB/s   --:-- ETA"
       ]
      },
      {
       "output_type": "stream",
       "stream": "stdout",
       "text": [
        "\r",
        "zhwiki_1970_nogender_descriptions.json        100%  243KB 242.7KB/s   00:01    \r\n"
       ]
      },
      {
       "output_type": "stream",
       "stream": "stdout",
       "text": [
        "\r",
        "zhwiki_1980_female_descriptions.json            0%    0     0.0KB/s   --:-- ETA"
       ]
      },
      {
       "output_type": "stream",
       "stream": "stdout",
       "text": [
        "\r",
        "zhwiki_1980_female_descriptions.json           46%  464KB 464.0KB/s   00:01 ETA"
       ]
      },
      {
       "output_type": "stream",
       "stream": "stdout",
       "text": [
        "\r",
        "zhwiki_1980_female_descriptions.json          100%  990KB 495.0KB/s   00:02    \r\n"
       ]
      },
      {
       "output_type": "stream",
       "stream": "stdout",
       "text": [
        "\r",
        "zhwiki_1980_male_descriptions.json              0%    0     0.0KB/s   --:-- ETA"
       ]
      },
      {
       "output_type": "stream",
       "stream": "stdout",
       "text": [
        "\r",
        "zhwiki_1980_male_descriptions.json             29%  528KB 528.0KB/s   00:02 ETA"
       ]
      },
      {
       "output_type": "stream",
       "stream": "stdout",
       "text": [
        "\r",
        "zhwiki_1980_male_descriptions.json             69% 1232KB 545.6KB/s   00:00 ETA"
       ]
      },
      {
       "output_type": "stream",
       "stream": "stdout",
       "text": [
        "\r",
        "zhwiki_1980_male_descriptions.json            100% 1768KB 589.4KB/s   00:03    \r\n"
       ]
      },
      {
       "output_type": "stream",
       "stream": "stdout",
       "text": [
        "\r",
        "zhwiki_1980_nogender_descriptions.json          0%    0     0.0KB/s   --:-- ETA"
       ]
      },
      {
       "output_type": "stream",
       "stream": "stdout",
       "text": [
        "\r",
        "zhwiki_1980_nogender_descriptions.json        100%  280KB 280.2KB/s   00:00    \r\n"
       ]
      }
     ],
     "prompt_number": 78
    },
    {
     "cell_type": "code",
     "collapsed": false,
     "input": [
      "description_files = !ls helpers/inspection/expanded_descriptions/\n",
      "len(description_files)"
     ],
     "language": "python",
     "metadata": {},
     "outputs": [
      {
       "metadata": {},
       "output_type": "pyout",
       "prompt_number": 7,
       "text": [
        "117"
       ]
      }
     ],
     "prompt_number": 7
    },
    {
     "cell_type": "code",
     "collapsed": false,
     "input": [
      "celebrity_dict = {'jawiki': [u'\u4ff3\u512a', u'\u9078\u624b', u'\u6b4c\u624b', u'\u30df\u30e5\u30fc\u30b8\u30b7\u30e3\u30f3', u'\u30e2\u30c7\u30eb', u'\u30a2\u30a4\u30c9\u30eb'], \n",
      "                              'zhwiki': [u'\u6f14\u54e1', u'\u904b\u52d5\u54e1', u'\u6b4c\u624b', u'\u97f3\u4e50\u5bb6', u'\u6a21\u7279\u5152', u'\u5076\u50cf'],\n",
      "                              'tlwiki': [u'artista', 'aktor', u'player', u'mang-aawit', u'musikero', u'modelo', u'idolo'],\n",
      "                              'urwiki': [u'\u0627\u0631\u062f\u0648', u'\u06a9\u06be\u0644\u0627\u0691', u'\u06af\u0644\u0648\u06a9\u0627\u0631' , u'\u0645\u0648\u0633\u06cc\u0642\u0627\u0631' , u'\u0645\u0627\u0688\u0644', u'\u0628\u062a'],\n",
      "                              'dewiki': [u'schauspieler' , u'spieler', u'Musiker', u'S\u00e4nger', u'Modell', u'Idol'],\n",
      "                              'enwiki' :[u'actor', u'actress', u'player', u'singer', u'musician', u'model', u'idol'],\n",
      "                              'kowiki' : [u'\ubc30\uc6b0', u'\uc120\uc218', u'\uac00\uc218', u'\uc74c\uc545\uac00', u'\ubaa8\ub378', u'\uc6b0\uc0c1']}\n",
      "\n",
      "def intext(text, xxwiki):\n",
      "    if text:\n",
      "        text = text.encode('utf-8').lower()\n",
      "        engwords = celebrity_dict['enwiki']\n",
      "        foreignwords = celebrity_dict[xxwiki]\n",
      "        for word in engwords + foreignwords:\n",
      "            if word.encode('utf-8').lower() in text:\n",
      "                return True\n",
      "        #if we get to this point its too late\n",
      "        return False\n",
      "    else: return False\n",
      "\n",
      "\n",
      "celebdf = pd.DataFrame(columns=['wiki','decade','gender','celeb_per'])\n",
      "for f in description_files:\n",
      "    parts = f.split('_')\n",
      "    xxwiki, decade, gender = parts[0], parts[1], parts[2]\n",
      "    df = pd.DataFrame.from_dict(json.load(open('helpers/inspection/expanded_descriptions/{}'.format(f), 'r')), orient='index')\n",
      "    df['celeb'] = df['text'].apply(lambda text: intext(text,xxwiki))\n",
      "    test_per = df['celeb'].sum()/float(len(df))\n",
      "    celebdf = celebdf.append({'wiki':xxwiki, 'decade':int(decade), 'gender':gender, 'celeb_per':test_per}, ignore_index=True)"
     ],
     "language": "python",
     "metadata": {},
     "outputs": [],
     "prompt_number": 8
    },
    {
     "cell_type": "code",
     "collapsed": false,
     "input": [
      "dummy_langs = pd.get_dummies(celebdf['wiki'])\n",
      "dummy_gender = pd.get_dummies(celebdf['gender'])\n",
      "dummy_gender = dummy_gender[['male','female','nogender']]\n",
      "print dummy_langs.head(2)\n",
      "print dummy_gender.head(2)"
     ],
     "language": "python",
     "metadata": {},
     "outputs": [
      {
       "output_type": "stream",
       "stream": "stdout",
       "text": [
        "   dewiki  enwiki  jawiki  kowiki  tlwiki  urwiki  zhwiki\n",
        "0       1       0       0       0       0       0       0\n",
        "1       1       0       0       0       0       0       0\n",
        "   male  female  nogender\n",
        "0     0       1         0\n",
        "1     1       0         0\n"
       ]
      }
     ],
     "prompt_number": 4
    },
    {
     "cell_type": "code",
     "collapsed": false,
     "input": [
      "catdf = celebdf[['celeb_per','decade']].join(dummy_langs.ix[:,'enwiki':]).join(dummy_gender.ix[:,'female':'female'])\n",
      "catdf['intercept'] = 1.0"
     ],
     "language": "python",
     "metadata": {},
     "outputs": [],
     "prompt_number": 5
    },
    {
     "cell_type": "code",
     "collapsed": false,
     "input": [
      "catdf.corr()"
     ],
     "language": "python",
     "metadata": {},
     "outputs": [
      {
       "html": [
        "<div style=\"max-height:1000px;max-width:1500px;overflow:auto;\">\n",
        "<table border=\"1\" class=\"dataframe\">\n",
        "  <thead>\n",
        "    <tr style=\"text-align: right;\">\n",
        "      <th></th>\n",
        "      <th>celeb_per</th>\n",
        "      <th>decade</th>\n",
        "      <th>enwiki</th>\n",
        "      <th>jawiki</th>\n",
        "      <th>kowiki</th>\n",
        "      <th>tlwiki</th>\n",
        "      <th>urwiki</th>\n",
        "      <th>zhwiki</th>\n",
        "      <th>female</th>\n",
        "      <th>intercept</th>\n",
        "    </tr>\n",
        "  </thead>\n",
        "  <tbody>\n",
        "    <tr>\n",
        "      <th>celeb_per</th>\n",
        "      <td> 1.000000</td>\n",
        "      <td> 0.284661</td>\n",
        "      <td>-0.290744</td>\n",
        "      <td>-0.079482</td>\n",
        "      <td> 0.125096</td>\n",
        "      <td> 0.606231</td>\n",
        "      <td> 0.017558</td>\n",
        "      <td>-0.154101</td>\n",
        "      <td> 0.460273</td>\n",
        "      <td>NaN</td>\n",
        "    </tr>\n",
        "    <tr>\n",
        "      <th>decade</th>\n",
        "      <td> 0.284661</td>\n",
        "      <td> 1.000000</td>\n",
        "      <td>-0.011882</td>\n",
        "      <td>-0.011882</td>\n",
        "      <td>-0.011882</td>\n",
        "      <td> 0.024452</td>\n",
        "      <td> 0.036556</td>\n",
        "      <td>-0.011882</td>\n",
        "      <td>-0.020852</td>\n",
        "      <td>NaN</td>\n",
        "    </tr>\n",
        "    <tr>\n",
        "      <th>enwiki</th>\n",
        "      <td>-0.290744</td>\n",
        "      <td>-0.011882</td>\n",
        "      <td> 1.000000</td>\n",
        "      <td>-0.181818</td>\n",
        "      <td>-0.181818</td>\n",
        "      <td>-0.175810</td>\n",
        "      <td>-0.157204</td>\n",
        "      <td>-0.181818</td>\n",
        "      <td>-0.022792</td>\n",
        "      <td>NaN</td>\n",
        "    </tr>\n",
        "    <tr>\n",
        "      <th>jawiki</th>\n",
        "      <td>-0.079482</td>\n",
        "      <td>-0.011882</td>\n",
        "      <td>-0.181818</td>\n",
        "      <td> 1.000000</td>\n",
        "      <td>-0.181818</td>\n",
        "      <td>-0.175810</td>\n",
        "      <td>-0.157204</td>\n",
        "      <td>-0.181818</td>\n",
        "      <td>-0.022792</td>\n",
        "      <td>NaN</td>\n",
        "    </tr>\n",
        "    <tr>\n",
        "      <th>kowiki</th>\n",
        "      <td> 0.125096</td>\n",
        "      <td>-0.011882</td>\n",
        "      <td>-0.181818</td>\n",
        "      <td>-0.181818</td>\n",
        "      <td> 1.000000</td>\n",
        "      <td>-0.175810</td>\n",
        "      <td>-0.157204</td>\n",
        "      <td>-0.181818</td>\n",
        "      <td>-0.022792</td>\n",
        "      <td>NaN</td>\n",
        "    </tr>\n",
        "    <tr>\n",
        "      <th>tlwiki</th>\n",
        "      <td> 0.606231</td>\n",
        "      <td> 0.024452</td>\n",
        "      <td>-0.175810</td>\n",
        "      <td>-0.175810</td>\n",
        "      <td>-0.175810</td>\n",
        "      <td> 1.000000</td>\n",
        "      <td>-0.152009</td>\n",
        "      <td>-0.175810</td>\n",
        "      <td>-0.005186</td>\n",
        "      <td>NaN</td>\n",
        "    </tr>\n",
        "    <tr>\n",
        "      <th>urwiki</th>\n",
        "      <td> 0.017558</td>\n",
        "      <td> 0.036556</td>\n",
        "      <td>-0.157204</td>\n",
        "      <td>-0.157204</td>\n",
        "      <td>-0.157204</td>\n",
        "      <td>-0.152009</td>\n",
        "      <td> 1.000000</td>\n",
        "      <td>-0.157204</td>\n",
        "      <td> 0.053489</td>\n",
        "      <td>NaN</td>\n",
        "    </tr>\n",
        "    <tr>\n",
        "      <th>zhwiki</th>\n",
        "      <td>-0.154101</td>\n",
        "      <td>-0.011882</td>\n",
        "      <td>-0.181818</td>\n",
        "      <td>-0.181818</td>\n",
        "      <td>-0.181818</td>\n",
        "      <td>-0.175810</td>\n",
        "      <td>-0.157204</td>\n",
        "      <td> 1.000000</td>\n",
        "      <td>-0.022792</td>\n",
        "      <td>NaN</td>\n",
        "    </tr>\n",
        "    <tr>\n",
        "      <th>female</th>\n",
        "      <td> 0.460273</td>\n",
        "      <td>-0.020852</td>\n",
        "      <td>-0.022792</td>\n",
        "      <td>-0.022792</td>\n",
        "      <td>-0.022792</td>\n",
        "      <td>-0.005186</td>\n",
        "      <td> 0.053489</td>\n",
        "      <td>-0.022792</td>\n",
        "      <td> 1.000000</td>\n",
        "      <td>NaN</td>\n",
        "    </tr>\n",
        "    <tr>\n",
        "      <th>intercept</th>\n",
        "      <td>      NaN</td>\n",
        "      <td>      NaN</td>\n",
        "      <td>      NaN</td>\n",
        "      <td>      NaN</td>\n",
        "      <td>      NaN</td>\n",
        "      <td>      NaN</td>\n",
        "      <td>      NaN</td>\n",
        "      <td>      NaN</td>\n",
        "      <td>      NaN</td>\n",
        "      <td>NaN</td>\n",
        "    </tr>\n",
        "  </tbody>\n",
        "</table>\n",
        "</div>"
       ],
       "metadata": {},
       "output_type": "pyout",
       "prompt_number": 6,
       "text": [
        "           celeb_per    decade    enwiki    jawiki    kowiki    tlwiki  \\\n",
        "celeb_per   1.000000  0.284661 -0.290744 -0.079482  0.125096  0.606231   \n",
        "decade      0.284661  1.000000 -0.011882 -0.011882 -0.011882  0.024452   \n",
        "enwiki     -0.290744 -0.011882  1.000000 -0.181818 -0.181818 -0.175810   \n",
        "jawiki     -0.079482 -0.011882 -0.181818  1.000000 -0.181818 -0.175810   \n",
        "kowiki      0.125096 -0.011882 -0.181818 -0.181818  1.000000 -0.175810   \n",
        "tlwiki      0.606231  0.024452 -0.175810 -0.175810 -0.175810  1.000000   \n",
        "urwiki      0.017558  0.036556 -0.157204 -0.157204 -0.157204 -0.152009   \n",
        "zhwiki     -0.154101 -0.011882 -0.181818 -0.181818 -0.181818 -0.175810   \n",
        "female      0.460273 -0.020852 -0.022792 -0.022792 -0.022792 -0.005186   \n",
        "intercept        NaN       NaN       NaN       NaN       NaN       NaN   \n",
        "\n",
        "             urwiki    zhwiki    female  intercept  \n",
        "celeb_per  0.017558 -0.154101  0.460273        NaN  \n",
        "decade     0.036556 -0.011882 -0.020852        NaN  \n",
        "enwiki    -0.157204 -0.181818 -0.022792        NaN  \n",
        "jawiki    -0.157204 -0.181818 -0.022792        NaN  \n",
        "kowiki    -0.157204 -0.181818 -0.022792        NaN  \n",
        "tlwiki    -0.152009 -0.175810 -0.005186        NaN  \n",
        "urwiki     1.000000 -0.157204  0.053489        NaN  \n",
        "zhwiki    -0.157204  1.000000 -0.022792        NaN  \n",
        "female     0.053489 -0.022792  1.000000        NaN  \n",
        "intercept       NaN       NaN       NaN        NaN  "
       ]
      }
     ],
     "prompt_number": 6
    },
    {
     "cell_type": "code",
     "collapsed": false,
     "input": [
      "train_cols = catdf.columns[1:]\n",
      "logit = sm.Logit(catdf['celeb_per'], catdf[train_cols])\n",
      "result= logit.fit()"
     ],
     "language": "python",
     "metadata": {},
     "outputs": [
      {
       "output_type": "stream",
       "stream": "stdout",
       "text": [
        "Optimization terminated successfully.\n",
        "         Current function value: 0.466279\n",
        "         Iterations 6\n"
       ]
      }
     ],
     "prompt_number": 7
    },
    {
     "cell_type": "code",
     "collapsed": false,
     "input": [
      "result.summary()"
     ],
     "language": "python",
     "metadata": {},
     "outputs": [
      {
       "html": [
        "<table class=\"simpletable\">\n",
        "<caption>Logit Regression Results</caption>\n",
        "<tr>\n",
        "  <th>Dep. Variable:</th>     <td>celeb_per</td>    <th>  No. Observations:  </th>  <td>   117</td>  \n",
        "</tr>\n",
        "<tr>\n",
        "  <th>Model:</th>               <td>Logit</td>      <th>  Df Residuals:      </th>  <td>   108</td>  \n",
        "</tr>\n",
        "<tr>\n",
        "  <th>Method:</th>               <td>MLE</td>       <th>  Df Model:          </th>  <td>     8</td>  \n",
        "</tr>\n",
        "<tr>\n",
        "  <th>Date:</th>          <td>Wed, 07 Jan 2015</td> <th>  Pseudo R-squ.:     </th>  <td>0.3079</td>  \n",
        "</tr>\n",
        "<tr>\n",
        "  <th>Time:</th>              <td>11:25:05</td>     <th>  Log-Likelihood:    </th> <td> -54.555</td> \n",
        "</tr>\n",
        "<tr>\n",
        "  <th>converged:</th>           <td>True</td>       <th>  LL-Null:           </th> <td> -78.830</td> \n",
        "</tr>\n",
        "<tr>\n",
        "  <th> </th>                      <td> </td>        <th>  LLR p-value:       </th> <td>7.752e-08</td>\n",
        "</tr>\n",
        "</table>\n",
        "<table class=\"simpletable\">\n",
        "<tr>\n",
        "      <td></td>         <th>coef</th>     <th>std err</th>      <th>z</th>      <th>P>|z|</th> <th>[95.0% Conf. Int.]</th> \n",
        "</tr>\n",
        "<tr>\n",
        "  <th>decade</th>    <td>    0.0236</td> <td>    0.013</td> <td>    1.823</td> <td> 0.068</td> <td>   -0.002     0.049</td>\n",
        "</tr>\n",
        "<tr>\n",
        "  <th>enwiki</th>    <td>    0.0509</td> <td>    0.875</td> <td>    0.058</td> <td> 0.954</td> <td>   -1.664     1.766</td>\n",
        "</tr>\n",
        "<tr>\n",
        "  <th>jawiki</th>    <td>    0.7763</td> <td>    0.837</td> <td>    0.927</td> <td> 0.354</td> <td>   -0.865     2.418</td>\n",
        "</tr>\n",
        "<tr>\n",
        "  <th>kowiki</th>    <td>    1.3834</td> <td>    0.832</td> <td>    1.662</td> <td> 0.097</td> <td>   -0.248     3.015</td>\n",
        "</tr>\n",
        "<tr>\n",
        "  <th>tlwiki</th>    <td>    3.0009</td> <td>    0.945</td> <td>    3.176</td> <td> 0.001</td> <td>    1.149     4.853</td>\n",
        "</tr>\n",
        "<tr>\n",
        "  <th>urwiki</th>    <td>    0.8901</td> <td>    0.869</td> <td>    1.025</td> <td> 0.306</td> <td>   -0.813     2.593</td>\n",
        "</tr>\n",
        "<tr>\n",
        "  <th>zhwiki</th>    <td>    0.5383</td> <td>    0.846</td> <td>    0.637</td> <td> 0.524</td> <td>   -1.119     2.196</td>\n",
        "</tr>\n",
        "<tr>\n",
        "  <th>female</th>    <td>    1.3580</td> <td>    0.453</td> <td>    2.999</td> <td> 0.003</td> <td>    0.471     2.245</td>\n",
        "</tr>\n",
        "<tr>\n",
        "  <th>intercept</th> <td>  -47.9056</td> <td>   25.368</td> <td>   -1.888</td> <td> 0.059</td> <td>  -97.626     1.815</td>\n",
        "</tr>\n",
        "</table>"
       ],
       "metadata": {},
       "output_type": "pyout",
       "prompt_number": 19,
       "text": [
        "<class 'statsmodels.iolib.summary.Summary'>\n",
        "\"\"\"\n",
        "                           Logit Regression Results                           \n",
        "==============================================================================\n",
        "Dep. Variable:              celeb_per   No. Observations:                  117\n",
        "Model:                          Logit   Df Residuals:                      108\n",
        "Method:                           MLE   Df Model:                            8\n",
        "Date:                Wed, 07 Jan 2015   Pseudo R-squ.:                  0.3079\n",
        "Time:                        11:25:05   Log-Likelihood:                -54.555\n",
        "converged:                       True   LL-Null:                       -78.830\n",
        "                                        LLR p-value:                 7.752e-08\n",
        "==============================================================================\n",
        "                 coef    std err          z      P>|z|      [95.0% Conf. Int.]\n",
        "------------------------------------------------------------------------------\n",
        "decade         0.0236      0.013      1.823      0.068        -0.002     0.049\n",
        "enwiki         0.0509      0.875      0.058      0.954        -1.664     1.766\n",
        "jawiki         0.7763      0.837      0.927      0.354        -0.865     2.418\n",
        "kowiki         1.3834      0.832      1.662      0.097        -0.248     3.015\n",
        "tlwiki         3.0009      0.945      3.176      0.001         1.149     4.853\n",
        "urwiki         0.8901      0.869      1.025      0.306        -0.813     2.593\n",
        "zhwiki         0.5383      0.846      0.637      0.524        -1.119     2.196\n",
        "female         1.3580      0.453      2.999      0.003         0.471     2.245\n",
        "intercept    -47.9056     25.368     -1.888      0.059       -97.626     1.815\n",
        "==============================================================================\n",
        "\"\"\""
       ]
      }
     ],
     "prompt_number": 19
    },
    {
     "cell_type": "code",
     "collapsed": false,
     "input": [
      "subj_list = ['female','male','nogender']\n",
      "\n",
      "fig, axes = plt.subplots(nrows = 1, ncols = len(subj_list), sharex='col', sharey='row')\n",
      "for ax, subj in zip(axes, subj_list):\n",
      "\n",
      "    natlangdf = celebdf[celebdf['gender'] == subj]\n",
      "    natlangpiv = pd.pivot_table(natlangdf, values='celeb_per', rows='decade', cols='wiki')\n",
      "    natlangpiv = natlangpiv[['jawiki','zhwiki','kowiki','tlwiki','urwiki','dewiki','enwiki']]\n",
      "    natlangpiv.columns = ['Japanese', 'Chinese', 'Korean', 'Tagalog', 'Urdu', 'German', 'English']\n",
      "    natlangpiv = natlangpiv * 100\n",
      "    heatmap = ax.pcolor(natlangpiv, cmap='Purples', vmin=0, vmax=100)\n",
      "\n",
      "    ax.set_yticks(np.arange(0.5, len(natlangpiv.index), 1))\n",
      "    ax.set_yticklabels(map(int, natlangpiv.index))\n",
      "    ax.set_xticks(np.arange(0.5, len(natlangpiv.columns), 1))\n",
      "    ax.set_xticklabels(natlangpiv.columns, rotation=90)\n",
      "\n",
      "fig.suptitle('''Heatmap of Celebrity Biography %, By Decade of Birth versus Wikipedia Language by Gender''', fontsize=18)\n",
      "fig.set_size_inches(12,4,dpi=600)\n",
      "#fig.tight_layout()\n",
      "\n",
      "subj_titles = ['Female','Male','Not Recorded or Non-Binary']\n",
      "metric_titles =['Decade'] \n",
      "\n",
      "cbar = plt.colorbar(mappable=heatmap, ax=ax, format=\"%.0f%%\")\n",
      "\n",
      "for i in range(len(subj_titles)):\n",
      "    axes[i].set_title(subj_titles[i])\n",
      "\n",
      "fig.subplots_adjust(wspace=0.0, hspace=0.0, top=0.85)"
     ],
     "language": "python",
     "metadata": {},
     "outputs": [
      {
       "metadata": {},
       "output_type": "display_data",
       "png": "[encoded data removed]",
       "text": [
        "<matplotlib.figure.Figure at 0x7fb1d249e150>"
       ]
      }
     ],
     "prompt_number": 17
    },
    {
     "cell_type": "code",
     "collapsed": false,
     "input": [
      "subplots_adjust"
     ],
     "language": "python",
     "metadata": {},
     "outputs": [
      {
       "metadata": {},
       "output_type": "pyout",
       "prompt_number": 17,
       "text": [
        "<function matplotlib.pyplot.subplots_adjust>"
       ]
      }
     ],
     "prompt_number": 17
    },
    {
     "cell_type": "code",
     "collapsed": false,
     "input": [
      "actress_dict = {'jawiki': u'\u4ff3\u512a', 'zhwiki': u'\u6f14\u54e1', 'tlwiki':u'artista', 'urwiki': u'\u0627\u0631\u062f\u0648', 'dewiki': 'schauspieler' , 'enwiki' :'actress'}\n",
      "player_dict =   {'jawiki': u'\u9078\u624b', 'zhwiki': u'\u904b\u52d5\u54e1', 'tlwiki':u'player', 'urwiki': u'\u06a9\u06be\u0644\u0627\u0691',  'dewiki': 'spieler' , 'enwiki' :'player'}\n",
      "\n",
      "\n",
      "\n",
      "def multiword(xxwiki, prof_dict):\n",
      "    def intext(text):\n",
      "        if text:\n",
      "            text = text.lower()\n",
      "            eng = prof_dict['enwiki']\n",
      "            foreign = prof_dict[xxwiki]\n",
      "            if eng in text or foreign in text:\n",
      "                return True\n",
      "            else: return False\n",
      "        else: return False\n",
      "    return intext\n",
      "\n",
      "\n",
      "celeb = defaultdict(dict)\n",
      "for xxwiki in ('jawiki', 'tlwiki', 'urwiki', 'zhwiki', 'enwiki', 'dewiki'):\n",
      "    df = pd.DataFrame.from_dict(json.load(open('helpers/inspection/descriptions/{}_descriptions.json'.format(xxwiki), 'r')), orient='index')\n",
      "    for prof, test in (('actress',  multiword(xxwiki, actress_dict)), ('player',multiword(xxwiki, player_dict))):\n",
      "        df[prof] = df['text'].apply(test)\n",
      "        test_per = df[prof].sum()/float(len(df))\n",
      "        celeb[xxwiki][prof] = test_per\n"
     ],
     "language": "python",
     "metadata": {},
     "outputs": [],
     "prompt_number": 11
    },
    {
     "cell_type": "code",
     "collapsed": false,
     "input": [
      "for xxwiki in ('jawiki', 'tlwiki', 'urwiki', 'zhwiki', 'enwiki', 'dewiki'):\n",
      "    df = pd.DataFrame.from_dict(json.load(open('helpers/inspection/descriptions/{}_descriptions.json'.format(xxwiki), 'r')), orient='index')\n",
      "    df['text'] = df['text'].apply(lambda x: x.replace('\\n',' ') if x else x)\n",
      "    df.to_csv('helpers/inspection/readable/{}_modern_bios_for_inspection.csv'.format(xxwiki), encoding='utf-8')"
     ],
     "language": "python",
     "metadata": {},
     "outputs": [],
     "prompt_number": 8
    },
    {
     "cell_type": "code",
     "collapsed": false,
     "input": [
      "celebdf = pd.DataFrame.from_dict(celeb, orient='index')\n",
      "celebdf['either'] = celebdf['player'] + celebdf['actress']\n",
      "celebdf.sort('either')"
     ],
     "language": "python",
     "metadata": {},
     "outputs": [
      {
       "html": [
        "<div style=\"max-height:1000px;max-width:1500px;overflow:auto;\">\n",
        "<table border=\"1\" class=\"dataframe\">\n",
        "  <thead>\n",
        "    <tr style=\"text-align: right;\">\n",
        "      <th></th>\n",
        "      <th>player</th>\n",
        "      <th>actress</th>\n",
        "      <th>either</th>\n",
        "    </tr>\n",
        "  </thead>\n",
        "  <tbody>\n",
        "    <tr>\n",
        "      <th>enwiki</th>\n",
        "      <td> 0.223995</td>\n",
        "      <td> 0.042483</td>\n",
        "      <td> 0.266478</td>\n",
        "    </tr>\n",
        "    <tr>\n",
        "      <th>jawiki</th>\n",
        "      <td> 0.198402</td>\n",
        "      <td> 0.090304</td>\n",
        "      <td> 0.288705</td>\n",
        "    </tr>\n",
        "    <tr>\n",
        "      <th>dewiki</th>\n",
        "      <td> 0.287200</td>\n",
        "      <td> 0.075000</td>\n",
        "      <td> 0.362200</td>\n",
        "    </tr>\n",
        "    <tr>\n",
        "      <th>zhwiki</th>\n",
        "      <td> 0.251717</td>\n",
        "      <td> 0.121909</td>\n",
        "      <td> 0.373626</td>\n",
        "    </tr>\n",
        "    <tr>\n",
        "      <th>tlwiki</th>\n",
        "      <td> 0.068075</td>\n",
        "      <td> 0.419601</td>\n",
        "      <td> 0.487676</td>\n",
        "    </tr>\n",
        "    <tr>\n",
        "      <th>urwiki</th>\n",
        "      <td> 0.016148</td>\n",
        "      <td> 0.741638</td>\n",
        "      <td> 0.757785</td>\n",
        "    </tr>\n",
        "  </tbody>\n",
        "</table>\n",
        "</div>"
       ],
       "metadata": {},
       "output_type": "pyout",
       "prompt_number": 18,
       "text": [
        "          player   actress    either\n",
        "enwiki  0.223995  0.042483  0.266478\n",
        "jawiki  0.198402  0.090304  0.288705\n",
        "dewiki  0.287200  0.075000  0.362200\n",
        "zhwiki  0.251717  0.121909  0.373626\n",
        "tlwiki  0.068075  0.419601  0.487676\n",
        "urwiki  0.016148  0.741638  0.757785"
       ]
      }
     ],
     "prompt_number": 18
    },
    {
     "cell_type": "code",
     "collapsed": false,
     "input": [
      "celebdf['wiki'].convert_object(convert_dates=True)"
     ],
     "language": "python",
     "metadata": {},
     "outputs": [
      {
       "ename": "AttributeError",
       "evalue": "'Series' object has no attribute 'convert_object'",
       "output_type": "pyerr",
       "traceback": [
        "\u001b[1;31m---------------------------------------------------------------------------\u001b[0m\n\u001b[1;31mAttributeError\u001b[0m                            Traceback (most recent call last)",
        "\u001b[1;32m<ipython-input-19-abc28e5c26e7>\u001b[0m in \u001b[0;36m<module>\u001b[1;34m()\u001b[0m\n\u001b[1;32m----> 1\u001b[1;33m \u001b[0mcelebdf\u001b[0m\u001b[1;33m[\u001b[0m\u001b[1;34m'wiki'\u001b[0m\u001b[1;33m]\u001b[0m\u001b[1;33m.\u001b[0m\u001b[0mconvert_object\u001b[0m\u001b[1;33m(\u001b[0m\u001b[0mconvert_dates\u001b[0m\u001b[1;33m=\u001b[0m\u001b[0mTrue\u001b[0m\u001b[1;33m)\u001b[0m\u001b[1;33m\u001b[0m\u001b[0m\n\u001b[0m",
        "\u001b[1;32m/usr/local/lib/python2.7/dist-packages/pandas/core/generic.pyc\u001b[0m in \u001b[0;36m__getattr__\u001b[1;34m(self, name)\u001b[0m\n\u001b[0;32m   1945\u001b[0m                 \u001b[1;32mreturn\u001b[0m \u001b[0mself\u001b[0m\u001b[1;33m[\u001b[0m\u001b[0mname\u001b[0m\u001b[1;33m]\u001b[0m\u001b[1;33m\u001b[0m\u001b[0m\n\u001b[0;32m   1946\u001b[0m             raise AttributeError(\"'%s' object has no attribute '%s'\" %\n\u001b[1;32m-> 1947\u001b[1;33m                                  (type(self).__name__, name))\n\u001b[0m\u001b[0;32m   1948\u001b[0m \u001b[1;33m\u001b[0m\u001b[0m\n\u001b[0;32m   1949\u001b[0m     \u001b[1;32mdef\u001b[0m \u001b[0m__setattr__\u001b[0m\u001b[1;33m(\u001b[0m\u001b[0mself\u001b[0m\u001b[1;33m,\u001b[0m \u001b[0mname\u001b[0m\u001b[1;33m,\u001b[0m \u001b[0mvalue\u001b[0m\u001b[1;33m)\u001b[0m\u001b[1;33m:\u001b[0m\u001b[1;33m\u001b[0m\u001b[0m\n",
        "\u001b[1;31mAttributeError\u001b[0m: 'Series' object has no attribute 'convert_object'"
       ]
      }
     ],
     "prompt_number": 19
    },
    {
     "cell_type": "code",
     "collapsed": false,
     "input": [
      "celebdf"
     ],
     "language": "python",
     "metadata": {},
     "outputs": [
      {
       "html": [
        "<div style=\"max-height:1000px;max-width:1500px;overflow:auto;\">\n",
        "<table border=\"1\" class=\"dataframe\">\n",
        "  <thead>\n",
        "    <tr style=\"text-align: right;\">\n",
        "      <th></th>\n",
        "      <th>wiki</th>\n",
        "      <th>decade</th>\n",
        "      <th>gender</th>\n",
        "      <th>celeb_per</th>\n",
        "    </tr>\n",
        "  </thead>\n",
        "  <tbody>\n",
        "    <tr>\n",
        "      <th>0  </th>\n",
        "      <td> dewiki</td>\n",
        "      <td> 1930</td>\n",
        "      <td>   female</td>\n",
        "      <td> 0.313582</td>\n",
        "    </tr>\n",
        "    <tr>\n",
        "      <th>1  </th>\n",
        "      <td> dewiki</td>\n",
        "      <td> 1930</td>\n",
        "      <td>     male</td>\n",
        "      <td> 0.147053</td>\n",
        "    </tr>\n",
        "    <tr>\n",
        "      <th>2  </th>\n",
        "      <td> dewiki</td>\n",
        "      <td> 1940</td>\n",
        "      <td>   female</td>\n",
        "      <td> 0.271985</td>\n",
        "    </tr>\n",
        "    <tr>\n",
        "      <th>3  </th>\n",
        "      <td> dewiki</td>\n",
        "      <td> 1940</td>\n",
        "      <td>     male</td>\n",
        "      <td> 0.162964</td>\n",
        "    </tr>\n",
        "    <tr>\n",
        "      <th>4  </th>\n",
        "      <td> dewiki</td>\n",
        "      <td> 1950</td>\n",
        "      <td>   female</td>\n",
        "      <td> 0.246338</td>\n",
        "    </tr>\n",
        "    <tr>\n",
        "      <th>5  </th>\n",
        "      <td> dewiki</td>\n",
        "      <td> 1950</td>\n",
        "      <td>     male</td>\n",
        "      <td> 0.186657</td>\n",
        "    </tr>\n",
        "    <tr>\n",
        "      <th>6  </th>\n",
        "      <td> dewiki</td>\n",
        "      <td> 1950</td>\n",
        "      <td> nogender</td>\n",
        "      <td> 0.000000</td>\n",
        "    </tr>\n",
        "    <tr>\n",
        "      <th>7  </th>\n",
        "      <td> dewiki</td>\n",
        "      <td> 1960</td>\n",
        "      <td>   female</td>\n",
        "      <td> 0.323635</td>\n",
        "    </tr>\n",
        "    <tr>\n",
        "      <th>8  </th>\n",
        "      <td> dewiki</td>\n",
        "      <td> 1960</td>\n",
        "      <td>     male</td>\n",
        "      <td> 0.256650</td>\n",
        "    </tr>\n",
        "    <tr>\n",
        "      <th>9  </th>\n",
        "      <td> dewiki</td>\n",
        "      <td> 1960</td>\n",
        "      <td> nogender</td>\n",
        "      <td> 0.000000</td>\n",
        "    </tr>\n",
        "    <tr>\n",
        "      <th>10 </th>\n",
        "      <td> dewiki</td>\n",
        "      <td> 1970</td>\n",
        "      <td>   female</td>\n",
        "      <td> 0.461909</td>\n",
        "    </tr>\n",
        "    <tr>\n",
        "      <th>11 </th>\n",
        "      <td> dewiki</td>\n",
        "      <td> 1970</td>\n",
        "      <td>     male</td>\n",
        "      <td> 0.328388</td>\n",
        "    </tr>\n",
        "    <tr>\n",
        "      <th>12 </th>\n",
        "      <td> dewiki</td>\n",
        "      <td> 1980</td>\n",
        "      <td>   female</td>\n",
        "      <td> 0.511078</td>\n",
        "    </tr>\n",
        "    <tr>\n",
        "      <th>13 </th>\n",
        "      <td> dewiki</td>\n",
        "      <td> 1980</td>\n",
        "      <td>     male</td>\n",
        "      <td> 0.331519</td>\n",
        "    </tr>\n",
        "    <tr>\n",
        "      <th>14 </th>\n",
        "      <td> enwiki</td>\n",
        "      <td> 1930</td>\n",
        "      <td>   female</td>\n",
        "      <td> 0.293813</td>\n",
        "    </tr>\n",
        "    <tr>\n",
        "      <th>15 </th>\n",
        "      <td> enwiki</td>\n",
        "      <td> 1930</td>\n",
        "      <td>     male</td>\n",
        "      <td> 0.167428</td>\n",
        "    </tr>\n",
        "    <tr>\n",
        "      <th>16 </th>\n",
        "      <td> enwiki</td>\n",
        "      <td> 1930</td>\n",
        "      <td> nogender</td>\n",
        "      <td> 0.104167</td>\n",
        "    </tr>\n",
        "    <tr>\n",
        "      <th>17 </th>\n",
        "      <td> enwiki</td>\n",
        "      <td> 1940</td>\n",
        "      <td>   female</td>\n",
        "      <td> 0.262633</td>\n",
        "    </tr>\n",
        "    <tr>\n",
        "      <th>18 </th>\n",
        "      <td> enwiki</td>\n",
        "      <td> 1940</td>\n",
        "      <td>     male</td>\n",
        "      <td> 0.179598</td>\n",
        "    </tr>\n",
        "    <tr>\n",
        "      <th>19 </th>\n",
        "      <td> enwiki</td>\n",
        "      <td> 1940</td>\n",
        "      <td> nogender</td>\n",
        "      <td> 0.079365</td>\n",
        "    </tr>\n",
        "    <tr>\n",
        "      <th>20 </th>\n",
        "      <td> enwiki</td>\n",
        "      <td> 1950</td>\n",
        "      <td>   female</td>\n",
        "      <td> 0.253739</td>\n",
        "    </tr>\n",
        "    <tr>\n",
        "      <th>21 </th>\n",
        "      <td> enwiki</td>\n",
        "      <td> 1950</td>\n",
        "      <td>     male</td>\n",
        "      <td> 0.202080</td>\n",
        "    </tr>\n",
        "    <tr>\n",
        "      <th>22 </th>\n",
        "      <td> enwiki</td>\n",
        "      <td> 1950</td>\n",
        "      <td> nogender</td>\n",
        "      <td> 0.102273</td>\n",
        "    </tr>\n",
        "    <tr>\n",
        "      <th>23 </th>\n",
        "      <td> enwiki</td>\n",
        "      <td> 1960</td>\n",
        "      <td>   female</td>\n",
        "      <td> 0.332370</td>\n",
        "    </tr>\n",
        "    <tr>\n",
        "      <th>24 </th>\n",
        "      <td> enwiki</td>\n",
        "      <td> 1960</td>\n",
        "      <td>     male</td>\n",
        "      <td> 0.250150</td>\n",
        "    </tr>\n",
        "    <tr>\n",
        "      <th>25 </th>\n",
        "      <td> enwiki</td>\n",
        "      <td> 1960</td>\n",
        "      <td> nogender</td>\n",
        "      <td> 0.159091</td>\n",
        "    </tr>\n",
        "    <tr>\n",
        "      <th>26 </th>\n",
        "      <td> enwiki</td>\n",
        "      <td> 1970</td>\n",
        "      <td>   female</td>\n",
        "      <td> 0.439121</td>\n",
        "    </tr>\n",
        "    <tr>\n",
        "      <th>27 </th>\n",
        "      <td> enwiki</td>\n",
        "      <td> 1970</td>\n",
        "      <td>     male</td>\n",
        "      <td> 0.296730</td>\n",
        "    </tr>\n",
        "    <tr>\n",
        "      <th>28 </th>\n",
        "      <td> enwiki</td>\n",
        "      <td> 1970</td>\n",
        "      <td> nogender</td>\n",
        "      <td> 0.152174</td>\n",
        "    </tr>\n",
        "    <tr>\n",
        "      <th>29 </th>\n",
        "      <td> enwiki</td>\n",
        "      <td> 1980</td>\n",
        "      <td>   female</td>\n",
        "      <td> 0.494689</td>\n",
        "    </tr>\n",
        "    <tr>\n",
        "      <th>...</th>\n",
        "      <td>...</td>\n",
        "      <td>...</td>\n",
        "      <td>...</td>\n",
        "      <td>...</td>\n",
        "    </tr>\n",
        "    <tr>\n",
        "      <th>87 </th>\n",
        "      <td> urwiki</td>\n",
        "      <td> 1940</td>\n",
        "      <td>   female</td>\n",
        "      <td> 0.839744</td>\n",
        "    </tr>\n",
        "    <tr>\n",
        "      <th>88 </th>\n",
        "      <td> urwiki</td>\n",
        "      <td> 1940</td>\n",
        "      <td>     male</td>\n",
        "      <td> 0.075377</td>\n",
        "    </tr>\n",
        "    <tr>\n",
        "      <th>89 </th>\n",
        "      <td> urwiki</td>\n",
        "      <td> 1950</td>\n",
        "      <td>   female</td>\n",
        "      <td> 0.841270</td>\n",
        "    </tr>\n",
        "    <tr>\n",
        "      <th>90 </th>\n",
        "      <td> urwiki</td>\n",
        "      <td> 1950</td>\n",
        "      <td>     male</td>\n",
        "      <td> 0.107955</td>\n",
        "    </tr>\n",
        "    <tr>\n",
        "      <th>91 </th>\n",
        "      <td> urwiki</td>\n",
        "      <td> 1960</td>\n",
        "      <td>   female</td>\n",
        "      <td> 0.868996</td>\n",
        "    </tr>\n",
        "    <tr>\n",
        "      <th>92 </th>\n",
        "      <td> urwiki</td>\n",
        "      <td> 1960</td>\n",
        "      <td>     male</td>\n",
        "      <td> 0.161972</td>\n",
        "    </tr>\n",
        "    <tr>\n",
        "      <th>93 </th>\n",
        "      <td> urwiki</td>\n",
        "      <td> 1960</td>\n",
        "      <td> nogender</td>\n",
        "      <td> 0.000000</td>\n",
        "    </tr>\n",
        "    <tr>\n",
        "      <th>94 </th>\n",
        "      <td> urwiki</td>\n",
        "      <td> 1970</td>\n",
        "      <td>   female</td>\n",
        "      <td> 0.902844</td>\n",
        "    </tr>\n",
        "    <tr>\n",
        "      <th>95 </th>\n",
        "      <td> urwiki</td>\n",
        "      <td> 1970</td>\n",
        "      <td>     male</td>\n",
        "      <td> 0.198413</td>\n",
        "    </tr>\n",
        "    <tr>\n",
        "      <th>96 </th>\n",
        "      <td> urwiki</td>\n",
        "      <td> 1980</td>\n",
        "      <td>   female</td>\n",
        "      <td> 0.928264</td>\n",
        "    </tr>\n",
        "    <tr>\n",
        "      <th>97 </th>\n",
        "      <td> urwiki</td>\n",
        "      <td> 1980</td>\n",
        "      <td>     male</td>\n",
        "      <td> 0.203008</td>\n",
        "    </tr>\n",
        "    <tr>\n",
        "      <th>98 </th>\n",
        "      <td> urwiki</td>\n",
        "      <td> 1980</td>\n",
        "      <td> nogender</td>\n",
        "      <td> 0.000000</td>\n",
        "    </tr>\n",
        "    <tr>\n",
        "      <th>99 </th>\n",
        "      <td> zhwiki</td>\n",
        "      <td> 1930</td>\n",
        "      <td>   female</td>\n",
        "      <td> 0.371336</td>\n",
        "    </tr>\n",
        "    <tr>\n",
        "      <th>100</th>\n",
        "      <td> zhwiki</td>\n",
        "      <td> 1930</td>\n",
        "      <td>     male</td>\n",
        "      <td> 0.191993</td>\n",
        "    </tr>\n",
        "    <tr>\n",
        "      <th>101</th>\n",
        "      <td> zhwiki</td>\n",
        "      <td> 1930</td>\n",
        "      <td> nogender</td>\n",
        "      <td> 0.070039</td>\n",
        "    </tr>\n",
        "    <tr>\n",
        "      <th>102</th>\n",
        "      <td> zhwiki</td>\n",
        "      <td> 1940</td>\n",
        "      <td>   female</td>\n",
        "      <td> 0.275641</td>\n",
        "    </tr>\n",
        "    <tr>\n",
        "      <th>103</th>\n",
        "      <td> zhwiki</td>\n",
        "      <td> 1940</td>\n",
        "      <td>     male</td>\n",
        "      <td> 0.225217</td>\n",
        "    </tr>\n",
        "    <tr>\n",
        "      <th>104</th>\n",
        "      <td> zhwiki</td>\n",
        "      <td> 1940</td>\n",
        "      <td> nogender</td>\n",
        "      <td> 0.043702</td>\n",
        "    </tr>\n",
        "    <tr>\n",
        "      <th>105</th>\n",
        "      <td> zhwiki</td>\n",
        "      <td> 1950</td>\n",
        "      <td>   female</td>\n",
        "      <td> 0.358438</td>\n",
        "    </tr>\n",
        "    <tr>\n",
        "      <th>106</th>\n",
        "      <td> zhwiki</td>\n",
        "      <td> 1950</td>\n",
        "      <td>     male</td>\n",
        "      <td> 0.269242</td>\n",
        "    </tr>\n",
        "    <tr>\n",
        "      <th>107</th>\n",
        "      <td> zhwiki</td>\n",
        "      <td> 1950</td>\n",
        "      <td> nogender</td>\n",
        "      <td> 0.038462</td>\n",
        "    </tr>\n",
        "    <tr>\n",
        "      <th>108</th>\n",
        "      <td> zhwiki</td>\n",
        "      <td> 1960</td>\n",
        "      <td>   female</td>\n",
        "      <td> 0.560241</td>\n",
        "    </tr>\n",
        "    <tr>\n",
        "      <th>109</th>\n",
        "      <td> zhwiki</td>\n",
        "      <td> 1960</td>\n",
        "      <td>     male</td>\n",
        "      <td> 0.423300</td>\n",
        "    </tr>\n",
        "    <tr>\n",
        "      <th>110</th>\n",
        "      <td> zhwiki</td>\n",
        "      <td> 1960</td>\n",
        "      <td> nogender</td>\n",
        "      <td> 0.069982</td>\n",
        "    </tr>\n",
        "    <tr>\n",
        "      <th>111</th>\n",
        "      <td> zhwiki</td>\n",
        "      <td> 1970</td>\n",
        "      <td>   female</td>\n",
        "      <td> 0.684178</td>\n",
        "    </tr>\n",
        "    <tr>\n",
        "      <th>112</th>\n",
        "      <td> zhwiki</td>\n",
        "      <td> 1970</td>\n",
        "      <td>     male</td>\n",
        "      <td> 0.489796</td>\n",
        "    </tr>\n",
        "    <tr>\n",
        "      <th>113</th>\n",
        "      <td> zhwiki</td>\n",
        "      <td> 1970</td>\n",
        "      <td> nogender</td>\n",
        "      <td> 0.272374</td>\n",
        "    </tr>\n",
        "    <tr>\n",
        "      <th>114</th>\n",
        "      <td> zhwiki</td>\n",
        "      <td> 1980</td>\n",
        "      <td>   female</td>\n",
        "      <td> 0.720637</td>\n",
        "    </tr>\n",
        "    <tr>\n",
        "      <th>115</th>\n",
        "      <td> zhwiki</td>\n",
        "      <td> 1980</td>\n",
        "      <td>     male</td>\n",
        "      <td> 0.413772</td>\n",
        "    </tr>\n",
        "    <tr>\n",
        "      <th>116</th>\n",
        "      <td> zhwiki</td>\n",
        "      <td> 1980</td>\n",
        "      <td> nogender</td>\n",
        "      <td> 0.387960</td>\n",
        "    </tr>\n",
        "  </tbody>\n",
        "</table>\n",
        "<p>117 rows \u00d7 4 columns</p>\n",
        "</div>"
       ],
       "metadata": {},
       "output_type": "pyout",
       "prompt_number": 14,
       "text": [
        "       wiki  decade    gender  celeb_per\n",
        "0    dewiki    1930    female   0.313582\n",
        "1    dewiki    1930      male   0.147053\n",
        "2    dewiki    1940    female   0.271985\n",
        "3    dewiki    1940      male   0.162964\n",
        "4    dewiki    1950    female   0.246338\n",
        "5    dewiki    1950      male   0.186657\n",
        "6    dewiki    1950  nogender   0.000000\n",
        "7    dewiki    1960    female   0.323635\n",
        "8    dewiki    1960      male   0.256650\n",
        "9    dewiki    1960  nogender   0.000000\n",
        "10   dewiki    1970    female   0.461909\n",
        "11   dewiki    1970      male   0.328388\n",
        "12   dewiki    1980    female   0.511078\n",
        "13   dewiki    1980      male   0.331519\n",
        "14   enwiki    1930    female   0.293813\n",
        "15   enwiki    1930      male   0.167428\n",
        "16   enwiki    1930  nogender   0.104167\n",
        "17   enwiki    1940    female   0.262633\n",
        "18   enwiki    1940      male   0.179598\n",
        "19   enwiki    1940  nogender   0.079365\n",
        "20   enwiki    1950    female   0.253739\n",
        "21   enwiki    1950      male   0.202080\n",
        "22   enwiki    1950  nogender   0.102273\n",
        "23   enwiki    1960    female   0.332370\n",
        "24   enwiki    1960      male   0.250150\n",
        "25   enwiki    1960  nogender   0.159091\n",
        "26   enwiki    1970    female   0.439121\n",
        "27   enwiki    1970      male   0.296730\n",
        "28   enwiki    1970  nogender   0.152174\n",
        "29   enwiki    1980    female   0.494689\n",
        "..      ...     ...       ...        ...\n",
        "87   urwiki    1940    female   0.839744\n",
        "88   urwiki    1940      male   0.075377\n",
        "89   urwiki    1950    female   0.841270\n",
        "90   urwiki    1950      male   0.107955\n",
        "91   urwiki    1960    female   0.868996\n",
        "92   urwiki    1960      male   0.161972\n",
        "93   urwiki    1960  nogender   0.000000\n",
        "94   urwiki    1970    female   0.902844\n",
        "95   urwiki    1970      male   0.198413\n",
        "96   urwiki    1980    female   0.928264\n",
        "97   urwiki    1980      male   0.203008\n",
        "98   urwiki    1980  nogender   0.000000\n",
        "99   zhwiki    1930    female   0.371336\n",
        "100  zhwiki    1930      male   0.191993\n",
        "101  zhwiki    1930  nogender   0.070039\n",
        "102  zhwiki    1940    female   0.275641\n",
        "103  zhwiki    1940      male   0.225217\n",
        "104  zhwiki    1940  nogender   0.043702\n",
        "105  zhwiki    1950    female   0.358438\n",
        "106  zhwiki    1950      male   0.269242\n",
        "107  zhwiki    1950  nogender   0.038462\n",
        "108  zhwiki    1960    female   0.560241\n",
        "109  zhwiki    1960      male   0.423300\n",
        "110  zhwiki    1960  nogender   0.069982\n",
        "111  zhwiki    1970    female   0.684178\n",
        "112  zhwiki    1970      male   0.489796\n",
        "113  zhwiki    1970  nogender   0.272374\n",
        "114  zhwiki    1980    female   0.720637\n",
        "115  zhwiki    1980      male   0.413772\n",
        "116  zhwiki    1980  nogender   0.387960\n",
        "\n",
        "[117 rows x 4 columns]"
       ]
      }
     ],
     "prompt_number": 14
    },
    {
     "cell_type": "code",
     "collapsed": false,
     "input": [
      "natlangpiv = pd.pivot_table(celebdf, values='celeb_per', rows='decade', cols='wiki')"
     ],
     "language": "python",
     "metadata": {},
     "outputs": [],
     "prompt_number": 15
    },
    {
     "cell_type": "code",
     "collapsed": false,
     "input": [
      "natlangpiv"
     ],
     "language": "python",
     "metadata": {},
     "outputs": [
      {
       "html": [
        "<div style=\"max-height:1000px;max-width:1500px;overflow:auto;\">\n",
        "<table border=\"1\" class=\"dataframe\">\n",
        "  <thead>\n",
        "    <tr style=\"text-align: right;\">\n",
        "      <th>wiki</th>\n",
        "      <th>dewiki</th>\n",
        "      <th>enwiki</th>\n",
        "      <th>jawiki</th>\n",
        "      <th>kowiki</th>\n",
        "      <th>tlwiki</th>\n",
        "      <th>urwiki</th>\n",
        "      <th>zhwiki</th>\n",
        "    </tr>\n",
        "    <tr>\n",
        "      <th>decade</th>\n",
        "      <th></th>\n",
        "      <th></th>\n",
        "      <th></th>\n",
        "      <th></th>\n",
        "      <th></th>\n",
        "      <th></th>\n",
        "      <th></th>\n",
        "    </tr>\n",
        "  </thead>\n",
        "  <tbody>\n",
        "    <tr>\n",
        "      <th>1930</th>\n",
        "      <td> 0.230318</td>\n",
        "      <td> 0.188469</td>\n",
        "      <td> 0.283101</td>\n",
        "      <td> 0.311064</td>\n",
        "      <td> 0.717719</td>\n",
        "      <td> 0.496977</td>\n",
        "      <td> 0.211123</td>\n",
        "    </tr>\n",
        "    <tr>\n",
        "      <th>1940</th>\n",
        "      <td> 0.217475</td>\n",
        "      <td> 0.173866</td>\n",
        "      <td> 0.291716</td>\n",
        "      <td> 0.448845</td>\n",
        "      <td> 0.812707</td>\n",
        "      <td> 0.457560</td>\n",
        "      <td> 0.181520</td>\n",
        "    </tr>\n",
        "    <tr>\n",
        "      <th>1950</th>\n",
        "      <td> 0.144332</td>\n",
        "      <td> 0.186030</td>\n",
        "      <td> 0.314639</td>\n",
        "      <td> 0.446219</td>\n",
        "      <td> 0.666099</td>\n",
        "      <td> 0.474612</td>\n",
        "      <td> 0.222047</td>\n",
        "    </tr>\n",
        "    <tr>\n",
        "      <th>1960</th>\n",
        "      <td> 0.193429</td>\n",
        "      <td> 0.247204</td>\n",
        "      <td> 0.383604</td>\n",
        "      <td> 0.584960</td>\n",
        "      <td> 0.876718</td>\n",
        "      <td> 0.343656</td>\n",
        "      <td> 0.351174</td>\n",
        "    </tr>\n",
        "    <tr>\n",
        "      <th>1970</th>\n",
        "      <td> 0.395148</td>\n",
        "      <td> 0.296008</td>\n",
        "      <td> 0.460160</td>\n",
        "      <td> 0.639824</td>\n",
        "      <td> 0.914757</td>\n",
        "      <td> 0.550628</td>\n",
        "      <td> 0.482116</td>\n",
        "    </tr>\n",
        "    <tr>\n",
        "      <th>1980</th>\n",
        "      <td> 0.421298</td>\n",
        "      <td> 0.340357</td>\n",
        "      <td> 0.508095</td>\n",
        "      <td> 0.594178</td>\n",
        "      <td> 0.924142</td>\n",
        "      <td> 0.377091</td>\n",
        "      <td> 0.507456</td>\n",
        "    </tr>\n",
        "  </tbody>\n",
        "</table>\n",
        "</div>"
       ],
       "metadata": {},
       "output_type": "pyout",
       "prompt_number": 16,
       "text": [
        "wiki      dewiki    enwiki    jawiki    kowiki    tlwiki    urwiki    zhwiki\n",
        "decade                                                                      \n",
        "1930    0.230318  0.188469  0.283101  0.311064  0.717719  0.496977  0.211123\n",
        "1940    0.217475  0.173866  0.291716  0.448845  0.812707  0.457560  0.181520\n",
        "1950    0.144332  0.186030  0.314639  0.446219  0.666099  0.474612  0.222047\n",
        "1960    0.193429  0.247204  0.383604  0.584960  0.876718  0.343656  0.351174\n",
        "1970    0.395148  0.296008  0.460160  0.639824  0.914757  0.550628  0.482116\n",
        "1980    0.421298  0.340357  0.508095  0.594178  0.924142  0.377091  0.507456"
       ]
      }
     ],
     "prompt_number": 16
    },
    {
     "cell_type": "code",
     "collapsed": false,
     "input": [],
     "language": "python",
     "metadata": {},
     "outputs": []
    }
   ],
   "metadata": {}
  }
 ]
}
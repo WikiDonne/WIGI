{
 "metadata": {
  "name": "",
  "signature": "sha256:24993a1f63a14aca8e031610ae0a921680d324fe08a84a73e236c6436aa70179"
 },
 "nbformat": 3,
 "nbformat_minor": 0,
 "worksheets": [
  {
   "cells": [
    {
     "cell_type": "markdown",
     "metadata": {},
     "source": [
      "What's for those recently in confucian wikipedias, what's "
     ]
    },
    {
     "cell_type": "code",
     "collapsed": false,
     "input": [
      "import pandas as pd\n",
      "import numpy\n",
      "from collections import defaultdict\n",
      "import json\n",
      "import statsmodels.api as sm\n",
      "%pylab inline\n",
      "java_min_int = -2147483648\n",
      "WIKIS =('jawiki', 'tlwiki', 'urwiki', 'zhwiki', 'dewiki', 'enwiki','kowiki')"
     ],
     "language": "python",
     "metadata": {},
     "outputs": [
      {
       "output_type": "stream",
       "stream": "stdout",
       "text": [
        "Populating the interactive namespace from numpy and matplotlib\n"
       ]
      },
      {
       "output_type": "stream",
       "stream": "stderr",
       "text": [
        "WARNING: pylab import has clobbered these variables: ['f']\n",
        "`%matplotlib` prevents importing * from pylab and numpy\n"
       ]
      }
     ],
     "prompt_number": 86
    },
    {
     "cell_type": "code",
     "collapsed": false,
     "input": [
      "allrecs = pd.read_csv('snapshot_data/2014-10-13/gender-index-data-2014-10-13.csv',na_values=[java_min_int])\n",
      "def split_column(q_str):\n",
      "    if type(q_str) is float:\n",
      "        if numpy.isnan(q_str):\n",
      "            return q_str \n",
      "    if type(q_str) is str:\n",
      "        qs = q_str.split('|')\n",
      "        return qs[:-1] #cos the format will always end with a |\n",
      "\n",
      "for col in ['gender','site_links']:\n",
      "    allrecs[col] = allrecs[col].apply(split_column)"
     ],
     "language": "python",
     "metadata": {},
     "outputs": [],
     "prompt_number": 2
    },
    {
     "cell_type": "code",
     "collapsed": false,
     "input": [
      "def has(xxwiki):\n",
      "    def has_xx(row):\n",
      "        if isinstance(row['site_links'], list):\n",
      "            return xxwiki in row['site_links']\n",
      "        else: return False\n",
      "    return has_xx"
     ],
     "language": "python",
     "metadata": {},
     "outputs": [],
     "prompt_number": 3
    },
    {
     "cell_type": "markdown",
     "metadata": {},
     "source": [
      "generate files"
     ]
    },
    {
     "cell_type": "code",
     "collapsed": false,
     "input": [
      "allrecs.head(20)"
     ],
     "language": "python",
     "metadata": {},
     "outputs": [
      {
       "html": [
        "<div style=\"max-height:1000px;max-width:1500px;overflow:auto;\">\n",
        "<table border=\"1\" class=\"dataframe\">\n",
        "  <thead>\n",
        "    <tr style=\"text-align: right;\">\n",
        "      <th></th>\n",
        "      <th>qid</th>\n",
        "      <th>dob</th>\n",
        "      <th>dod</th>\n",
        "      <th>gender</th>\n",
        "      <th>ethnic_group</th>\n",
        "      <th>citizenship</th>\n",
        "      <th>place_of_birth</th>\n",
        "      <th>site_links</th>\n",
        "    </tr>\n",
        "  </thead>\n",
        "  <tbody>\n",
        "    <tr>\n",
        "      <th>0 </th>\n",
        "      <td>  Q23</td>\n",
        "      <td> 1732</td>\n",
        "      <td> 1799</td>\n",
        "      <td> [Q6581097]</td>\n",
        "      <td> NaN</td>\n",
        "      <td>                 Q30|</td>\n",
        "      <td>   Q494413|</td>\n",
        "      <td> [zhwiki, kywiki, euwiki, plwiki, bswiki, angwi...</td>\n",
        "    </tr>\n",
        "    <tr>\n",
        "      <th>1 </th>\n",
        "      <td>  Q42</td>\n",
        "      <td> 1952</td>\n",
        "      <td> 2001</td>\n",
        "      <td> [Q6581097]</td>\n",
        "      <td> NaN</td>\n",
        "      <td>                Q145|</td>\n",
        "      <td>      Q350|</td>\n",
        "      <td> [zhwiki, jvwiki, euwiki, plwiki, bswiki, eswik...</td>\n",
        "    </tr>\n",
        "    <tr>\n",
        "      <th>2 </th>\n",
        "      <td> Q207</td>\n",
        "      <td> 1946</td>\n",
        "      <td>  NaN</td>\n",
        "      <td> [Q6581097]</td>\n",
        "      <td> NaN</td>\n",
        "      <td>                 Q30|</td>\n",
        "      <td>    Q49145|</td>\n",
        "      <td> [uzwiki, eswiki, kowikiquote, huwiki, liwikiqu...</td>\n",
        "    </tr>\n",
        "    <tr>\n",
        "      <th>3 </th>\n",
        "      <td> Q297</td>\n",
        "      <td>  NaN</td>\n",
        "      <td> 1660</td>\n",
        "      <td> [Q6581097]</td>\n",
        "      <td> NaN</td>\n",
        "      <td>                 Q29|</td>\n",
        "      <td>     Q8717|</td>\n",
        "      <td> [zhwiki, kywiki, plwiki, euwiki, bswiki, uzwik...</td>\n",
        "    </tr>\n",
        "    <tr>\n",
        "      <th>4 </th>\n",
        "      <td> Q326</td>\n",
        "      <td> 1942</td>\n",
        "      <td>  NaN</td>\n",
        "      <td> [Q6581097]</td>\n",
        "      <td> NaN</td>\n",
        "      <td>            Q298|Q39|</td>\n",
        "      <td>     Q2887|</td>\n",
        "      <td> [zhwiki, plwiki, euwiki, kowiki, frwiki, eswik...</td>\n",
        "    </tr>\n",
        "    <tr>\n",
        "      <th>5 </th>\n",
        "      <td> Q368</td>\n",
        "      <td> 1915</td>\n",
        "      <td> 2006</td>\n",
        "      <td> [Q6581097]</td>\n",
        "      <td> NaN</td>\n",
        "      <td>                Q298|</td>\n",
        "      <td>    Q33986|</td>\n",
        "      <td> [lbwiki, zhwiki, plwiki, euwiki, bswiki, angwi...</td>\n",
        "    </tr>\n",
        "    <tr>\n",
        "      <th>6 </th>\n",
        "      <td> Q377</td>\n",
        "      <td> 1882</td>\n",
        "      <td> 1942</td>\n",
        "      <td> [Q6581097]</td>\n",
        "      <td> NaN</td>\n",
        "      <td> Q34266|Q2895|Q15180|</td>\n",
        "      <td>   Q658871|</td>\n",
        "      <td> [zhwiki, kywiki, ukwikisource, jvwiki, plwiki,...</td>\n",
        "    </tr>\n",
        "    <tr>\n",
        "      <th>7 </th>\n",
        "      <td> Q475</td>\n",
        "      <td> 1911</td>\n",
        "      <td> 1982</td>\n",
        "      <td> [Q6581097]</td>\n",
        "      <td> NaN</td>\n",
        "      <td>                Q298|</td>\n",
        "      <td>     Q2887|</td>\n",
        "      <td> [plwiki, euwiki, kowiki, frwiki, eswiki, yowik...</td>\n",
        "    </tr>\n",
        "    <tr>\n",
        "      <th>8 </th>\n",
        "      <td> Q501</td>\n",
        "      <td> 1821</td>\n",
        "      <td> 1867</td>\n",
        "      <td> [Q6581097]</td>\n",
        "      <td> NaN</td>\n",
        "      <td>                Q142|</td>\n",
        "      <td>       Q90|</td>\n",
        "      <td> [zhwiki, glwikisource, plwiki, euwiki, bswiki,...</td>\n",
        "    </tr>\n",
        "    <tr>\n",
        "      <th>9 </th>\n",
        "      <td> Q530</td>\n",
        "      <td> 1956</td>\n",
        "      <td>  NaN</td>\n",
        "      <td> [Q6581097]</td>\n",
        "      <td> NaN</td>\n",
        "      <td>                 Q34|</td>\n",
        "      <td>   Q499415|</td>\n",
        "      <td> [plwiki, euwiki, frwiki, bswiki, bewiki, eswik...</td>\n",
        "    </tr>\n",
        "    <tr>\n",
        "      <th>10</th>\n",
        "      <td> Q555</td>\n",
        "      <td> 1973</td>\n",
        "      <td>  NaN</td>\n",
        "      <td> [Q6581072]</td>\n",
        "      <td> NaN</td>\n",
        "      <td>                 Q30|</td>\n",
        "      <td>  Q1020700|</td>\n",
        "      <td> [zhwiki, eowiki, plwiki, kowiki, ruwiki, frwik...</td>\n",
        "    </tr>\n",
        "    <tr>\n",
        "      <th>11</th>\n",
        "      <td> Q619</td>\n",
        "      <td> 1473</td>\n",
        "      <td> 1543</td>\n",
        "      <td> [Q6581097]</td>\n",
        "      <td> NaN</td>\n",
        "      <td>                 Q36|</td>\n",
        "      <td>    Q47554|</td>\n",
        "      <td> [szlwiki, zhwiki, kywiki, plwiki, euwiki, bswi...</td>\n",
        "    </tr>\n",
        "    <tr>\n",
        "      <th>12</th>\n",
        "      <td> Q633</td>\n",
        "      <td> 1945</td>\n",
        "      <td>  NaN</td>\n",
        "      <td> [Q6581097]</td>\n",
        "      <td> NaN</td>\n",
        "      <td>                 Q16|</td>\n",
        "      <td>      Q172|</td>\n",
        "      <td> [euwikiquote, zhwiki, plwiki, euwiki, eswiki, ...</td>\n",
        "    </tr>\n",
        "    <tr>\n",
        "      <th>13</th>\n",
        "      <td> Q635</td>\n",
        "      <td>  -68</td>\n",
        "      <td>  -29</td>\n",
        "      <td> [Q6581072]</td>\n",
        "      <td> NaN</td>\n",
        "      <td>              Q11768|</td>\n",
        "      <td>       Q87|</td>\n",
        "      <td> [zhwiki, plwiki, euwiki, bswiki, uzwiki, eswik...</td>\n",
        "    </tr>\n",
        "    <tr>\n",
        "      <th>14</th>\n",
        "      <td> Q747</td>\n",
        "      <td> 1606</td>\n",
        "      <td> 1684</td>\n",
        "      <td> [Q6581097]</td>\n",
        "      <td> NaN</td>\n",
        "      <td>              Q70972|</td>\n",
        "      <td>    Q30974|</td>\n",
        "      <td> [lbwiki, zhwiki, plwiki, euwiki, bswiki, eswik...</td>\n",
        "    </tr>\n",
        "    <tr>\n",
        "      <th>15</th>\n",
        "      <td> Q815</td>\n",
        "      <td> 1898</td>\n",
        "      <td> 1980</td>\n",
        "      <td> [Q6581097]</td>\n",
        "      <td> NaN</td>\n",
        "      <td>                Q298|</td>\n",
        "      <td>    Q14467|</td>\n",
        "      <td> [ptwiki, plwiki, ruwiki, kowiki, frwiki, enwik...</td>\n",
        "    </tr>\n",
        "    <tr>\n",
        "      <th>16</th>\n",
        "      <td> Q849</td>\n",
        "      <td> 1431</td>\n",
        "      <td> 1463</td>\n",
        "      <td> [Q6581097]</td>\n",
        "      <td> NaN</td>\n",
        "      <td>              Q70972|</td>\n",
        "      <td>       Q90|</td>\n",
        "      <td> [zhwiki, plwiki, euwiki, ptwikisource, eswiki,...</td>\n",
        "    </tr>\n",
        "    <tr>\n",
        "      <th>17</th>\n",
        "      <td> Q853</td>\n",
        "      <td> 1932</td>\n",
        "      <td> 1986</td>\n",
        "      <td> [Q6581097]</td>\n",
        "      <td> NaN</td>\n",
        "      <td>              Q15180|</td>\n",
        "      <td> Q15651436|</td>\n",
        "      <td> [zhwiki, plwiki, euwiki, eswiki, afwiki, ocwik...</td>\n",
        "    </tr>\n",
        "    <tr>\n",
        "      <th>18</th>\n",
        "      <td> Q859</td>\n",
        "      <td> -427</td>\n",
        "      <td> -347</td>\n",
        "      <td> [Q6581097]</td>\n",
        "      <td> NaN</td>\n",
        "      <td>             Q844930|</td>\n",
        "      <td>  Q1779520|</td>\n",
        "      <td> [uzwiki, bhwiki, eswiki, ptwikisource, huwiki,...</td>\n",
        "    </tr>\n",
        "    <tr>\n",
        "      <th>19</th>\n",
        "      <td> Q873</td>\n",
        "      <td> 1949</td>\n",
        "      <td>  NaN</td>\n",
        "      <td> [Q6581072]</td>\n",
        "      <td> NaN</td>\n",
        "      <td>                 Q30|</td>\n",
        "      <td>  Q1000642|</td>\n",
        "      <td> [lbwiki, zhwiki, jvwiki, plwiki, euwiki, bswik...</td>\n",
        "    </tr>\n",
        "  </tbody>\n",
        "</table>\n",
        "</div>"
       ],
       "metadata": {},
       "output_type": "pyout",
       "prompt_number": 19,
       "text": [
        "     qid   dob   dod      gender ethnic_group           citizenship  \\\n",
        "0    Q23  1732  1799  [Q6581097]          NaN                  Q30|   \n",
        "1    Q42  1952  2001  [Q6581097]          NaN                 Q145|   \n",
        "2   Q207  1946   NaN  [Q6581097]          NaN                  Q30|   \n",
        "3   Q297   NaN  1660  [Q6581097]          NaN                  Q29|   \n",
        "4   Q326  1942   NaN  [Q6581097]          NaN             Q298|Q39|   \n",
        "5   Q368  1915  2006  [Q6581097]          NaN                 Q298|   \n",
        "6   Q377  1882  1942  [Q6581097]          NaN  Q34266|Q2895|Q15180|   \n",
        "7   Q475  1911  1982  [Q6581097]          NaN                 Q298|   \n",
        "8   Q501  1821  1867  [Q6581097]          NaN                 Q142|   \n",
        "9   Q530  1956   NaN  [Q6581097]          NaN                  Q34|   \n",
        "10  Q555  1973   NaN  [Q6581072]          NaN                  Q30|   \n",
        "11  Q619  1473  1543  [Q6581097]          NaN                  Q36|   \n",
        "12  Q633  1945   NaN  [Q6581097]          NaN                  Q16|   \n",
        "13  Q635   -68   -29  [Q6581072]          NaN               Q11768|   \n",
        "14  Q747  1606  1684  [Q6581097]          NaN               Q70972|   \n",
        "15  Q815  1898  1980  [Q6581097]          NaN                 Q298|   \n",
        "16  Q849  1431  1463  [Q6581097]          NaN               Q70972|   \n",
        "17  Q853  1932  1986  [Q6581097]          NaN               Q15180|   \n",
        "18  Q859  -427  -347  [Q6581097]          NaN              Q844930|   \n",
        "19  Q873  1949   NaN  [Q6581072]          NaN                  Q30|   \n",
        "\n",
        "   place_of_birth                                         site_links  \n",
        "0        Q494413|  [zhwiki, kywiki, euwiki, plwiki, bswiki, angwi...  \n",
        "1           Q350|  [zhwiki, jvwiki, euwiki, plwiki, bswiki, eswik...  \n",
        "2         Q49145|  [uzwiki, eswiki, kowikiquote, huwiki, liwikiqu...  \n",
        "3          Q8717|  [zhwiki, kywiki, plwiki, euwiki, bswiki, uzwik...  \n",
        "4          Q2887|  [zhwiki, plwiki, euwiki, kowiki, frwiki, eswik...  \n",
        "5         Q33986|  [lbwiki, zhwiki, plwiki, euwiki, bswiki, angwi...  \n",
        "6        Q658871|  [zhwiki, kywiki, ukwikisource, jvwiki, plwiki,...  \n",
        "7          Q2887|  [plwiki, euwiki, kowiki, frwiki, eswiki, yowik...  \n",
        "8            Q90|  [zhwiki, glwikisource, plwiki, euwiki, bswiki,...  \n",
        "9        Q499415|  [plwiki, euwiki, frwiki, bswiki, bewiki, eswik...  \n",
        "10      Q1020700|  [zhwiki, eowiki, plwiki, kowiki, ruwiki, frwik...  \n",
        "11        Q47554|  [szlwiki, zhwiki, kywiki, plwiki, euwiki, bswi...  \n",
        "12          Q172|  [euwikiquote, zhwiki, plwiki, euwiki, eswiki, ...  \n",
        "13           Q87|  [zhwiki, plwiki, euwiki, bswiki, uzwiki, eswik...  \n",
        "14        Q30974|  [lbwiki, zhwiki, plwiki, euwiki, bswiki, eswik...  \n",
        "15        Q14467|  [ptwiki, plwiki, ruwiki, kowiki, frwiki, enwik...  \n",
        "16           Q90|  [zhwiki, plwiki, euwiki, ptwikisource, eswiki,...  \n",
        "17     Q15651436|  [zhwiki, plwiki, euwiki, eswiki, afwiki, ocwik...  \n",
        "18      Q1779520|  [uzwiki, bhwiki, eswiki, ptwikisource, huwiki,...  \n",
        "19      Q1000642|  [lbwiki, zhwiki, jvwiki, plwiki, euwiki, bswik...  "
       ]
      }
     ],
     "prompt_number": 19
    },
    {
     "cell_type": "code",
     "collapsed": false,
     "input": [
      "def makedecades(b,e):\n",
      "    for y in range(b, e, 10):\n",
      "        yield y, y+10\n",
      "        \n",
      "def isfemale(x):\n",
      "    if isinstance(x, list):\n",
      "        return x[0] == 'Q6581072'\n",
      "    else: return False\n",
      "def ismale(x):\n",
      "    if isinstance(x, list):\n",
      "        return x[0] == 'Q6581097'\n",
      "    else: return False\n",
      "def nogender(x):\n",
      "    if not isinstance(x, list):\n",
      "        return True\n",
      "    else: return False\n",
      "        \n",
      "for xxwiki in WIKIS:\n",
      "    has_wiki = has(xxwiki)\n",
      "    recs = allrecs[allrecs.apply(has_wiki, axis=1)]\n",
      "    for gender, gender_test in (('female', isfemale), ('male', ismale), ('nogender', nogender)):\n",
      "        grecs = recs[recs['gender'].apply(gender_test)]\n",
      "\n",
      "        for start_year, stop_year in  makedecades(1930,1990):\n",
      "            modrecs = grecs[(grecs['dob'] >= start_year) &(grecs['dob'] < stop_year)]\n",
      "            #print len(modrecs), xxwiki, start_year\n",
      "            filepath = 'helpers/inspection/{}_{}_{}.json'.format(xxwiki, start_year,gender)\n",
      "            json.dump(list(modrecs['qid']), open(filepath,'w'))\n",
      "            !scp $filepath wmflabs-tools:/home/maximilianklein/inspectionshortcut"
     ],
     "language": "python",
     "metadata": {},
     "outputs": [
      {
       "output_type": "stream",
       "stream": "stdout",
       "text": [
        " 772 jawiki 1930\n",
        "1202 jawiki 1940\n",
        "1457 jawiki 1950\n",
        "2194 jawiki 1960\n",
        "3138 jawiki 1970\n",
        "4304 jawiki 1980\n",
        "4718"
       ]
      },
      {
       "output_type": "stream",
       "stream": "stdout",
       "text": [
        " jawiki 1930\n",
        "6520 jawiki 1940\n",
        "6555 jawiki 1950\n",
        "7536 jawiki 1960\n",
        "9715 jawiki 1970\n",
        "11830 jawiki 1980\n",
        "340"
       ]
      },
      {
       "output_type": "stream",
       "stream": "stdout",
       "text": [
        " jawiki 1930\n",
        "422 jawiki 1940\n",
        "379 jawiki 1950\n",
        "376 jawiki 1960\n",
        "379 jawiki 1970\n",
        "305 jawiki 1980\n",
        "177"
       ]
      },
      {
       "output_type": "stream",
       "stream": "stdout",
       "text": [
        " tlwiki 1930\n",
        "235 tlwiki 1940\n",
        "294 tlwiki 1950\n",
        "427 tlwiki 1960\n",
        "625 tlwiki 1970\n",
        "837 tlwiki 1980\n",
        "359 tlwiki 1930\n",
        "480 tlwiki 1940\n",
        "479 tlwiki 1950\n",
        "557 tlwiki 1960\n",
        "598 tlwiki 1970\n",
        "683 tlwiki 1980\n",
        "0 tlwiki 1930\n",
        "1 tlwiki 1940\n",
        "2 tlwiki 1950\n",
        "2 tlwiki 1960\n",
        "6 tlwiki 1970\n",
        "3 tlwiki 1980\n",
        "109"
       ]
      },
      {
       "output_type": "stream",
       "stream": "stdout",
       "text": [
        " urwiki 1930\n",
        "156 urwiki 1940\n",
        "189 urwiki 1950\n",
        "229 urwiki 1960\n",
        "422 urwiki 1970\n",
        "697 urwiki 1980\n",
        "176 urwiki 1930\n",
        "199 urwiki 1940\n",
        "176 urwiki 1950\n",
        "142 urwiki 1960\n",
        "126 urwiki 1970\n",
        "133 urwiki 1980\n",
        "0 urwiki 1930\n",
        "0 urwiki 1940\n",
        "0 urwiki 1950\n",
        "1 urwiki 1960\n",
        "0 urwiki 1970\n",
        "1 urwiki 1980\n",
        "307"
       ]
      },
      {
       "output_type": "stream",
       "stream": "stdout",
       "text": [
        " zhwiki 1930\n",
        "468 zhwiki 1940\n",
        "717 zhwiki 1950\n",
        "996 zhwiki 1960\n",
        "1637 zhwiki 1970\n",
        "3014 zhwiki 1980\n",
        "2448"
       ]
      },
      {
       "output_type": "stream",
       "stream": "stdout",
       "text": [
        " zhwiki 1930\n",
        "3339 zhwiki 1940\n",
        "3495 zhwiki 1950\n",
        "3794 zhwiki 1960\n",
        "4753 zhwiki 1970\n",
        "6477 zhwiki 1980\n",
        "257"
       ]
      },
      {
       "output_type": "stream",
       "stream": "stdout",
       "text": [
        " zhwiki 1930\n",
        "389 zhwiki 1940\n",
        "624 zhwiki 1950\n",
        "543 zhwiki 1960\n",
        "257 zhwiki 1970\n",
        "299 zhwiki 1980\n",
        "4101"
       ]
      },
      {
       "output_type": "stream",
       "stream": "stdout",
       "text": [
        " dewiki 1930\n",
        "7107 dewiki 1940\n",
        "8671 dewiki 1950\n",
        "10194 dewiki 1960\n",
        "10401 dewiki 1970\n",
        "10982 dewiki 1980\n",
        "31003"
       ]
      },
      {
       "output_type": "stream",
       "stream": "stdout",
       "text": [
        " dewiki 1930\n",
        "37919 dewiki 1940\n",
        "35954"
       ]
      },
      {
       "output_type": "stream",
       "stream": "stdout",
       "text": [
        " dewiki 1950\n",
        "33389 dewiki 1960\n",
        "28342"
       ]
      },
      {
       "output_type": "stream",
       "stream": "stdout",
       "text": [
        " dewiki 1970\n",
        "29896 dewiki 1980\n",
        "0"
       ]
      },
      {
       "output_type": "stream",
       "stream": "stdout",
       "text": [
        " dewiki 1930\n",
        "0 dewiki 1940\n",
        "1 dewiki 1950\n",
        "1 dewiki 1960\n",
        "0 dewiki 1970\n",
        "0 dewiki 1980\n",
        "7338"
       ]
      },
      {
       "output_type": "stream",
       "stream": "stdout",
       "text": [
        " enwiki 1930\n",
        "12475 enwiki 1940\n",
        "15750 enwiki 1950\n",
        "17603 enwiki 1960\n",
        "20983"
       ]
      },
      {
       "output_type": "stream",
       "stream": "stdout",
       "text": [
        " enwiki 1970\n",
        "24977 enwiki 1980\n",
        "50168"
       ]
      },
      {
       "output_type": "stream",
       "stream": "stdout",
       "text": [
        " enwiki 1930\n",
        "67619"
       ]
      },
      {
       "output_type": "stream",
       "stream": "stdout",
       "text": [
        " enwiki 1940\n",
        "71683"
       ]
      },
      {
       "output_type": "stream",
       "stream": "stdout",
       "text": [
        " enwiki 1950\n",
        "71914"
       ]
      },
      {
       "output_type": "stream",
       "stream": "stdout",
       "text": [
        " enwiki 1960\n",
        "78598"
       ]
      },
      {
       "output_type": "stream",
       "stream": "stdout",
       "text": [
        " enwiki 1970\n",
        "96430"
       ]
      },
      {
       "output_type": "stream",
       "stream": "stdout",
       "text": [
        " enwiki 1980\n",
        "48"
       ]
      },
      {
       "output_type": "stream",
       "stream": "stdout",
       "text": [
        " enwiki 1930\n",
        "63 enwiki 1940\n",
        "88 enwiki 1950\n",
        "88 enwiki 1960\n",
        "92 enwiki 1970\n",
        "93 enwiki 1980\n",
        "215"
       ]
      },
      {
       "output_type": "stream",
       "stream": "stdout",
       "text": [
        " kowiki 1930\n",
        "397 kowiki 1940\n",
        "552 kowiki 1950\n",
        "920 kowiki 1960\n",
        "1454 kowiki 1970\n",
        "2056 kowiki 1980\n",
        "1405 kowiki 1930\n",
        "2172 kowiki 1940\n",
        "2240 kowiki 1950\n",
        "2913"
       ]
      },
      {
       "output_type": "stream",
       "stream": "stdout",
       "text": [
        " kowiki 1960\n",
        "3851 kowiki 1970\n",
        "5287 kowiki 1980\n",
        "8 kowiki 1930\n",
        "13 kowiki 1940\n",
        "20 kowiki 1950\n",
        "24 kowiki 1960\n",
        "37 kowiki 1970\n",
        "34 kowiki 1980\n"
       ]
      }
     ],
     "prompt_number": 40
    },
    {
     "cell_type": "markdown",
     "metadata": {},
     "source": [
      "then wait for the remote 200word summary task on labs under viafbot/inspection"
     ]
    },
    {
     "cell_type": "code",
     "collapsed": false,
     "input": [
      "!mkdir helpers/inspection/expanded_descriptions"
     ],
     "language": "python",
     "metadata": {},
     "outputs": [],
     "prompt_number": 42
    },
    {
     "cell_type": "code",
     "collapsed": false,
     "input": [
      "!scp wmflabs-tools:/home/maximilianklein/inspectionshortcut/output/* helpers/inspection/expanded_descriptions/."
     ],
     "language": "python",
     "metadata": {},
     "outputs": [
      {
       "output_type": "stream",
       "stream": "stdout",
       "text": [
        "\r\n",
        "If you are having access problems, please see: https://wikitech.wikimedia.org/wiki/Access#Accessing_public_and_private_instances\r\n"
       ]
      },
      {
       "output_type": "stream",
       "stream": "stdout",
       "text": [
        "\r",
        "dewiki_1930_female_descriptions.json            0%    0     0.0KB/s   --:-- ETA"
       ]
      },
      {
       "output_type": "stream",
       "stream": "stdout",
       "text": [
        "\r",
        "dewiki_1930_female_descriptions.json           47%  496KB 496.0KB/s   00:01 ETA"
       ]
      },
      {
       "output_type": "stream",
       "stream": "stdout",
       "text": [
        "\r",
        "dewiki_1930_female_descriptions.json          100% 1054KB   1.0MB/s   00:01    \r\n"
       ]
      },
      {
       "output_type": "stream",
       "stream": "stdout",
       "text": [
        "\r",
        "dewiki_1930_male_descriptions.json              0%    0     0.0KB/s   --:-- ETA"
       ]
      },
      {
       "output_type": "stream",
       "stream": "stdout",
       "text": [
        "\r",
        "dewiki_1930_male_descriptions.json             22%  592KB 592.0KB/s   00:03 ETA"
       ]
      },
      {
       "output_type": "stream",
       "stream": "stdout",
       "text": [
        "\r",
        "dewiki_1930_male_descriptions.json             46% 1200KB 593.6KB/s   00:02 ETA"
       ]
      },
      {
       "output_type": "stream",
       "stream": "stdout",
       "text": [
        "\r",
        "dewiki_1930_male_descriptions.json             70% 1840KB 598.2KB/s   00:01 ETA"
       ]
      },
      {
       "output_type": "stream",
       "stream": "stdout",
       "text": [
        "\r",
        "dewiki_1930_male_descriptions.json             95% 2480KB 602.4KB/s   00:00 ETA"
       ]
      },
      {
       "output_type": "stream",
       "stream": "stdout",
       "text": [
        "\r",
        "dewiki_1930_male_descriptions.json            100% 2604KB 650.9KB/s   00:04    \r\n"
       ]
      },
      {
       "output_type": "stream",
       "stream": "stdout",
       "text": [
        "\r",
        "dewiki_1940_female_descriptions.json            0%    0     0.0KB/s   --:-- ETA"
       ]
      },
      {
       "output_type": "stream",
       "stream": "stdout",
       "text": [
        "\r",
        "dewiki_1940_female_descriptions.json           23%  432KB 432.0KB/s   00:03 ETA"
       ]
      },
      {
       "output_type": "stream",
       "stream": "stdout",
       "text": [
        "\r",
        "dewiki_1940_female_descriptions.json           57% 1040KB 449.6KB/s   00:01 ETA"
       ]
      },
      {
       "output_type": "stream",
       "stream": "stdout",
       "text": [
        "\r",
        "dewiki_1940_female_descriptions.json           93% 1712KB 471.8KB/s   00:00 ETA"
       ]
      },
      {
       "output_type": "stream",
       "stream": "stdout",
       "text": [
        "\r",
        "dewiki_1940_female_descriptions.json          100% 1824KB 456.0KB/s   00:04    \r\n"
       ]
      },
      {
       "output_type": "stream",
       "stream": "stdout",
       "text": [
        "\r",
        "dewiki_1940_male_descriptions.json              0%    0     0.0KB/s   --:-- ETA"
       ]
      },
      {
       "output_type": "stream",
       "stream": "stdout",
       "text": [
        "\r",
        "dewiki_1940_male_descriptions.json             18%  464KB 464.0KB/s   00:04 ETA"
       ]
      },
      {
       "output_type": "stream",
       "stream": "stdout",
       "text": [
        "\r",
        "dewiki_1940_male_descriptions.json             41% 1072KB 478.4KB/s   00:03 ETA"
       ]
      },
      {
       "output_type": "stream",
       "stream": "stdout",
       "text": [
        "\r",
        "dewiki_1940_male_descriptions.json             68% 1744KB 497.8KB/s   00:01 ETA"
       ]
      },
      {
       "output_type": "stream",
       "stream": "stdout",
       "text": [
        "\r",
        "dewiki_1940_male_descriptions.json             93% 2384KB 512.0KB/s   00:00 ETA"
       ]
      },
      {
       "output_type": "stream",
       "stream": "stdout",
       "text": [
        "\r",
        "dewiki_1940_male_descriptions.json            100% 2556KB 638.9KB/s   00:04    \r\n"
       ]
      },
      {
       "output_type": "stream",
       "stream": "stdout",
       "text": [
        "\r",
        "dewiki_1950_female_descriptions.json            0%    0     0.0KB/s   --:-- ETA"
       ]
      },
      {
       "output_type": "stream",
       "stream": "stdout",
       "text": [
        "\r",
        "dewiki_1950_female_descriptions.json           17%  400KB 400.0KB/s   00:04 ETA"
       ]
      },
      {
       "output_type": "stream",
       "stream": "stdout",
       "text": [
        "\r",
        "dewiki_1950_female_descriptions.json           45% 1008KB 420.8KB/s   00:02 ETA"
       ]
      },
      {
       "output_type": "stream",
       "stream": "stdout",
       "text": [
        "\r",
        "dewiki_1950_female_descriptions.json           74% 1648KB 442.7KB/s   00:01 ETA"
       ]
      },
      {
       "output_type": "stream",
       "stream": "stdout",
       "text": [
        "\r",
        "dewiki_1950_female_descriptions.json          100% 2225KB 556.2KB/s   00:04    \r\n"
       ]
      },
      {
       "output_type": "stream",
       "stream": "stdout",
       "text": [
        "\r",
        "dewiki_1950_male_descriptions.json              0%    0     0.0KB/s   --:-- ETA"
       ]
      },
      {
       "output_type": "stream",
       "stream": "stdout",
       "text": [
        "\r",
        "dewiki_1950_male_descriptions.json             18%  464KB 464.0KB/s   00:04 ETA"
       ]
      },
      {
       "output_type": "stream",
       "stream": "stdout",
       "text": [
        "\r",
        "dewiki_1950_male_descriptions.json             40% 1040KB 475.2KB/s   00:03 ETA"
       ]
      },
      {
       "output_type": "stream",
       "stream": "stdout",
       "text": [
        "\r",
        "dewiki_1950_male_descriptions.json             64% 1648KB 488.5KB/s   00:01 ETA"
       ]
      },
      {
       "output_type": "stream",
       "stream": "stdout",
       "text": [
        "\r",
        "dewiki_1950_male_descriptions.json             89% 2288KB 503.6KB/s   00:00 ETA"
       ]
      },
      {
       "output_type": "stream",
       "stream": "stdout",
       "text": [
        "\r",
        "dewiki_1950_male_descriptions.json            100% 2562KB 512.3KB/s   00:05    \r\n"
       ]
      },
      {
       "output_type": "stream",
       "stream": "stdout",
       "text": [
        "\r",
        "dewiki_1950_nogender_descriptions.json          0%    0     0.0KB/s   --:-- ETA"
       ]
      },
      {
       "output_type": "stream",
       "stream": "stdout",
       "text": [
        "\r",
        "dewiki_1950_nogender_descriptions.json        100%  263     0.3KB/s   00:00    \r\n"
       ]
      },
      {
       "output_type": "stream",
       "stream": "stdout",
       "text": [
        "\r",
        "dewiki_1960_female_descriptions.json            0%    0     0.0KB/s   --:-- ETA"
       ]
      },
      {
       "output_type": "stream",
       "stream": "stdout",
       "text": [
        "\r",
        "dewiki_1960_female_descriptions.json           18%  464KB 464.0KB/s   00:04 ETA"
       ]
      },
      {
       "output_type": "stream",
       "stream": "stdout",
       "text": [
        "\r",
        "dewiki_1960_female_descriptions.json           41% 1072KB 478.4KB/s   00:03 ETA"
       ]
      },
      {
       "output_type": "stream",
       "stream": "stdout",
       "text": [
        "\r",
        "dewiki_1960_female_descriptions.json           66% 1712KB 494.6KB/s   00:01 ETA"
       ]
      },
      {
       "output_type": "stream",
       "stream": "stdout",
       "text": [
        "\r",
        "dewiki_1960_female_descriptions.json           91% 2352KB 509.1KB/s   00:00 ETA"
       ]
      },
      {
       "output_type": "stream",
       "stream": "stdout",
       "text": [
        "\r",
        "dewiki_1960_female_descriptions.json          100% 2563KB 640.8KB/s   00:04    \r\n"
       ]
      },
      {
       "output_type": "stream",
       "stream": "stdout",
       "text": [
        "\r",
        "dewiki_1960_male_descriptions.json              0%    0     0.0KB/s   --:-- ETA"
       ]
      },
      {
       "output_type": "stream",
       "stream": "stdout",
       "text": [
        "\r",
        "dewiki_1960_male_descriptions.json             16%  432KB 432.0KB/s   00:04 ETA"
       ]
      },
      {
       "output_type": "stream",
       "stream": "stdout",
       "text": [
        "\r",
        "dewiki_1960_male_descriptions.json             41% 1072KB 452.8KB/s   00:03 ETA"
       ]
      },
      {
       "output_type": "stream",
       "stream": "stdout",
       "text": [
        "\r",
        "dewiki_1960_male_descriptions.json             67% 1744KB 474.7KB/s   00:01 ETA"
       ]
      },
      {
       "output_type": "stream",
       "stream": "stdout",
       "text": [
        "\r",
        "dewiki_1960_male_descriptions.json             93% 2416KB 494.5KB/s   00:00 ETA"
       ]
      },
      {
       "output_type": "stream",
       "stream": "stdout",
       "text": [
        "\r",
        "dewiki_1960_male_descriptions.json            100% 2581KB 645.1KB/s   00:04    \r\n"
       ]
      },
      {
       "output_type": "stream",
       "stream": "stdout",
       "text": [
        "\r",
        "dewiki_1960_nogender_descriptions.json          0%    0     0.0KB/s   --:-- ETA"
       ]
      },
      {
       "output_type": "stream",
       "stream": "stdout",
       "text": [
        "\r",
        "dewiki_1960_nogender_descriptions.json        100%  257     0.3KB/s   00:00    \r\n"
       ]
      },
      {
       "output_type": "stream",
       "stream": "stdout",
       "text": [
        "\r",
        "dewiki_1970_female_descriptions.json            0%    0     0.0KB/s   --:-- ETA"
       ]
      },
      {
       "output_type": "stream",
       "stream": "stdout",
       "text": [
        "\r",
        "dewiki_1970_female_descriptions.json           18%  464KB 464.0KB/s   00:04 ETA"
       ]
      },
      {
       "output_type": "stream",
       "stream": "stdout",
       "text": [
        "\r",
        "dewiki_1970_female_descriptions.json           43% 1104KB 481.6KB/s   00:02 ETA"
       ]
      },
      {
       "output_type": "stream",
       "stream": "stdout",
       "text": [
        "\r",
        "dewiki_1970_female_descriptions.json           68% 1744KB 497.4KB/s   00:01 ETA"
       ]
      },
      {
       "output_type": "stream",
       "stream": "stdout",
       "text": [
        "\r",
        "dewiki_1970_female_descriptions.json           93% 2384KB 511.7KB/s   00:00 ETA"
       ]
      },
      {
       "output_type": "stream",
       "stream": "stdout",
       "text": [
        "\r",
        "dewiki_1970_female_descriptions.json          100% 2546KB 636.5KB/s   00:04    \r\n"
       ]
      },
      {
       "output_type": "stream",
       "stream": "stdout",
       "text": [
        "\r",
        "dewiki_1970_male_descriptions.json              0%    0     0.0KB/s   --:-- ETA"
       ]
      },
      {
       "output_type": "stream",
       "stream": "stdout",
       "text": [
        "\r",
        "dewiki_1970_male_descriptions.json             18%  464KB 464.0KB/s   00:04 ETA"
       ]
      },
      {
       "output_type": "stream",
       "stream": "stdout",
       "text": [
        "\r",
        "dewiki_1970_male_descriptions.json             41% 1072KB 478.4KB/s   00:03 ETA"
       ]
      },
      {
       "output_type": "stream",
       "stream": "stdout",
       "text": [
        "\r",
        "dewiki_1970_male_descriptions.json             65% 1680KB 491.4KB/s   00:01 ETA"
       ]
      },
      {
       "output_type": "stream",
       "stream": "stdout",
       "text": [
        "\r",
        "dewiki_1970_male_descriptions.json             90% 2320KB 506.2KB/s   00:00 ETA"
       ]
      },
      {
       "output_type": "stream",
       "stream": "stdout",
       "text": [
        "\r",
        "dewiki_1970_male_descriptions.json            100% 2574KB 643.6KB/s   00:04    \r\n"
       ]
      },
      {
       "output_type": "stream",
       "stream": "stdout",
       "text": [
        "\r",
        "dewiki_1980_female_descriptions.json            0%    0     0.0KB/s   --:-- ETA"
       ]
      },
      {
       "output_type": "stream",
       "stream": "stdout",
       "text": [
        "\r",
        "dewiki_1980_female_descriptions.json           18%  464KB 464.0KB/s   00:04 ETA"
       ]
      },
      {
       "output_type": "stream",
       "stream": "stdout",
       "text": [
        "\r",
        "dewiki_1980_female_descriptions.json           43% 1104KB 481.6KB/s   00:02 ETA"
       ]
      },
      {
       "output_type": "stream",
       "stream": "stdout",
       "text": [
        "\r",
        "dewiki_1980_female_descriptions.json           68% 1744KB 497.4KB/s   00:01 ETA"
       ]
      },
      {
       "output_type": "stream",
       "stream": "stdout",
       "text": [
        "\r",
        "dewiki_1980_female_descriptions.json           88% 2256KB 498.9KB/s   00:00 ETA"
       ]
      },
      {
       "output_type": "stream",
       "stream": "stdout",
       "text": [
        "\r",
        "dewiki_1980_female_descriptions.json          100% 2544KB 508.7KB/s   00:05    \r\n"
       ]
      },
      {
       "output_type": "stream",
       "stream": "stdout",
       "text": [
        "\r",
        "dewiki_1980_male_descriptions.json              0%    0     0.0KB/s   --:-- ETA"
       ]
      },
      {
       "output_type": "stream",
       "stream": "stdout",
       "text": [
        "\r",
        "dewiki_1980_male_descriptions.json              9%  256KB 128.0KB/s   00:18 ETA"
       ]
      },
      {
       "output_type": "stream",
       "stream": "stdout",
       "text": [
        "\r",
        "dewiki_1980_male_descriptions.json             22%  592KB 148.8KB/s   00:13 ETA"
       ]
      },
      {
       "output_type": "stream",
       "stream": "stdout",
       "text": [
        "\r",
        "dewiki_1980_male_descriptions.json             37%  976KB 172.3KB/s   00:09 ETA"
       ]
      },
      {
       "output_type": "stream",
       "stream": "stdout",
       "text": [
        "\r",
        "dewiki_1980_male_descriptions.json             52% 1360KB 193.5KB/s   00:06 ETA"
       ]
      },
      {
       "output_type": "stream",
       "stream": "stdout",
       "text": [
        "\r",
        "dewiki_1980_male_descriptions.json             78% 2032KB 241.3KB/s   00:02 ETA"
       ]
      },
      {
       "output_type": "stream",
       "stream": "stdout",
       "text": [
        "\r",
        "dewiki_1980_male_descriptions.json            100% 2595KB 432.5KB/s   00:06    \r\n"
       ]
      },
      {
       "output_type": "stream",
       "stream": "stdout",
       "text": [
        "\r",
        "enwiki_1930_female_descriptions.json            0%    0     0.0KB/s   --:-- ETA"
       ]
      },
      {
       "output_type": "stream",
       "stream": "stdout",
       "text": [
        "\r",
        "enwiki_1930_female_descriptions.json           24%  464KB 464.0KB/s   00:03 ETA"
       ]
      },
      {
       "output_type": "stream",
       "stream": "stdout",
       "text": [
        "\r",
        "enwiki_1930_female_descriptions.json           61% 1136KB 484.8KB/s   00:01 ETA"
       ]
      },
      {
       "output_type": "stream",
       "stream": "stdout",
       "text": [
        "\r",
        "enwiki_1930_female_descriptions.json          100% 1858KB 619.2KB/s   00:03    \r\n"
       ]
      },
      {
       "output_type": "stream",
       "stream": "stdout",
       "text": [
        "\r",
        "enwiki_1930_male_descriptions.json              0%    0     0.0KB/s   --:-- ETA"
       ]
      },
      {
       "output_type": "stream",
       "stream": "stdout",
       "text": [
        "\r",
        "enwiki_1930_male_descriptions.json             21%  528KB 528.0KB/s   00:03 ETA"
       ]
      },
      {
       "output_type": "stream",
       "stream": "stdout",
       "text": [
        "\r",
        "enwiki_1930_male_descriptions.json             46% 1168KB 539.2KB/s   00:02 ETA"
       ]
      },
      {
       "output_type": "stream",
       "stream": "stdout",
       "text": [
        "\r",
        "enwiki_1930_male_descriptions.json             76% 1904KB 558.9KB/s   00:01 ETA"
       ]
      },
      {
       "output_type": "stream",
       "stream": "stdout",
       "text": [
        "\r",
        "enwiki_1930_male_descriptions.json            100% 2505KB 626.2KB/s   00:04    \r\n"
       ]
      },
      {
       "output_type": "stream",
       "stream": "stdout",
       "text": [
        "\r",
        "enwiki_1930_nogender_descriptions.json          0%    0     0.0KB/s   --:-- ETA"
       ]
      },
      {
       "output_type": "stream",
       "stream": "stdout",
       "text": [
        "\r",
        "enwiki_1930_nogender_descriptions.json        100%   12KB  12.2KB/s   00:00    \r\n"
       ]
      },
      {
       "output_type": "stream",
       "stream": "stdout",
       "text": [
        "\r",
        "enwiki_1940_female_descriptions.json            0%    0     0.0KB/s   --:-- ETA"
       ]
      },
      {
       "output_type": "stream",
       "stream": "stdout",
       "text": [
        "\r",
        "enwiki_1940_female_descriptions.json           19%  496KB 496.0KB/s   00:04 ETA"
       ]
      },
      {
       "output_type": "stream",
       "stream": "stdout",
       "text": [
        "\r",
        "enwiki_1940_female_descriptions.json           44% 1136KB 510.4KB/s   00:02 ETA"
       ]
      },
      {
       "output_type": "stream",
       "stream": "stdout",
       "text": [
        "\r",
        "enwiki_1940_female_descriptions.json           74% 1872KB 533.0KB/s   00:01 ETA"
       ]
      },
      {
       "output_type": "stream",
       "stream": "stdout",
       "text": [
        "\r",
        "enwiki_1940_female_descriptions.json          100% 2528KB 842.7KB/s   00:03    \r\n"
       ]
      },
      {
       "output_type": "stream",
       "stream": "stdout",
       "text": [
        "\r",
        "enwiki_1940_male_descriptions.json              0%    0     0.0KB/s   --:-- ETA"
       ]
      },
      {
       "output_type": "stream",
       "stream": "stdout",
       "text": [
        "\r",
        "enwiki_1940_male_descriptions.json             19%  496KB 496.0KB/s   00:04 ETA"
       ]
      },
      {
       "output_type": "stream",
       "stream": "stdout",
       "text": [
        "\r",
        "enwiki_1940_male_descriptions.json             45% 1136KB 510.4KB/s   00:02 ETA"
       ]
      },
      {
       "output_type": "stream",
       "stream": "stdout",
       "text": [
        "\r",
        "enwiki_1940_male_descriptions.json             74% 1872KB 533.0KB/s   00:01 ETA"
       ]
      },
      {
       "output_type": "stream",
       "stream": "stdout",
       "text": [
        "\r",
        "enwiki_1940_male_descriptions.json            100% 2509KB 836.2KB/s   00:03    \r\n"
       ]
      },
      {
       "output_type": "stream",
       "stream": "stdout",
       "text": [
        "\r",
        "enwiki_1940_nogender_descriptions.json          0%    0     0.0KB/s   --:-- ETA"
       ]
      },
      {
       "output_type": "stream",
       "stream": "stdout",
       "text": [
        "\r",
        "enwiki_1940_nogender_descriptions.json        100%   16KB  16.0KB/s   00:00    \r\n"
       ]
      },
      {
       "output_type": "stream",
       "stream": "stdout",
       "text": [
        "\r",
        "enwiki_1950_female_descriptions.json            0%    0     0.0KB/s   --:-- ETA"
       ]
      },
      {
       "output_type": "stream",
       "stream": "stdout",
       "text": [
        "\r",
        "enwiki_1950_female_descriptions.json           19%  496KB 496.0KB/s   00:04 ETA"
       ]
      },
      {
       "output_type": "stream",
       "stream": "stdout",
       "text": [
        "\r",
        "enwiki_1950_female_descriptions.json           45% 1136KB 510.4KB/s   00:02 ETA"
       ]
      },
      {
       "output_type": "stream",
       "stream": "stdout",
       "text": [
        "\r",
        "enwiki_1950_female_descriptions.json           72% 1808KB 526.6KB/s   00:01 ETA"
       ]
      },
      {
       "output_type": "stream",
       "stream": "stdout",
       "text": [
        "\r",
        "enwiki_1950_female_descriptions.json          100% 2505KB 626.3KB/s   00:04    \r\n"
       ]
      },
      {
       "output_type": "stream",
       "stream": "stdout",
       "text": [
        "\r",
        "enwiki_1950_male_descriptions.json              0%    0     0.0KB/s   --:-- ETA"
       ]
      },
      {
       "output_type": "stream",
       "stream": "stdout",
       "text": [
        "\r",
        "enwiki_1950_male_descriptions.json             20%  528KB 528.0KB/s   00:03 ETA"
       ]
      },
      {
       "output_type": "stream",
       "stream": "stdout",
       "text": [
        "\r",
        "enwiki_1950_male_descriptions.json             46% 1168KB 539.2KB/s   00:02 ETA"
       ]
      },
      {
       "output_type": "stream",
       "stream": "stdout",
       "text": [
        "\r",
        "enwiki_1950_male_descriptions.json             75% 1904KB 558.9KB/s   00:01 ETA"
       ]
      },
      {
       "output_type": "stream",
       "stream": "stdout",
       "text": [
        "\r",
        "enwiki_1950_male_descriptions.json            100% 2528KB 632.0KB/s   00:04    \r\n"
       ]
      },
      {
       "output_type": "stream",
       "stream": "stdout",
       "text": [
        "\r",
        "enwiki_1950_nogender_descriptions.json          0%    0     0.0KB/s   --:-- ETA"
       ]
      },
      {
       "output_type": "stream",
       "stream": "stdout",
       "text": [
        "\r",
        "enwiki_1950_nogender_descriptions.json        100%   22KB  21.9KB/s   00:00    \r\n"
       ]
      },
      {
       "output_type": "stream",
       "stream": "stdout",
       "text": [
        "\r",
        "enwiki_1960_female_descriptions.json            0%    0     0.0KB/s   --:-- ETA"
       ]
      },
      {
       "output_type": "stream",
       "stream": "stdout",
       "text": [
        "\r",
        "enwiki_1960_female_descriptions.json           20%  528KB 528.0KB/s   00:03 ETA"
       ]
      },
      {
       "output_type": "stream",
       "stream": "stdout",
       "text": [
        "\r",
        "enwiki_1960_female_descriptions.json           46% 1168KB 539.2KB/s   00:02 ETA"
       ]
      },
      {
       "output_type": "stream",
       "stream": "stdout",
       "text": [
        "\r",
        "enwiki_1960_female_descriptions.json           75% 1904KB 558.9KB/s   00:01 ETA"
       ]
      },
      {
       "output_type": "stream",
       "stream": "stdout",
       "text": [
        "\r",
        "enwiki_1960_female_descriptions.json          100% 2524KB 631.1KB/s   00:04    \r\n"
       ]
      },
      {
       "output_type": "stream",
       "stream": "stdout",
       "text": [
        "\r",
        "enwiki_1960_male_descriptions.json              0%    0     0.0KB/s   --:-- ETA"
       ]
      },
      {
       "output_type": "stream",
       "stream": "stdout",
       "text": [
        "\r",
        "enwiki_1960_male_descriptions.json             19%  496KB 496.0KB/s   00:04 ETA"
       ]
      },
      {
       "output_type": "stream",
       "stream": "stdout",
       "text": [
        "\r",
        "enwiki_1960_male_descriptions.json             46% 1168KB 513.6KB/s   00:02 ETA"
       ]
      },
      {
       "output_type": "stream",
       "stream": "stdout",
       "text": [
        "\r",
        "enwiki_1960_male_descriptions.json             75% 1904KB 535.8KB/s   00:01 ETA"
       ]
      },
      {
       "output_type": "stream",
       "stream": "stdout",
       "text": [
        "\r",
        "enwiki_1960_male_descriptions.json            100% 2518KB 629.6KB/s   00:04    \r\n"
       ]
      },
      {
       "output_type": "stream",
       "stream": "stdout",
       "text": [
        "\r",
        "enwiki_1960_nogender_descriptions.json          0%    0     0.0KB/s   --:-- ETA"
       ]
      },
      {
       "output_type": "stream",
       "stream": "stdout",
       "text": [
        "\r",
        "enwiki_1960_nogender_descriptions.json        100%   21KB  21.2KB/s   00:00    \r\n"
       ]
      },
      {
       "output_type": "stream",
       "stream": "stdout",
       "text": [
        "\r",
        "enwiki_1970_female_descriptions.json            0%    0     0.0KB/s   --:-- ETA"
       ]
      },
      {
       "output_type": "stream",
       "stream": "stdout",
       "text": [
        "\r",
        "enwiki_1970_female_descriptions.json           19%  496KB 496.0KB/s   00:04 ETA"
       ]
      },
      {
       "output_type": "stream",
       "stream": "stdout",
       "text": [
        "\r",
        "enwiki_1970_female_descriptions.json           46% 1168KB 513.6KB/s   00:02 ETA"
       ]
      },
      {
       "output_type": "stream",
       "stream": "stdout",
       "text": [
        "\r",
        "enwiki_1970_female_descriptions.json           75% 1904KB 535.8KB/s   00:01 ETA"
       ]
      },
      {
       "output_type": "stream",
       "stream": "stdout",
       "text": [
        "\r",
        "enwiki_1970_female_descriptions.json          100% 2534KB 633.4KB/s   00:04    \r\n"
       ]
      },
      {
       "output_type": "stream",
       "stream": "stdout",
       "text": [
        "\r",
        "enwiki_1970_male_descriptions.json              0%    0     0.0KB/s   --:-- ETA"
       ]
      },
      {
       "output_type": "stream",
       "stream": "stdout",
       "text": [
        "\r",
        "enwiki_1970_male_descriptions.json             20%  528KB 528.0KB/s   00:03 ETA"
       ]
      },
      {
       "output_type": "stream",
       "stream": "stdout",
       "text": [
        "\r",
        "enwiki_1970_male_descriptions.json             46% 1168KB 539.2KB/s   00:02 ETA"
       ]
      },
      {
       "output_type": "stream",
       "stream": "stdout",
       "text": [
        "\r",
        "enwiki_1970_male_descriptions.json             73% 1872KB 555.7KB/s   00:01 ETA"
       ]
      },
      {
       "output_type": "stream",
       "stream": "stdout",
       "text": [
        "\r",
        "enwiki_1970_male_descriptions.json            100% 2530KB 632.4KB/s   00:04    \r\n"
       ]
      },
      {
       "output_type": "stream",
       "stream": "stdout",
       "text": [
        "\r",
        "enwiki_1970_nogender_descriptions.json          0%    0     0.0KB/s   --:-- ETA"
       ]
      },
      {
       "output_type": "stream",
       "stream": "stdout",
       "text": [
        "\r",
        "enwiki_1970_nogender_descriptions.json        100%   22KB  22.2KB/s   00:00    \r\n"
       ]
      },
      {
       "output_type": "stream",
       "stream": "stdout",
       "text": [
        "\r",
        "enwiki_1980_female_descriptions.json            0%    0     0.0KB/s   --:-- ETA"
       ]
      },
      {
       "output_type": "stream",
       "stream": "stdout",
       "text": [
        "\r",
        "enwiki_1980_female_descriptions.json           19%  496KB 496.0KB/s   00:04 ETA"
       ]
      },
      {
       "output_type": "stream",
       "stream": "stdout",
       "text": [
        "\r",
        "enwiki_1980_female_descriptions.json           44% 1104KB 507.2KB/s   00:02 ETA"
       ]
      },
      {
       "output_type": "stream",
       "stream": "stdout",
       "text": [
        "\r",
        "enwiki_1980_female_descriptions.json           73% 1840KB 530.1KB/s   00:01 ETA"
       ]
      },
      {
       "output_type": "stream",
       "stream": "stdout",
       "text": [
        "\r",
        "enwiki_1980_female_descriptions.json          100% 2494KB 623.6KB/s   00:04    \r\n"
       ]
      },
      {
       "output_type": "stream",
       "stream": "stdout",
       "text": [
        "\r",
        "enwiki_1980_male_descriptions.json              0%    0     0.0KB/s   --:-- ETA"
       ]
      },
      {
       "output_type": "stream",
       "stream": "stdout",
       "text": [
        "\r",
        "enwiki_1980_male_descriptions.json              8%  224KB 224.0KB/s   00:10 ETA"
       ]
      },
      {
       "output_type": "stream",
       "stream": "stdout",
       "text": [
        "\r",
        "enwiki_1980_male_descriptions.json             36%  928KB 272.0KB/s   00:05 ETA"
       ]
      },
      {
       "output_type": "stream",
       "stream": "stdout",
       "text": [
        "\r",
        "enwiki_1980_male_descriptions.json             68% 1728KB 324.8KB/s   00:02 ETA"
       ]
      },
      {
       "output_type": "stream",
       "stream": "stdout",
       "text": [
        "\r",
        "enwiki_1980_male_descriptions.json            100% 2528KB 632.0KB/s   00:04    \r\n"
       ]
      },
      {
       "output_type": "stream",
       "stream": "stdout",
       "text": [
        "\r",
        "enwiki_1980_nogender_descriptions.json          0%    0     0.0KB/s   --:-- ETA"
       ]
      },
      {
       "output_type": "stream",
       "stream": "stdout",
       "text": [
        "\r",
        "enwiki_1980_nogender_descriptions.json        100%   22KB  22.4KB/s   00:00    \r\n"
       ]
      },
      {
       "output_type": "stream",
       "stream": "stdout",
       "text": [
        "\r",
        "jawiki_1930_female_descriptions.json            0%    0     0.0KB/s   --:-- ETA"
       ]
      },
      {
       "output_type": "stream",
       "stream": "stdout",
       "text": [
        "\r",
        "jawiki_1930_female_descriptions.json          100%  228KB 228.1KB/s   00:01    \r\n"
       ]
      },
      {
       "output_type": "stream",
       "stream": "stdout",
       "text": [
        "\r",
        "jawiki_1930_male_descriptions.json              0%    0     0.0KB/s   --:-- ETA"
       ]
      },
      {
       "output_type": "stream",
       "stream": "stdout",
       "text": [
        "\r",
        "jawiki_1930_male_descriptions.json             19%  272KB 272.0KB/s   00:04 ETA"
       ]
      },
      {
       "output_type": "stream",
       "stream": "stdout",
       "text": [
        "\r",
        "jawiki_1930_male_descriptions.json             83% 1184KB 336.0KB/s   00:00 ETA"
       ]
      },
      {
       "output_type": "stream",
       "stream": "stdout",
       "text": [
        "\r",
        "jawiki_1930_male_descriptions.json            100% 1426KB 712.8KB/s   00:02    \r\n"
       ]
      },
      {
       "output_type": "stream",
       "stream": "stdout",
       "text": [
        "\r",
        "jawiki_1930_nogender_descriptions.json          0%    0     0.0KB/s   --:-- ETA"
       ]
      },
      {
       "output_type": "stream",
       "stream": "stdout",
       "text": [
        "\r",
        "jawiki_1930_nogender_descriptions.json        100%  354KB 354.2KB/s   00:01    \r\n"
       ]
      },
      {
       "output_type": "stream",
       "stream": "stdout",
       "text": [
        "\r",
        "jawiki_1940_female_descriptions.json            0%    0     0.0KB/s   --:-- ETA"
       ]
      },
      {
       "output_type": "stream",
       "stream": "stdout",
       "text": [
        "\r",
        "jawiki_1940_female_descriptions.json          100%  363KB 363.0KB/s   00:01    \r\n"
       ]
      },
      {
       "output_type": "stream",
       "stream": "stdout",
       "text": [
        "\r",
        "jawiki_1940_male_descriptions.json              0%    0     0.0KB/s   --:-- ETA"
       ]
      },
      {
       "output_type": "stream",
       "stream": "stdout",
       "text": [
        "\r",
        "jawiki_1940_male_descriptions.json             22%  432KB 432.0KB/s   00:03 ETA"
       ]
      },
      {
       "output_type": "stream",
       "stream": "stdout",
       "text": [
        "\r",
        "jawiki_1940_male_descriptions.json             47%  912KB 436.8KB/s   00:02 ETA"
       ]
      },
      {
       "output_type": "stream",
       "stream": "stdout",
       "text": [
        "\r",
        "jawiki_1940_male_descriptions.json             73% 1392KB 441.1KB/s   00:01 ETA"
       ]
      },
      {
       "output_type": "stream",
       "stream": "stdout",
       "text": [
        "\r",
        "jawiki_1940_male_descriptions.json            100% 1902KB 475.6KB/s   00:04    \r\n"
       ]
      },
      {
       "output_type": "stream",
       "stream": "stdout",
       "text": [
        "\r",
        "jawiki_1940_nogender_descriptions.json          0%    0     0.0KB/s   --:-- ETA"
       ]
      },
      {
       "output_type": "stream",
       "stream": "stdout",
       "text": [
        "\r",
        "jawiki_1940_nogender_descriptions.json        100%  443KB 443.5KB/s   00:01    \r\n"
       ]
      },
      {
       "output_type": "stream",
       "stream": "stdout",
       "text": [
        "\r",
        "jawiki_1950_female_descriptions.json            0%    0     0.0KB/s   --:-- ETA"
       ]
      },
      {
       "output_type": "stream",
       "stream": "stdout",
       "text": [
        "\r",
        "jawiki_1950_female_descriptions.json           95%  432KB 432.0KB/s   00:00 ETA"
       ]
      },
      {
       "output_type": "stream",
       "stream": "stdout",
       "text": [
        "\r",
        "jawiki_1950_female_descriptions.json          100%  452KB 451.7KB/s   00:01    \r\n"
       ]
      },
      {
       "output_type": "stream",
       "stream": "stdout",
       "text": [
        "\r",
        "jawiki_1950_male_descriptions.json              0%    0     0.0KB/s   --:-- ETA"
       ]
      },
      {
       "output_type": "stream",
       "stream": "stdout",
       "text": [
        "\r",
        "jawiki_1950_male_descriptions.json             26%  496KB 496.0KB/s   00:02 ETA"
       ]
      },
      {
       "output_type": "stream",
       "stream": "stdout",
       "text": [
        "\r",
        "jawiki_1950_male_descriptions.json             57% 1104KB 507.2KB/s   00:01 ETA"
       ]
      },
      {
       "output_type": "stream",
       "stream": "stdout",
       "text": [
        "\r",
        "jawiki_1950_male_descriptions.json             88% 1680KB 514.1KB/s   00:00 ETA"
       ]
      },
      {
       "output_type": "stream",
       "stream": "stdout",
       "text": [
        "\r",
        "jawiki_1950_male_descriptions.json            100% 1904KB 634.6KB/s   00:03    \r\n"
       ]
      },
      {
       "output_type": "stream",
       "stream": "stdout",
       "text": [
        "\r",
        "jawiki_1950_nogender_descriptions.json          0%    0     0.0KB/s   --:-- ETA"
       ]
      },
      {
       "output_type": "stream",
       "stream": "stdout",
       "text": [
        "\r",
        "jawiki_1950_nogender_descriptions.json        100%  398KB 398.3KB/s   00:01    \r\n"
       ]
      },
      {
       "output_type": "stream",
       "stream": "stdout",
       "text": [
        "\r",
        "jawiki_1960_female_descriptions.json            0%    0     0.0KB/s   --:-- ETA"
       ]
      },
      {
       "output_type": "stream",
       "stream": "stdout",
       "text": [
        "\r",
        "jawiki_1960_female_descriptions.json           72%  496KB 496.0KB/s   00:00 ETA"
       ]
      },
      {
       "output_type": "stream",
       "stream": "stdout",
       "text": [
        "\r",
        "jawiki_1960_female_descriptions.json          100%  681KB 340.5KB/s   00:02    \r\n"
       ]
      },
      {
       "output_type": "stream",
       "stream": "stdout",
       "text": [
        "\r",
        "jawiki_1960_male_descriptions.json              0%    0     0.0KB/s   --:-- ETA"
       ]
      },
      {
       "output_type": "stream",
       "stream": "stdout",
       "text": [
        "\r",
        "jawiki_1960_male_descriptions.json             19%  432KB 432.0KB/s   00:04 ETA"
       ]
      },
      {
       "output_type": "stream",
       "stream": "stdout",
       "text": [
        "\r",
        "jawiki_1960_male_descriptions.json             46% 1008KB 446.4KB/s   00:02 ETA"
       ]
      },
      {
       "output_type": "stream",
       "stream": "stdout",
       "text": [
        "\r",
        "jawiki_1960_male_descriptions.json             72% 1584KB 459.4KB/s   00:01 ETA"
       ]
      },
      {
       "output_type": "stream",
       "stream": "stdout",
       "text": [
        "\r",
        "jawiki_1960_male_descriptions.json            100% 2177KB 544.2KB/s   00:04    \r\n"
       ]
      },
      {
       "output_type": "stream",
       "stream": "stdout",
       "text": [
        "\r",
        "jawiki_1960_nogender_descriptions.json          0%    0     0.0KB/s   --:-- ETA"
       ]
      },
      {
       "output_type": "stream",
       "stream": "stdout",
       "text": [
        "\r",
        "jawiki_1960_nogender_descriptions.json        100%  394KB 394.4KB/s   00:01    \r\n"
       ]
      },
      {
       "output_type": "stream",
       "stream": "stdout",
       "text": [
        "\r",
        "jawiki_1970_female_descriptions.json            0%    0     0.0KB/s   --:-- ETA"
       ]
      },
      {
       "output_type": "stream",
       "stream": "stdout",
       "text": [
        "\r",
        "jawiki_1970_female_descriptions.json           47%  464KB 464.0KB/s   00:01 ETA"
       ]
      },
      {
       "output_type": "stream",
       "stream": "stdout",
       "text": [
        "\r",
        "jawiki_1970_female_descriptions.json          100%  984KB 492.0KB/s   00:02    \r\n"
       ]
      },
      {
       "output_type": "stream",
       "stream": "stdout",
       "text": [
        "\r",
        "jawiki_1970_male_descriptions.json              0%    0     0.0KB/s   --:-- ETA"
       ]
      },
      {
       "output_type": "stream",
       "stream": "stdout",
       "text": [
        "\r",
        "jawiki_1970_male_descriptions.json             14%  400KB 400.0KB/s   00:05 ETA"
       ]
      },
      {
       "output_type": "stream",
       "stream": "stdout",
       "text": [
        "\r",
        "jawiki_1970_male_descriptions.json             34%  944KB 414.4KB/s   00:04 ETA"
       ]
      },
      {
       "output_type": "stream",
       "stream": "stdout",
       "text": [
        "\r",
        "jawiki_1970_male_descriptions.json             56% 1520KB 430.6KB/s   00:02 ETA"
       ]
      },
      {
       "output_type": "stream",
       "stream": "stdout",
       "text": [
        "\r",
        "jawiki_1970_male_descriptions.json             77% 2096KB 445.1KB/s   00:01 ETA"
       ]
      },
      {
       "output_type": "stream",
       "stream": "stdout",
       "text": [
        "\r",
        "jawiki_1970_male_descriptions.json             98% 2672KB 458.2KB/s   00:00 ETA"
       ]
      },
      {
       "output_type": "stream",
       "stream": "stdout",
       "text": [
        "\r",
        "jawiki_1970_male_descriptions.json            100% 2705KB 541.0KB/s   00:05    \r\n"
       ]
      },
      {
       "output_type": "stream",
       "stream": "stdout",
       "text": [
        "\r",
        "jawiki_1970_nogender_descriptions.json          0%    0     0.0KB/s   --:-- ETA"
       ]
      },
      {
       "output_type": "stream",
       "stream": "stdout",
       "text": [
        "\r",
        "jawiki_1970_nogender_descriptions.json        100%  387KB 387.5KB/s   00:01    \r\n"
       ]
      },
      {
       "output_type": "stream",
       "stream": "stdout",
       "text": [
        "\r",
        "jawiki_1980_female_descriptions.json            0%    0     0.0KB/s   --:-- ETA"
       ]
      },
      {
       "output_type": "stream",
       "stream": "stdout",
       "text": [
        "\r",
        "jawiki_1980_female_descriptions.json           32%  496KB 496.0KB/s   00:02 ETA"
       ]
      },
      {
       "output_type": "stream",
       "stream": "stdout",
       "text": [
        "\r",
        "jawiki_1980_female_descriptions.json           74% 1136KB 510.4KB/s   00:00 ETA"
       ]
      },
      {
       "output_type": "stream",
       "stream": "stdout",
       "text": [
        "\r",
        "jawiki_1980_female_descriptions.json          100% 1522KB 760.9KB/s   00:02    \r\n"
       ]
      },
      {
       "output_type": "stream",
       "stream": "stdout",
       "text": [
        "\r",
        "jawiki_1980_male_descriptions.json              0%    0     0.0KB/s   --:-- ETA"
       ]
      },
      {
       "output_type": "stream",
       "stream": "stdout",
       "text": [
        "\r",
        "jawiki_1980_male_descriptions.json             15%  432KB 432.0KB/s   00:05 ETA"
       ]
      },
      {
       "output_type": "stream",
       "stream": "stdout",
       "text": [
        "\r",
        "jawiki_1980_male_descriptions.json             37% 1008KB 446.4KB/s   00:03 ETA"
       ]
      },
      {
       "output_type": "stream",
       "stream": "stdout",
       "text": [
        "\r",
        "jawiki_1980_male_descriptions.json             58% 1584KB 459.4KB/s   00:02 ETA"
       ]
      },
      {
       "output_type": "stream",
       "stream": "stdout",
       "text": [
        "\r",
        "jawiki_1980_male_descriptions.json             79% 2160KB 471.0KB/s   00:01 ETA"
       ]
      },
      {
       "output_type": "stream",
       "stream": "stdout",
       "text": [
        "\r",
        "jawiki_1980_male_descriptions.json            100% 2710KB 677.5KB/s   00:04    \r\n"
       ]
      },
      {
       "output_type": "stream",
       "stream": "stdout",
       "text": [
        "\r",
        "jawiki_1980_nogender_descriptions.json          0%    0     0.0KB/s   --:-- ETA"
       ]
      },
      {
       "output_type": "stream",
       "stream": "stdout",
       "text": [
        "\r",
        "jawiki_1980_nogender_descriptions.json        100%  296KB 296.5KB/s   00:00    \r\n"
       ]
      },
      {
       "output_type": "stream",
       "stream": "stdout",
       "text": [
        "\r",
        "kowiki_1930_female_descriptions.json            0%    0     0.0KB/s   --:-- ETA"
       ]
      },
      {
       "output_type": "stream",
       "stream": "stdout",
       "text": [
        "\r",
        "kowiki_1930_female_descriptions.json          100%   56KB  56.4KB/s   00:01    \r\n"
       ]
      },
      {
       "output_type": "stream",
       "stream": "stdout",
       "text": [
        "\r",
        "kowiki_1930_male_descriptions.json              0%    0     0.0KB/s   --:-- ETA"
       ]
      },
      {
       "output_type": "stream",
       "stream": "stdout",
       "text": [
        "\r",
        "kowiki_1930_male_descriptions.json            100%  368KB 367.7KB/s   00:00    \r\n"
       ]
      },
      {
       "output_type": "stream",
       "stream": "stdout",
       "text": [
        "\r",
        "kowiki_1930_nogender_descriptions.json          0%    0     0.0KB/s   --:-- ETA"
       ]
      },
      {
       "output_type": "stream",
       "stream": "stdout",
       "text": [
        "\r",
        "kowiki_1930_nogender_descriptions.json        100% 6241     6.1KB/s   00:01    \r\n"
       ]
      },
      {
       "output_type": "stream",
       "stream": "stdout",
       "text": [
        "\r",
        "kowiki_1940_female_descriptions.json            0%    0     0.0KB/s   --:-- ETA"
       ]
      },
      {
       "output_type": "stream",
       "stream": "stdout",
       "text": [
        "\r",
        "kowiki_1940_female_descriptions.json          100%  102KB 102.4KB/s   00:00    \r\n"
       ]
      },
      {
       "output_type": "stream",
       "stream": "stdout",
       "text": [
        "\r",
        "kowiki_1940_male_descriptions.json              0%    0     0.0KB/s   --:-- ETA"
       ]
      },
      {
       "output_type": "stream",
       "stream": "stdout",
       "text": [
        "\r",
        "kowiki_1940_male_descriptions.json             81%  464KB 464.0KB/s   00:00 ETA"
       ]
      },
      {
       "output_type": "stream",
       "stream": "stdout",
       "text": [
        "\r",
        "kowiki_1940_male_descriptions.json            100%  567KB 567.0KB/s   00:01    \r\n"
       ]
      },
      {
       "output_type": "stream",
       "stream": "stdout",
       "text": [
        "\r",
        "kowiki_1940_nogender_descriptions.json          0%    0     0.0KB/s   --:-- ETA"
       ]
      },
      {
       "output_type": "stream",
       "stream": "stdout",
       "text": [
        "\r",
        "kowiki_1940_nogender_descriptions.json        100%   10KB  10.2KB/s   00:00    \r\n"
       ]
      },
      {
       "output_type": "stream",
       "stream": "stdout",
       "text": [
        "\r",
        "kowiki_1950_female_descriptions.json            0%    0     0.0KB/s   --:-- ETA"
       ]
      },
      {
       "output_type": "stream",
       "stream": "stdout",
       "text": [
        "\r",
        "kowiki_1950_female_descriptions.json          100%  144KB 144.3KB/s   00:00    \r\n"
       ]
      },
      {
       "output_type": "stream",
       "stream": "stdout",
       "text": [
        "\r",
        "kowiki_1950_male_descriptions.json              0%    0     0.0KB/s   --:-- ETA"
       ]
      },
      {
       "output_type": "stream",
       "stream": "stdout",
       "text": [
        "\r",
        "kowiki_1950_male_descriptions.json             30%  176KB 176.0KB/s   00:02 ETA"
       ]
      },
      {
       "output_type": "stream",
       "stream": "stdout",
       "text": [
        "\r",
        "kowiki_1950_male_descriptions.json            100%  584KB 292.2KB/s   00:02    \r\n"
       ]
      },
      {
       "output_type": "stream",
       "stream": "stdout",
       "text": [
        "\r",
        "kowiki_1950_nogender_descriptions.json          0%    0     0.0KB/s   --:-- ETA"
       ]
      },
      {
       "output_type": "stream",
       "stream": "stdout",
       "text": [
        "\r",
        "kowiki_1950_nogender_descriptions.json        100%   16KB  15.8KB/s   00:00    \r\n"
       ]
      },
      {
       "output_type": "stream",
       "stream": "stdout",
       "text": [
        "\r",
        "kowiki_1960_female_descriptions.json            0%    0     0.0KB/s   --:-- ETA"
       ]
      },
      {
       "output_type": "stream",
       "stream": "stdout",
       "text": [
        "\r",
        "kowiki_1960_female_descriptions.json          100%  236KB 235.8KB/s   00:01    \r\n"
       ]
      },
      {
       "output_type": "stream",
       "stream": "stdout",
       "text": [
        "\r",
        "kowiki_1960_male_descriptions.json              0%    0     0.0KB/s   --:-- ETA"
       ]
      },
      {
       "output_type": "stream",
       "stream": "stdout",
       "text": [
        "\r",
        "kowiki_1960_male_descriptions.json             48%  368KB 368.0KB/s   00:01 ETA"
       ]
      },
      {
       "output_type": "stream",
       "stream": "stdout",
       "text": [
        "\r",
        "kowiki_1960_male_descriptions.json            100%  751KB 375.6KB/s   00:02    \r\n"
       ]
      },
      {
       "output_type": "stream",
       "stream": "stdout",
       "text": [
        "\r",
        "kowiki_1960_nogender_descriptions.json          0%    0     0.0KB/s   --:-- ETA"
       ]
      },
      {
       "output_type": "stream",
       "stream": "stdout",
       "text": [
        "\r",
        "kowiki_1960_nogender_descriptions.json        100%   18KB  17.7KB/s   00:00    \r\n"
       ]
      },
      {
       "output_type": "stream",
       "stream": "stdout",
       "text": [
        "\r",
        "kowiki_1970_female_descriptions.json            0%    0     0.0KB/s   --:-- ETA"
       ]
      },
      {
       "output_type": "stream",
       "stream": "stdout",
       "text": [
        "\r",
        "kowiki_1970_female_descriptions.json          100%  375KB 374.6KB/s   00:01    \r\n"
       ]
      },
      {
       "output_type": "stream",
       "stream": "stdout",
       "text": [
        "\r",
        "kowiki_1970_male_descriptions.json              0%    0     0.0KB/s   --:-- ETA"
       ]
      },
      {
       "output_type": "stream",
       "stream": "stdout",
       "text": [
        "\r",
        "kowiki_1970_male_descriptions.json             56%  560KB 560.0KB/s   00:00 ETA"
       ]
      },
      {
       "output_type": "stream",
       "stream": "stdout",
       "text": [
        "\r",
        "kowiki_1970_male_descriptions.json            100%  984KB 491.8KB/s   00:02    \r\n"
       ]
      },
      {
       "output_type": "stream",
       "stream": "stdout",
       "text": [
        "\r",
        "kowiki_1970_nogender_descriptions.json          0%    0     0.0KB/s   --:-- ETA"
       ]
      },
      {
       "output_type": "stream",
       "stream": "stdout",
       "text": [
        "\r",
        "kowiki_1970_nogender_descriptions.json        100%   27KB  26.6KB/s   00:00    \r\n"
       ]
      },
      {
       "output_type": "stream",
       "stream": "stdout",
       "text": [
        "\r",
        "kowiki_1980_female_descriptions.json            0%    0     0.0KB/s   --:-- ETA"
       ]
      },
      {
       "output_type": "stream",
       "stream": "stdout",
       "text": [
        "\r",
        "kowiki_1980_female_descriptions.json          100%  548KB 548.4KB/s   00:01    \r\n"
       ]
      },
      {
       "output_type": "stream",
       "stream": "stdout",
       "text": [
        "\r",
        "kowiki_1980_male_descriptions.json              0%    0     0.0KB/s   --:-- ETA"
       ]
      },
      {
       "output_type": "stream",
       "stream": "stdout",
       "text": [
        "\r",
        "kowiki_1980_male_descriptions.json             41%  560KB 560.0KB/s   00:01 ETA"
       ]
      },
      {
       "output_type": "stream",
       "stream": "stdout",
       "text": [
        "\r",
        "kowiki_1980_male_descriptions.json             90% 1232KB 571.2KB/s   00:00 ETA"
       ]
      },
      {
       "output_type": "stream",
       "stream": "stdout",
       "text": [
        "\r",
        "kowiki_1980_male_descriptions.json            100% 1360KB 679.9KB/s   00:02    \r\n"
       ]
      },
      {
       "output_type": "stream",
       "stream": "stdout",
       "text": [
        "\r",
        "kowiki_1980_nogender_descriptions.json          0%    0     0.0KB/s   --:-- ETA"
       ]
      },
      {
       "output_type": "stream",
       "stream": "stdout",
       "text": [
        "\r",
        "kowiki_1980_nogender_descriptions.json        100%   22KB  21.8KB/s   00:00    \r\n"
       ]
      },
      {
       "output_type": "stream",
       "stream": "stdout",
       "text": [
        "\r",
        "tlwiki_1930_female_descriptions.json            0%    0     0.0KB/s   --:-- ETA"
       ]
      },
      {
       "output_type": "stream",
       "stream": "stdout",
       "text": [
        "\r",
        "tlwiki_1930_female_descriptions.json          100%   44KB  43.8KB/s   00:00    \r\n"
       ]
      },
      {
       "output_type": "stream",
       "stream": "stdout",
       "text": [
        "\r",
        "tlwiki_1930_male_descriptions.json              0%    0     0.0KB/s   --:-- ETA"
       ]
      },
      {
       "output_type": "stream",
       "stream": "stdout",
       "text": [
        "\r",
        "tlwiki_1930_male_descriptions.json            100%   90KB  89.9KB/s   00:00    \r\n"
       ]
      },
      {
       "output_type": "stream",
       "stream": "stdout",
       "text": [
        "\r",
        "tlwiki_1940_female_descriptions.json            0%    0     0.0KB/s   --:-- ETA"
       ]
      },
      {
       "output_type": "stream",
       "stream": "stdout",
       "text": [
        "\r",
        "tlwiki_1940_female_descriptions.json          100%   58KB  58.4KB/s   00:00    \r\n"
       ]
      },
      {
       "output_type": "stream",
       "stream": "stdout",
       "text": [
        "\r",
        "tlwiki_1940_male_descriptions.json              0%    0     0.0KB/s   --:-- ETA"
       ]
      },
      {
       "output_type": "stream",
       "stream": "stdout",
       "text": [
        "\r",
        "tlwiki_1940_male_descriptions.json            100%  120KB 119.9KB/s   00:01    \r\n"
       ]
      },
      {
       "output_type": "stream",
       "stream": "stdout",
       "text": [
        "\r",
        "tlwiki_1940_nogender_descriptions.json          0%    0     0.0KB/s   --:-- ETA"
       ]
      },
      {
       "output_type": "stream",
       "stream": "stdout",
       "text": [
        "\r",
        "tlwiki_1940_nogender_descriptions.json        100%  143     0.1KB/s   00:00    \r\n"
       ]
      },
      {
       "output_type": "stream",
       "stream": "stdout",
       "text": [
        "\r",
        "tlwiki_1950_female_descriptions.json            0%    0     0.0KB/s   --:-- ETA"
       ]
      },
      {
       "output_type": "stream",
       "stream": "stdout",
       "text": [
        "\r",
        "tlwiki_1950_female_descriptions.json          100%   73KB  73.3KB/s   00:00    \r\n"
       ]
      },
      {
       "output_type": "stream",
       "stream": "stdout",
       "text": [
        "\r",
        "tlwiki_1950_male_descriptions.json              0%    0     0.0KB/s   --:-- ETA"
       ]
      },
      {
       "output_type": "stream",
       "stream": "stdout",
       "text": [
        "\r",
        "tlwiki_1950_male_descriptions.json            100%  119KB 118.6KB/s   00:01    \r\n"
       ]
      },
      {
       "output_type": "stream",
       "stream": "stdout",
       "text": [
        "\r",
        "tlwiki_1950_nogender_descriptions.json          0%    0     0.0KB/s   --:-- ETA"
       ]
      },
      {
       "output_type": "stream",
       "stream": "stdout",
       "text": [
        "\r",
        "tlwiki_1950_nogender_descriptions.json        100%  396     0.4KB/s   00:00    \r\n"
       ]
      },
      {
       "output_type": "stream",
       "stream": "stdout",
       "text": [
        "\r",
        "tlwiki_1960_female_descriptions.json            0%    0     0.0KB/s   --:-- ETA"
       ]
      },
      {
       "output_type": "stream",
       "stream": "stdout",
       "text": [
        "\r",
        "tlwiki_1960_female_descriptions.json          100%  106KB 106.1KB/s   00:00    \r\n"
       ]
      },
      {
       "output_type": "stream",
       "stream": "stdout",
       "text": [
        "\r",
        "tlwiki_1960_male_descriptions.json              0%    0     0.0KB/s   --:-- ETA"
       ]
      },
      {
       "output_type": "stream",
       "stream": "stdout",
       "text": [
        "\r",
        "tlwiki_1960_male_descriptions.json            100%  138KB 137.6KB/s   00:01    \r\n"
       ]
      },
      {
       "output_type": "stream",
       "stream": "stdout",
       "text": [
        "\r",
        "tlwiki_1960_nogender_descriptions.json          0%    0     0.0KB/s   --:-- ETA"
       ]
      },
      {
       "output_type": "stream",
       "stream": "stdout",
       "text": [
        "\r",
        "tlwiki_1960_nogender_descriptions.json        100%  286     0.3KB/s   00:00    \r\n"
       ]
      },
      {
       "output_type": "stream",
       "stream": "stdout",
       "text": [
        "\r",
        "tlwiki_1970_female_descriptions.json            0%    0     0.0KB/s   --:-- ETA"
       ]
      },
      {
       "output_type": "stream",
       "stream": "stdout",
       "text": [
        "\r",
        "tlwiki_1970_female_descriptions.json          100%  155KB 155.0KB/s   00:01    \r\n"
       ]
      },
      {
       "output_type": "stream",
       "stream": "stdout",
       "text": [
        "\r",
        "tlwiki_1970_male_descriptions.json              0%    0     0.0KB/s   --:-- ETA"
       ]
      },
      {
       "output_type": "stream",
       "stream": "stdout",
       "text": [
        "\r",
        "tlwiki_1970_male_descriptions.json            100%  149KB 148.9KB/s   00:00    \r\n"
       ]
      },
      {
       "output_type": "stream",
       "stream": "stdout",
       "text": [
        "\r",
        "tlwiki_1970_nogender_descriptions.json          0%    0     0.0KB/s   --:-- ETA"
       ]
      },
      {
       "output_type": "stream",
       "stream": "stdout",
       "text": [
        "\r",
        "tlwiki_1970_nogender_descriptions.json        100%  854     0.8KB/s   00:00    \r\n"
       ]
      },
      {
       "output_type": "stream",
       "stream": "stdout",
       "text": [
        "\r",
        "tlwiki_1980_female_descriptions.json            0%    0     0.0KB/s   --:-- ETA"
       ]
      },
      {
       "output_type": "stream",
       "stream": "stdout",
       "text": [
        "\r",
        "tlwiki_1980_female_descriptions.json          100%  207KB 207.2KB/s   00:00    \r\n"
       ]
      },
      {
       "output_type": "stream",
       "stream": "stdout",
       "text": [
        "\r",
        "tlwiki_1980_male_descriptions.json              0%    0     0.0KB/s   --:-- ETA"
       ]
      },
      {
       "output_type": "stream",
       "stream": "stdout",
       "text": [
        "\r",
        "tlwiki_1980_male_descriptions.json            100%  168KB 168.3KB/s   00:01    \r\n"
       ]
      },
      {
       "output_type": "stream",
       "stream": "stdout",
       "text": [
        "\r",
        "tlwiki_1980_nogender_descriptions.json          0%    0     0.0KB/s   --:-- ETA"
       ]
      },
      {
       "output_type": "stream",
       "stream": "stdout",
       "text": [
        "\r",
        "tlwiki_1980_nogender_descriptions.json        100%  440     0.4KB/s   00:00    \r\n"
       ]
      },
      {
       "output_type": "stream",
       "stream": "stdout",
       "text": [
        "\r",
        "urwiki_1930_female_descriptions.json            0%    0     0.0KB/s   --:-- ETA"
       ]
      },
      {
       "output_type": "stream",
       "stream": "stdout",
       "text": [
        "\r",
        "urwiki_1930_female_descriptions.json          100%   27KB  27.2KB/s   00:00    \r\n"
       ]
      },
      {
       "output_type": "stream",
       "stream": "stdout",
       "text": [
        "\r",
        "urwiki_1930_male_descriptions.json              0%    0     0.0KB/s   --:-- ETA"
       ]
      },
      {
       "output_type": "stream",
       "stream": "stdout",
       "text": [
        "\r",
        "urwiki_1930_male_descriptions.json            100%   45KB  45.5KB/s   00:00    \r\n"
       ]
      },
      {
       "output_type": "stream",
       "stream": "stdout",
       "text": [
        "\r",
        "urwiki_1940_female_descriptions.json            0%    0     0.0KB/s   --:-- ETA"
       ]
      },
      {
       "output_type": "stream",
       "stream": "stdout",
       "text": [
        "\r",
        "urwiki_1940_female_descriptions.json          100%   39KB  39.5KB/s   00:00    \r\n"
       ]
      },
      {
       "output_type": "stream",
       "stream": "stdout",
       "text": [
        "\r",
        "urwiki_1940_male_descriptions.json              0%    0     0.0KB/s   --:-- ETA"
       ]
      },
      {
       "output_type": "stream",
       "stream": "stdout",
       "text": [
        "\r",
        "urwiki_1940_male_descriptions.json            100%   52KB  51.6KB/s   00:00    \r\n"
       ]
      },
      {
       "output_type": "stream",
       "stream": "stdout",
       "text": [
        "\r",
        "urwiki_1950_female_descriptions.json            0%    0     0.0KB/s   --:-- ETA"
       ]
      },
      {
       "output_type": "stream",
       "stream": "stdout",
       "text": [
        "\r",
        "urwiki_1950_female_descriptions.json          100%   47KB  47.0KB/s   00:00    \r\n"
       ]
      },
      {
       "output_type": "stream",
       "stream": "stdout",
       "text": [
        "\r",
        "urwiki_1950_male_descriptions.json              0%    0     0.0KB/s   --:-- ETA"
       ]
      },
      {
       "output_type": "stream",
       "stream": "stdout",
       "text": [
        "\r",
        "urwiki_1950_male_descriptions.json            100%   47KB  47.0KB/s   00:00    \r\n"
       ]
      },
      {
       "output_type": "stream",
       "stream": "stdout",
       "text": [
        "\r",
        "urwiki_1960_female_descriptions.json            0%    0     0.0KB/s   --:-- ETA"
       ]
      },
      {
       "output_type": "stream",
       "stream": "stdout",
       "text": [
        "\r",
        "urwiki_1960_female_descriptions.json          100%   57KB  57.4KB/s   00:01    \r\n"
       ]
      },
      {
       "output_type": "stream",
       "stream": "stdout",
       "text": [
        "\r",
        "urwiki_1960_male_descriptions.json              0%    0     0.0KB/s   --:-- ETA"
       ]
      },
      {
       "output_type": "stream",
       "stream": "stdout",
       "text": [
        "\r",
        "urwiki_1960_male_descriptions.json            100%   37KB  37.2KB/s   00:00    \r\n"
       ]
      },
      {
       "output_type": "stream",
       "stream": "stdout",
       "text": [
        "\r",
        "urwiki_1960_nogender_descriptions.json          0%    0     0.0KB/s   --:-- ETA"
       ]
      },
      {
       "output_type": "stream",
       "stream": "stdout",
       "text": [
        "\r",
        "urwiki_1960_nogender_descriptions.json        100% 1113     1.1KB/s   00:00    \r\n"
       ]
      },
      {
       "output_type": "stream",
       "stream": "stdout",
       "text": [
        "\r",
        "urwiki_1970_female_descriptions.json            0%    0     0.0KB/s   --:-- ETA"
       ]
      },
      {
       "output_type": "stream",
       "stream": "stdout",
       "text": [
        "\r",
        "urwiki_1970_female_descriptions.json          100%  114KB 113.7KB/s   00:00    \r\n"
       ]
      },
      {
       "output_type": "stream",
       "stream": "stdout",
       "text": [
        "\r",
        "urwiki_1970_male_descriptions.json              0%    0     0.0KB/s   --:-- ETA"
       ]
      },
      {
       "output_type": "stream",
       "stream": "stdout",
       "text": [
        "\r",
        "urwiki_1970_male_descriptions.json            100%   33KB  33.2KB/s   00:01    \r\n"
       ]
      },
      {
       "output_type": "stream",
       "stream": "stdout",
       "text": [
        "\r",
        "urwiki_1980_female_descriptions.json            0%    0     0.0KB/s   --:-- ETA"
       ]
      },
      {
       "output_type": "stream",
       "stream": "stdout",
       "text": [
        "\r",
        "urwiki_1980_female_descriptions.json          100%  196KB 195.5KB/s   00:00    \r\n"
       ]
      },
      {
       "output_type": "stream",
       "stream": "stdout",
       "text": [
        "\r",
        "urwiki_1980_male_descriptions.json              0%    0     0.0KB/s   --:-- ETA"
       ]
      },
      {
       "output_type": "stream",
       "stream": "stdout",
       "text": [
        "\r",
        "urwiki_1980_male_descriptions.json            100%   33KB  33.3KB/s   00:00    \r\n"
       ]
      },
      {
       "output_type": "stream",
       "stream": "stdout",
       "text": [
        "\r",
        "urwiki_1980_nogender_descriptions.json          0%    0     0.0KB/s   --:-- ETA"
       ]
      },
      {
       "output_type": "stream",
       "stream": "stdout",
       "text": [
        "\r",
        "urwiki_1980_nogender_descriptions.json        100% 1036     1.0KB/s   00:00    \r\n"
       ]
      },
      {
       "output_type": "stream",
       "stream": "stdout",
       "text": [
        "\r",
        "zhwiki_1930_female_descriptions.json            0%    0     0.0KB/s   --:-- ETA"
       ]
      },
      {
       "output_type": "stream",
       "stream": "stdout",
       "text": [
        "\r",
        "zhwiki_1930_female_descriptions.json          100%   95KB  95.4KB/s   00:00    \r\n"
       ]
      },
      {
       "output_type": "stream",
       "stream": "stdout",
       "text": [
        "\r",
        "zhwiki_1930_male_descriptions.json              0%    0     0.0KB/s   --:-- ETA"
       ]
      },
      {
       "output_type": "stream",
       "stream": "stdout",
       "text": [
        "\r",
        "zhwiki_1930_male_descriptions.json             53%  368KB 368.0KB/s   00:00 ETA"
       ]
      },
      {
       "output_type": "stream",
       "stream": "stdout",
       "text": [
        "\r",
        "zhwiki_1930_male_descriptions.json            100%  683KB 341.6KB/s   00:02    \r\n"
       ]
      },
      {
       "output_type": "stream",
       "stream": "stdout",
       "text": [
        "\r",
        "zhwiki_1930_nogender_descriptions.json          0%    0     0.0KB/s   --:-- ETA"
       ]
      },
      {
       "output_type": "stream",
       "stream": "stdout",
       "text": [
        "\r",
        "zhwiki_1930_nogender_descriptions.json        100%  251KB 251.2KB/s   00:01    \r\n"
       ]
      },
      {
       "output_type": "stream",
       "stream": "stdout",
       "text": [
        "\r",
        "zhwiki_1940_female_descriptions.json            0%    0     0.0KB/s   --:-- ETA"
       ]
      },
      {
       "output_type": "stream",
       "stream": "stdout",
       "text": [
        "\r",
        "zhwiki_1940_female_descriptions.json          100%  148KB 148.0KB/s   00:01    \r\n"
       ]
      },
      {
       "output_type": "stream",
       "stream": "stdout",
       "text": [
        "\r",
        "zhwiki_1940_male_descriptions.json              0%    0     0.0KB/s   --:-- ETA"
       ]
      },
      {
       "output_type": "stream",
       "stream": "stdout",
       "text": [
        "\r",
        "zhwiki_1940_male_descriptions.json             28%  256KB 256.0KB/s   00:02 ETA"
       ]
      },
      {
       "output_type": "stream",
       "stream": "stdout",
       "text": [
        "\r",
        "zhwiki_1940_male_descriptions.json             65%  592KB 264.0KB/s   00:01 ETA"
       ]
      },
      {
       "output_type": "stream",
       "stream": "stdout",
       "text": [
        "\r",
        "zhwiki_1940_male_descriptions.json            100%  908KB 302.6KB/s   00:03    \r\n"
       ]
      },
      {
       "output_type": "stream",
       "stream": "stdout",
       "text": [
        "\r",
        "zhwiki_1940_nogender_descriptions.json          0%    0     0.0KB/s   --:-- ETA"
       ]
      },
      {
       "output_type": "stream",
       "stream": "stdout",
       "text": [
        "\r",
        "zhwiki_1940_nogender_descriptions.json        100%  363KB 362.6KB/s   00:01    \r\n"
       ]
      },
      {
       "output_type": "stream",
       "stream": "stdout",
       "text": [
        "\r",
        "zhwiki_1950_female_descriptions.json            0%    0     0.0KB/s   --:-- ETA"
       ]
      },
      {
       "output_type": "stream",
       "stream": "stdout",
       "text": [
        "\r",
        "zhwiki_1950_female_descriptions.json          100%  209KB 209.2KB/s   00:00    \r\n"
       ]
      },
      {
       "output_type": "stream",
       "stream": "stdout",
       "text": [
        "\r",
        "zhwiki_1950_male_descriptions.json              0%    0     0.0KB/s   --:-- ETA"
       ]
      },
      {
       "output_type": "stream",
       "stream": "stdout",
       "text": [
        "\r",
        "zhwiki_1950_male_descriptions.json             48%  480KB 480.0KB/s   00:01 ETA"
       ]
      },
      {
       "output_type": "stream",
       "stream": "stdout",
       "text": [
        "\r",
        "zhwiki_1950_male_descriptions.json            100%  985KB 492.6KB/s   00:02    \r\n"
       ]
      },
      {
       "output_type": "stream",
       "stream": "stdout",
       "text": [
        "\r",
        "zhwiki_1950_nogender_descriptions.json          0%    0     0.0KB/s   --:-- ETA"
       ]
      },
      {
       "output_type": "stream",
       "stream": "stdout",
       "text": [
        "\r",
        "zhwiki_1950_nogender_descriptions.json          0%    0     0.0KB/s   --:-- ETA"
       ]
      },
      {
       "output_type": "stream",
       "stream": "stdout",
       "text": [
        "\r",
        "zhwiki_1950_nogender_descriptions.json         88%  512KB 512.0KB/s   00:00 ETA"
       ]
      },
      {
       "output_type": "stream",
       "stream": "stdout",
       "text": [
        "\r",
        "zhwiki_1950_nogender_descriptions.json        100%  580KB 289.8KB/s   00:02    \r\n"
       ]
      },
      {
       "output_type": "stream",
       "stream": "stdout",
       "text": [
        "\r",
        "zhwiki_1960_female_descriptions.json            0%    0     0.0KB/s   --:-- ETA"
       ]
      },
      {
       "output_type": "stream",
       "stream": "stdout",
       "text": [
        "\r",
        "zhwiki_1960_female_descriptions.json          100%  307KB 307.3KB/s   00:01    \r\n"
       ]
      },
      {
       "output_type": "stream",
       "stream": "stdout",
       "text": [
        "\r",
        "zhwiki_1960_male_descriptions.json              0%    0     0.0KB/s   --:-- ETA"
       ]
      },
      {
       "output_type": "stream",
       "stream": "stdout",
       "text": [
        "\r",
        "zhwiki_1960_male_descriptions.json             53%  560KB 560.0KB/s   00:00 ETA"
       ]
      },
      {
       "output_type": "stream",
       "stream": "stdout",
       "text": [
        "\r",
        "zhwiki_1960_male_descriptions.json            100% 1043KB   1.0MB/s   00:01    \r\n"
       ]
      },
      {
       "output_type": "stream",
       "stream": "stdout",
       "text": [
        "\r",
        "zhwiki_1960_nogender_descriptions.json          0%    0     0.0KB/s   --:-- ETA"
       ]
      },
      {
       "output_type": "stream",
       "stream": "stdout",
       "text": [
        "\r",
        "zhwiki_1960_nogender_descriptions.json        100%  499KB 499.2KB/s   00:01    \r\n"
       ]
      },
      {
       "output_type": "stream",
       "stream": "stdout",
       "text": [
        "\r",
        "zhwiki_1970_female_descriptions.json            0%    0     0.0KB/s   --:-- ETA"
       ]
      },
      {
       "output_type": "stream",
       "stream": "stdout",
       "text": [
        "\r",
        "zhwiki_1970_female_descriptions.json           87%  432KB 432.0KB/s   00:00 ETA"
       ]
      },
      {
       "output_type": "stream",
       "stream": "stdout",
       "text": [
        "\r",
        "zhwiki_1970_female_descriptions.json          100%  492KB 492.5KB/s   00:01    \r\n"
       ]
      },
      {
       "output_type": "stream",
       "stream": "stdout",
       "text": [
        "\r",
        "zhwiki_1970_male_descriptions.json              0%    0     0.0KB/s   --:-- ETA"
       ]
      },
      {
       "output_type": "stream",
       "stream": "stdout",
       "text": [
        "\r",
        "zhwiki_1970_male_descriptions.json             33%  432KB 432.0KB/s   00:01 ETA"
       ]
      },
      {
       "output_type": "stream",
       "stream": "stdout",
       "text": [
        "\r",
        "zhwiki_1970_male_descriptions.json             76%  976KB 443.2KB/s   00:00 ETA"
       ]
      },
      {
       "output_type": "stream",
       "stream": "stdout",
       "text": [
        "\r",
        "zhwiki_1970_male_descriptions.json            100% 1283KB 641.4KB/s   00:02    \r\n"
       ]
      },
      {
       "output_type": "stream",
       "stream": "stdout",
       "text": [
        "\r",
        "zhwiki_1970_nogender_descriptions.json          0%    0     0.0KB/s   --:-- ETA"
       ]
      },
      {
       "output_type": "stream",
       "stream": "stdout",
       "text": [
        "\r",
        "zhwiki_1970_nogender_descriptions.json        100%  243KB 242.7KB/s   00:01    \r\n"
       ]
      },
      {
       "output_type": "stream",
       "stream": "stdout",
       "text": [
        "\r",
        "zhwiki_1980_female_descriptions.json            0%    0     0.0KB/s   --:-- ETA"
       ]
      },
      {
       "output_type": "stream",
       "stream": "stdout",
       "text": [
        "\r",
        "zhwiki_1980_female_descriptions.json           46%  464KB 464.0KB/s   00:01 ETA"
       ]
      },
      {
       "output_type": "stream",
       "stream": "stdout",
       "text": [
        "\r",
        "zhwiki_1980_female_descriptions.json          100%  990KB 495.0KB/s   00:02    \r\n"
       ]
      },
      {
       "output_type": "stream",
       "stream": "stdout",
       "text": [
        "\r",
        "zhwiki_1980_male_descriptions.json              0%    0     0.0KB/s   --:-- ETA"
       ]
      },
      {
       "output_type": "stream",
       "stream": "stdout",
       "text": [
        "\r",
        "zhwiki_1980_male_descriptions.json             29%  528KB 528.0KB/s   00:02 ETA"
       ]
      },
      {
       "output_type": "stream",
       "stream": "stdout",
       "text": [
        "\r",
        "zhwiki_1980_male_descriptions.json             69% 1232KB 545.6KB/s   00:00 ETA"
       ]
      },
      {
       "output_type": "stream",
       "stream": "stdout",
       "text": [
        "\r",
        "zhwiki_1980_male_descriptions.json            100% 1768KB 589.4KB/s   00:03    \r\n"
       ]
      },
      {
       "output_type": "stream",
       "stream": "stdout",
       "text": [
        "\r",
        "zhwiki_1980_nogender_descriptions.json          0%    0     0.0KB/s   --:-- ETA"
       ]
      },
      {
       "output_type": "stream",
       "stream": "stdout",
       "text": [
        "\r",
        "zhwiki_1980_nogender_descriptions.json        100%  280KB 280.2KB/s   00:00    \r\n"
       ]
      }
     ],
     "prompt_number": 78
    },
    {
     "cell_type": "code",
     "collapsed": false,
     "input": [
      "description_files = !ls helpers/inspection/expanded_descriptions/\n",
      "len(description_files)"
     ],
     "language": "python",
     "metadata": {},
     "outputs": [
      {
       "metadata": {},
       "output_type": "pyout",
       "prompt_number": 79,
       "text": [
        "117"
       ]
      }
     ],
     "prompt_number": 79
    },
    {
     "cell_type": "code",
     "collapsed": false,
     "input": [
      "celebrity_dict = {'jawiki': [u'\u4ff3\u512a', u'\u9078\u624b', u'\u6b4c\u624b', u'\u30df\u30e5\u30fc\u30b8\u30b7\u30e3\u30f3', u'\u30e2\u30c7\u30eb', u'\u30a2\u30a4\u30c9\u30eb'], \n",
      "                              'zhwiki': [u'\u6f14\u54e1', u'\u904b\u52d5\u54e1', u'\u6b4c\u624b', u'\u97f3\u4e50\u5bb6', u'\u6a21\u7279\u5152', u'\u5076\u50cf'],\n",
      "                              'tlwiki': [u'artista', 'aktor', u'player', u'mang-aawit', u'musikero', u'modelo', u'idolo'],\n",
      "                              'urwiki': [u'\u0627\u0631\u062f\u0648', u'\u06a9\u06be\u0644\u0627\u0691', u'\u06af\u0644\u0648\u06a9\u0627\u0631' , u'\u0645\u0648\u0633\u06cc\u0642\u0627\u0631' , u'\u0645\u0627\u0688\u0644', u'\u0628\u062a'],\n",
      "                              'dewiki': [u'schauspieler' , u'spieler', u'Musiker', u'S\u00e4nger', u'Modell', u'Idol'],\n",
      "                              'enwiki' :[u'actor', u'actress', u'player', u'singer', u'musician', u'model', u'idol'],\n",
      "                              'kowiki' : [u'\ubc30\uc6b0', u'\uc120\uc218', u'\uac00\uc218', u'\uc74c\uc545\uac00', u'\ubaa8\ub378', u'\uc6b0\uc0c1']}\n",
      "\n",
      "def intext(text, xxwiki):\n",
      "    if text:\n",
      "        text = text.encode('utf-8').lower()\n",
      "        engwords = celebrity_dict['enwiki']\n",
      "        foreignwords = celebrity_dict[xxwiki]\n",
      "        for word in engwords + foreignwords:\n",
      "            if word.encode('utf-8').lower() in text:\n",
      "                return True\n",
      "        #if we get to this point its too late\n",
      "        return False\n",
      "    else: return False\n",
      "\n",
      "\n",
      "celebdf = pd.DataFrame(columns=['wiki','decade','gender','celeb_per'])\n",
      "for f in description_files:\n",
      "    parts = f.split('_')\n",
      "    xxwiki, decade, gender = parts[0], parts[1], parts[2]\n",
      "    df = pd.DataFrame.from_dict(json.load(open('helpers/inspection/expanded_descriptions/{}'.format(f), 'r')), orient='index')\n",
      "    df['celeb'] = df['text'].apply(lambda text: intext(text,xxwiki))\n",
      "    test_per = df['celeb'].sum()/float(len(df))\n",
      "    celebdf = celebdf.append({'wiki':xxwiki, 'decade':int(decade), 'gender':gender, 'celeb_per':test_per}, ignore_index=True)"
     ],
     "language": "python",
     "metadata": {},
     "outputs": [],
     "prompt_number": 110
    },
    {
     "cell_type": "code",
     "collapsed": false,
     "input": [
      "dummy_langs = pd.get_dummies(celebdf['wiki'])\n",
      "dummy_gender = pd.get_dummies(celebdf['gender'])\n",
      "dummy_gender = dummy_gender[['male','female','nogender']]\n",
      "print dummy_langs.head(2)\n",
      "print dummy_gender.head(2)"
     ],
     "language": "python",
     "metadata": {},
     "outputs": [
      {
       "output_type": "stream",
       "stream": "stdout",
       "text": [
        "   dewiki  enwiki  jawiki  kowiki  tlwiki  urwiki  zhwiki\n",
        "0       1       0       0       0       0       0       0\n",
        "1       1       0       0       0       0       0       0\n",
        "   male  female  nogender\n",
        "0     0       1         0\n",
        "1     1       0         0\n"
       ]
      }
     ],
     "prompt_number": 111
    },
    {
     "cell_type": "code",
     "collapsed": false,
     "input": [
      "catdf = celebdf[['celeb_per','decade']].join(dummy_langs.ix[:,'enwiki':]).join(dummy_gender.ix[:,'female':])\n",
      "catdf['intercept'] = 1.0"
     ],
     "language": "python",
     "metadata": {},
     "outputs": [],
     "prompt_number": 114
    },
    {
     "cell_type": "code",
     "collapsed": false,
     "input": [
      "train_cols = catdf.columns[1:]\n",
      "logit = sm.Logit(catdf['celeb_per'], catdf[train_cols])\n",
      "result= logit.fit()"
     ],
     "language": "python",
     "metadata": {},
     "outputs": [
      {
       "output_type": "stream",
       "stream": "stdout",
       "text": [
        "Optimization terminated successfully.\n",
        "         Current function value: 0.466455\n",
        "         Iterations 6\n"
       ]
      }
     ],
     "prompt_number": 115
    },
    {
     "cell_type": "code",
     "collapsed": false,
     "input": [
      "result.summary()"
     ],
     "language": "python",
     "metadata": {},
     "outputs": [
      {
       "html": [
        "<table class=\"simpletable\">\n",
        "<caption>Logit Regression Results</caption>\n",
        "<tr>\n",
        "  <th>Dep. Variable:</th>     <td>celeb_per</td>    <th>  No. Observations:  </th>  <td>   117</td>  \n",
        "</tr>\n",
        "<tr>\n",
        "  <th>Model:</th>               <td>Logit</td>      <th>  Df Residuals:      </th>  <td>   107</td>  \n",
        "</tr>\n",
        "<tr>\n",
        "  <th>Method:</th>               <td>MLE</td>       <th>  Df Model:          </th>  <td>     9</td>  \n",
        "</tr>\n",
        "<tr>\n",
        "  <th>Date:</th>          <td>Thu, 01 Jan 2015</td> <th>  Pseudo R-squ.:     </th>  <td>0.3077</td>  \n",
        "</tr>\n",
        "<tr>\n",
        "  <th>Time:</th>              <td>11:40:30</td>     <th>  Log-Likelihood:    </th> <td> -54.575</td> \n",
        "</tr>\n",
        "<tr>\n",
        "  <th>converged:</th>           <td>True</td>       <th>  LL-Null:           </th> <td> -78.830</td> \n",
        "</tr>\n",
        "<tr>\n",
        "  <th> </th>                      <td> </td>        <th>  LLR p-value:       </th> <td>2.051e-07</td>\n",
        "</tr>\n",
        "</table>\n",
        "<table class=\"simpletable\">\n",
        "<tr>\n",
        "      <td></td>         <th>coef</th>     <th>std err</th>      <th>z</th>      <th>P>|z|</th> <th>[95.0% Conf. Int.]</th> \n",
        "</tr>\n",
        "<tr>\n",
        "  <th>decade</th>    <td>    0.0238</td> <td>    0.013</td> <td>    1.834</td> <td> 0.067</td> <td>   -0.002     0.049</td>\n",
        "</tr>\n",
        "<tr>\n",
        "  <th>enwiki</th>    <td>    0.0691</td> <td>    0.877</td> <td>    0.079</td> <td> 0.937</td> <td>   -1.650     1.788</td>\n",
        "</tr>\n",
        "<tr>\n",
        "  <th>jawiki</th>    <td>    0.7964</td> <td>    0.840</td> <td>    0.948</td> <td> 0.343</td> <td>   -0.850     2.443</td>\n",
        "</tr>\n",
        "<tr>\n",
        "  <th>kowiki</th>    <td>    1.4052</td> <td>    0.836</td> <td>    1.682</td> <td> 0.093</td> <td>   -0.233     3.043</td>\n",
        "</tr>\n",
        "<tr>\n",
        "  <th>tlwiki</th>    <td>    3.0183</td> <td>    0.947</td> <td>    3.189</td> <td> 0.001</td> <td>    1.163     4.873</td>\n",
        "</tr>\n",
        "<tr>\n",
        "  <th>urwiki</th>    <td>    0.8892</td> <td>    0.867</td> <td>    1.025</td> <td> 0.305</td> <td>   -0.810     2.589</td>\n",
        "</tr>\n",
        "<tr>\n",
        "  <th>zhwiki</th>    <td>    0.5577</td> <td>    0.848</td> <td>    0.658</td> <td> 0.511</td> <td>   -1.104     2.219</td>\n",
        "</tr>\n",
        "<tr>\n",
        "  <th>female</th>    <td>    1.2890</td> <td>    0.509</td> <td>    2.534</td> <td> 0.011</td> <td>    0.292     2.286</td>\n",
        "</tr>\n",
        "<tr>\n",
        "  <th>nogender</th>  <td>   -0.1641</td> <td>    0.562</td> <td>   -0.292</td> <td> 0.770</td> <td>   -1.265     0.936</td>\n",
        "</tr>\n",
        "<tr>\n",
        "  <th>intercept</th> <td>  -48.2021</td> <td>   25.399</td> <td>   -1.898</td> <td> 0.058</td> <td>  -97.984     1.580</td>\n",
        "</tr>\n",
        "</table>"
       ],
       "metadata": {},
       "output_type": "pyout",
       "prompt_number": 116,
       "text": [
        "<class 'statsmodels.iolib.summary.Summary'>\n",
        "\"\"\"\n",
        "                           Logit Regression Results                           \n",
        "==============================================================================\n",
        "Dep. Variable:              celeb_per   No. Observations:                  117\n",
        "Model:                          Logit   Df Residuals:                      107\n",
        "Method:                           MLE   Df Model:                            9\n",
        "Date:                Thu, 01 Jan 2015   Pseudo R-squ.:                  0.3077\n",
        "Time:                        11:40:30   Log-Likelihood:                -54.575\n",
        "converged:                       True   LL-Null:                       -78.830\n",
        "                                        LLR p-value:                 2.051e-07\n",
        "==============================================================================\n",
        "                 coef    std err          z      P>|z|      [95.0% Conf. Int.]\n",
        "------------------------------------------------------------------------------\n",
        "decade         0.0238      0.013      1.834      0.067        -0.002     0.049\n",
        "enwiki         0.0691      0.877      0.079      0.937        -1.650     1.788\n",
        "jawiki         0.7964      0.840      0.948      0.343        -0.850     2.443\n",
        "kowiki         1.4052      0.836      1.682      0.093        -0.233     3.043\n",
        "tlwiki         3.0183      0.947      3.189      0.001         1.163     4.873\n",
        "urwiki         0.8892      0.867      1.025      0.305        -0.810     2.589\n",
        "zhwiki         0.5577      0.848      0.658      0.511        -1.104     2.219\n",
        "female         1.2890      0.509      2.534      0.011         0.292     2.286\n",
        "nogender      -0.1641      0.562     -0.292      0.770        -1.265     0.936\n",
        "intercept    -48.2021     25.399     -1.898      0.058       -97.984     1.580\n",
        "==============================================================================\n",
        "\"\"\""
       ]
      }
     ],
     "prompt_number": 116
    },
    {
     "cell_type": "code",
     "collapsed": false,
     "input": [
      "actress_dict = {'jawiki': u'\u4ff3\u512a', 'zhwiki': u'\u6f14\u54e1', 'tlwiki':u'artista', 'urwiki': u'\u0627\u0631\u062f\u0648', 'dewiki': 'schauspieler' , 'enwiki' :'actress'}\n",
      "player_dict =   {'jawiki': u'\u9078\u624b', 'zhwiki': u'\u904b\u52d5\u54e1', 'tlwiki':u'player', 'urwiki': u'\u06a9\u06be\u0644\u0627\u0691',  'dewiki': 'spieler' , 'enwiki' :'player'}\n",
      "\n",
      "\n",
      "\n",
      "def multiword(xxwiki, prof_dict):\n",
      "    def intext(text):\n",
      "        if text:\n",
      "            text = text.lower()\n",
      "            eng = prof_dict['enwiki']\n",
      "            foreign = prof_dict[xxwiki]\n",
      "            if eng in text or foreign in text:\n",
      "                return True\n",
      "            else: return False\n",
      "        else: return False\n",
      "    return intext\n",
      "\n",
      "\n",
      "celeb = defaultdict(dict)\n",
      "for xxwiki in ('jawiki', 'tlwiki', 'urwiki', 'zhwiki', 'enwiki', 'dewiki'):\n",
      "    df = pd.DataFrame.from_dict(json.load(open('helpers/inspection/descriptions/{}_descriptions.json'.format(xxwiki), 'r')), orient='index')\n",
      "    for prof, test in (('actress',  multiword(xxwiki, actress_dict)), ('player',multiword(xxwiki, player_dict))):\n",
      "        df[prof] = df['text'].apply(test)\n",
      "        test_per = df[prof].sum()/float(len(df))\n",
      "        celeb[xxwiki][prof] = test_per\n"
     ],
     "language": "python",
     "metadata": {},
     "outputs": [],
     "prompt_number": 11
    },
    {
     "cell_type": "code",
     "collapsed": false,
     "input": [
      "for xxwiki in ('jawiki', 'tlwiki', 'urwiki', 'zhwiki', 'enwiki', 'dewiki'):\n",
      "    df = pd.DataFrame.from_dict(json.load(open('helpers/inspection/descriptions/{}_descriptions.json'.format(xxwiki), 'r')), orient='index')\n",
      "    df['text'] = df['text'].apply(lambda x: x.replace('\\n',' ') if x else x)\n",
      "    df.to_csv('helpers/inspection/readable/{}_modern_bios_for_inspection.csv'.format(xxwiki), encoding='utf-8')"
     ],
     "language": "python",
     "metadata": {},
     "outputs": [],
     "prompt_number": 8
    },
    {
     "cell_type": "code",
     "collapsed": false,
     "input": [
      "celebdf = pd.DataFrame.from_dict(celeb, orient='index')\n",
      "celebdf['either'] = celebdf['player'] + celebdf['actress']\n",
      "celebdf.sort('either')"
     ],
     "language": "python",
     "metadata": {},
     "outputs": [
      {
       "html": [
        "<div style=\"max-height:1000px;max-width:1500px;overflow:auto;\">\n",
        "<table border=\"1\" class=\"dataframe\">\n",
        "  <thead>\n",
        "    <tr style=\"text-align: right;\">\n",
        "      <th></th>\n",
        "      <th>player</th>\n",
        "      <th>actress</th>\n",
        "      <th>either</th>\n",
        "    </tr>\n",
        "  </thead>\n",
        "  <tbody>\n",
        "    <tr>\n",
        "      <th>enwiki</th>\n",
        "      <td> 0.223995</td>\n",
        "      <td> 0.042483</td>\n",
        "      <td> 0.266478</td>\n",
        "    </tr>\n",
        "    <tr>\n",
        "      <th>jawiki</th>\n",
        "      <td> 0.198402</td>\n",
        "      <td> 0.090304</td>\n",
        "      <td> 0.288705</td>\n",
        "    </tr>\n",
        "    <tr>\n",
        "      <th>dewiki</th>\n",
        "      <td> 0.287200</td>\n",
        "      <td> 0.075000</td>\n",
        "      <td> 0.362200</td>\n",
        "    </tr>\n",
        "    <tr>\n",
        "      <th>zhwiki</th>\n",
        "      <td> 0.251717</td>\n",
        "      <td> 0.121909</td>\n",
        "      <td> 0.373626</td>\n",
        "    </tr>\n",
        "    <tr>\n",
        "      <th>tlwiki</th>\n",
        "      <td> 0.068075</td>\n",
        "      <td> 0.419601</td>\n",
        "      <td> 0.487676</td>\n",
        "    </tr>\n",
        "    <tr>\n",
        "      <th>urwiki</th>\n",
        "      <td> 0.016148</td>\n",
        "      <td> 0.741638</td>\n",
        "      <td> 0.757785</td>\n",
        "    </tr>\n",
        "  </tbody>\n",
        "</table>\n",
        "</div>"
       ],
       "metadata": {},
       "output_type": "pyout",
       "prompt_number": 18,
       "text": [
        "          player   actress    either\n",
        "enwiki  0.223995  0.042483  0.266478\n",
        "jawiki  0.198402  0.090304  0.288705\n",
        "dewiki  0.287200  0.075000  0.362200\n",
        "zhwiki  0.251717  0.121909  0.373626\n",
        "tlwiki  0.068075  0.419601  0.487676\n",
        "urwiki  0.016148  0.741638  0.757785"
       ]
      }
     ],
     "prompt_number": 18
    },
    {
     "cell_type": "code",
     "collapsed": false,
     "input": [],
     "language": "python",
     "metadata": {},
     "outputs": []
    }
   ],
   "metadata": {}
  }
 ]
}
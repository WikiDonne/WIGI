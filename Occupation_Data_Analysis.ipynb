{
 "cells": [
  {
   "cell_type": "code",
   "execution_count": 1,
   "metadata": {
    "collapsed": true
   },
   "outputs": [],
   "source": [
    "import pandas as pd\n",
    "import matplotlib.pyplot as plt\n",
    "import numpy as np"
   ]
  },
  {
   "cell_type": "code",
   "execution_count": 2,
   "metadata": {
    "collapsed": false
   },
   "outputs": [
    {
     "name": "stdout",
     "output_type": "stream",
     "text": [
      "\u001b[0m\u001b[01;34mapicache\u001b[0m/                        flatten.py                      pywiki-test.py\r\n",
      "data_label.py                    fow_id2label.json               Sandbox.ipynb\r\n",
      "field_of_work-index.csv          occ_id2label.json               throttle.ctrl\r\n",
      "flatten_field_of_work-index.csv  Occupation_Data_Analysis.ipynb  Untitled.ipynb\r\n",
      "flatten_occupation-index.csv     occupation-index.csv\r\n",
      "flatten-occupation.py            out.txt\r\n"
     ]
    }
   ],
   "source": [
    "%ls"
   ]
  },
  {
   "cell_type": "code",
   "execution_count": 4,
   "metadata": {
    "collapsed": false
   },
   "outputs": [
    {
     "data": {
      "text/html": [
       "<div style=\"max-height:1000px;max-width:1500px;overflow:auto;\">\n",
       "<table border=\"1\" class=\"dataframe\">\n",
       "  <thead>\n",
       "    <tr style=\"text-align: right;\">\n",
       "      <th></th>\n",
       "      <th>Unnamed: 0</th>\n",
       "      <th>transgender female</th>\n",
       "      <th>intersex</th>\n",
       "      <th>fa'afafine</th>\n",
       "      <th>transgender</th>\n",
       "      <th>American football player</th>\n",
       "      <th>Gender fluid</th>\n",
       "      <th>sociologist</th>\n",
       "      <th>transgender male</th>\n",
       "      <th>female creature</th>\n",
       "      <th>male creature</th>\n",
       "      <th>woman</th>\n",
       "      <th>genderqueer</th>\n",
       "      <th>female</th>\n",
       "      <th>male</th>\n",
       "      <th>kathoey</th>\n",
       "    </tr>\n",
       "  </thead>\n",
       "  <tbody>\n",
       "    <tr>\n",
       "      <th>0</th>\n",
       "      <td>Q4249459</td>\n",
       "      <td>0</td>\n",
       "      <td>0</td>\n",
       "      <td>0</td>\n",
       "      <td>0</td>\n",
       "      <td>0</td>\n",
       "      <td>0</td>\n",
       "      <td>0</td>\n",
       "      <td>0</td>\n",
       "      <td>0</td>\n",
       "      <td>0</td>\n",
       "      <td>0</td>\n",
       "      <td>0</td>\n",
       "      <td>0</td>\n",
       "      <td>1</td>\n",
       "      <td>0</td>\n",
       "    </tr>\n",
       "    <tr>\n",
       "      <th>1</th>\n",
       "      <td>Q12878771</td>\n",
       "      <td>0</td>\n",
       "      <td>0</td>\n",
       "      <td>0</td>\n",
       "      <td>0</td>\n",
       "      <td>0</td>\n",
       "      <td>0</td>\n",
       "      <td>0</td>\n",
       "      <td>0</td>\n",
       "      <td>0</td>\n",
       "      <td>0</td>\n",
       "      <td>0</td>\n",
       "      <td>0</td>\n",
       "      <td>0</td>\n",
       "      <td>1</td>\n",
       "      <td>0</td>\n",
       "    </tr>\n",
       "  </tbody>\n",
       "</table>\n",
       "</div>"
      ],
      "text/plain": [
       "  Unnamed: 0  transgender female  intersex  fa'afafine  transgender  \\\n",
       "0   Q4249459                   0         0           0            0   \n",
       "1  Q12878771                   0         0           0            0   \n",
       "\n",
       "   American football player  Gender fluid  sociologist  transgender male  \\\n",
       "0                         0             0            0                 0   \n",
       "1                         0             0            0                 0   \n",
       "\n",
       "   female creature  male creature  woman  genderqueer  female  male  kathoey  \n",
       "0                0              0      0            0       0     1        0  \n",
       "1                0              0      0            0       0     1        0  "
      ]
     },
     "execution_count": 4,
     "metadata": {},
     "output_type": "execute_result"
    }
   ],
   "source": [
    "occ = pd.read_csv('flatten_occupation-index.csv')\n",
    "occ.head(2)"
   ]
  },
  {
   "cell_type": "code",
   "execution_count": null,
   "metadata": {
    "collapsed": true
   },
   "outputs": [],
   "source": []
  }
 ],
 "metadata": {
  "kernelspec": {
   "display_name": "Python 2",
   "language": "python",
   "name": "python2"
  },
  "language_info": {
   "codemirror_mode": {
    "name": "ipython",
    "version": 2
   },
   "file_extension": ".py",
   "mimetype": "text/x-python",
   "name": "python",
   "nbconvert_exporter": "python",
   "pygments_lexer": "ipython2",
   "version": "2.7.10"
  }
 },
 "nbformat": 4,
 "nbformat_minor": 0
}

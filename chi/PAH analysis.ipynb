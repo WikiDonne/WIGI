{
 "cells": [
  {
   "cell_type": "code",
   "execution_count": 162,
   "metadata": {
    "collapsed": true
   },
   "outputs": [],
   "source": [
    "import pandas\n",
    "from collections import defaultdict"
   ]
  },
  {
   "cell_type": "code",
   "execution_count": 3,
   "metadata": {
    "collapsed": false
   },
   "outputs": [],
   "source": [
    "pah = pandas.read_csv('enwiki_pah_misalignment.tsv',sep='\\t')"
   ]
  },
  {
   "cell_type": "code",
   "execution_count": 4,
   "metadata": {
    "collapsed": false
   },
   "outputs": [
    {
     "data": {
      "text/html": [
       "<div style=\"max-height:1000px;max-width:1500px;overflow:auto;\">\n",
       "<table border=\"1\" class=\"dataframe\">\n",
       "  <thead>\n",
       "    <tr style=\"text-align: right;\">\n",
       "      <th></th>\n",
       "      <th>pageid</th>\n",
       "      <th>total_hits</th>\n",
       "      <th>assessment_class</th>\n",
       "      <th>pop_class</th>\n",
       "      <th>dissonance</th>\n",
       "    </tr>\n",
       "  </thead>\n",
       "  <tbody>\n",
       "    <tr>\n",
       "      <th>0</th>\n",
       "      <td>  12</td>\n",
       "      <td>  49784</td>\n",
       "      <td> GA</td>\n",
       "      <td> GA</td>\n",
       "      <td>              None</td>\n",
       "    </tr>\n",
       "    <tr>\n",
       "      <th>1</th>\n",
       "      <td>  25</td>\n",
       "      <td> 130034</td>\n",
       "      <td> FA</td>\n",
       "      <td> FA</td>\n",
       "      <td>              None</td>\n",
       "    </tr>\n",
       "    <tr>\n",
       "      <th>2</th>\n",
       "      <td>  39</td>\n",
       "      <td>  17751</td>\n",
       "      <td>  B</td>\n",
       "      <td>  B</td>\n",
       "      <td>              None</td>\n",
       "    </tr>\n",
       "    <tr>\n",
       "      <th>3</th>\n",
       "      <td> 290</td>\n",
       "      <td> 102993</td>\n",
       "      <td>  B</td>\n",
       "      <td> FA</td>\n",
       "      <td>     High positive</td>\n",
       "    </tr>\n",
       "    <tr>\n",
       "      <th>4</th>\n",
       "      <td> 303</td>\n",
       "      <td>  62333</td>\n",
       "      <td>  B</td>\n",
       "      <td> GA</td>\n",
       "      <td> Moderate positive</td>\n",
       "    </tr>\n",
       "  </tbody>\n",
       "</table>\n",
       "</div>"
      ],
      "text/plain": [
       "   pageid  total_hits assessment_class pop_class         dissonance\n",
       "0      12       49784               GA        GA               None\n",
       "1      25      130034               FA        FA               None\n",
       "2      39       17751                B         B               None\n",
       "3     290      102993                B        FA      High positive\n",
       "4     303       62333                B        GA  Moderate positive"
      ]
     },
     "execution_count": 4,
     "metadata": {},
     "output_type": "execute_result"
    }
   ],
   "source": [
    "pah.head()"
   ]
  },
  {
   "cell_type": "code",
   "execution_count": 28,
   "metadata": {
    "collapsed": false
   },
   "outputs": [
    {
     "data": {
      "text/html": [
       "<div style=\"max-height:1000px;max-width:1500px;overflow:auto;\">\n",
       "<table border=\"1\" class=\"dataframe\">\n",
       "  <thead>\n",
       "    <tr style=\"text-align: right;\">\n",
       "      <th></th>\n",
       "      <th>pageid</th>\n",
       "      <th>total_hits</th>\n",
       "      <th>assessment_class</th>\n",
       "      <th>pop_class</th>\n",
       "      <th>dissonance</th>\n",
       "    </tr>\n",
       "  </thead>\n",
       "  <tbody>\n",
       "    <tr>\n",
       "      <th>0  </th>\n",
       "      <td>  12</td>\n",
       "      <td>  49784</td>\n",
       "      <td>    GA</td>\n",
       "      <td>    GA</td>\n",
       "      <td>              None</td>\n",
       "    </tr>\n",
       "    <tr>\n",
       "      <th>1  </th>\n",
       "      <td>  25</td>\n",
       "      <td> 130034</td>\n",
       "      <td>    FA</td>\n",
       "      <td>    FA</td>\n",
       "      <td>              None</td>\n",
       "    </tr>\n",
       "    <tr>\n",
       "      <th>2  </th>\n",
       "      <td>  39</td>\n",
       "      <td>  17751</td>\n",
       "      <td>     B</td>\n",
       "      <td>     B</td>\n",
       "      <td>              None</td>\n",
       "    </tr>\n",
       "    <tr>\n",
       "      <th>3  </th>\n",
       "      <td> 290</td>\n",
       "      <td> 102993</td>\n",
       "      <td>     B</td>\n",
       "      <td>    FA</td>\n",
       "      <td>     High positive</td>\n",
       "    </tr>\n",
       "    <tr>\n",
       "      <th>4  </th>\n",
       "      <td> 303</td>\n",
       "      <td>  62333</td>\n",
       "      <td>     B</td>\n",
       "      <td>    GA</td>\n",
       "      <td> Moderate positive</td>\n",
       "    </tr>\n",
       "    <tr>\n",
       "      <th>5  </th>\n",
       "      <td> 305</td>\n",
       "      <td>  68077</td>\n",
       "      <td>     C</td>\n",
       "      <td>     A</td>\n",
       "      <td>     High positive</td>\n",
       "    </tr>\n",
       "    <tr>\n",
       "      <th>6  </th>\n",
       "      <td> 307</td>\n",
       "      <td> 235210</td>\n",
       "      <td>    GA</td>\n",
       "      <td>    FA</td>\n",
       "      <td>     High positive</td>\n",
       "    </tr>\n",
       "    <tr>\n",
       "      <th>7  </th>\n",
       "      <td> 308</td>\n",
       "      <td> 118481</td>\n",
       "      <td>     B</td>\n",
       "      <td>    FA</td>\n",
       "      <td>     High positive</td>\n",
       "    </tr>\n",
       "    <tr>\n",
       "      <th>8  </th>\n",
       "      <td> 324</td>\n",
       "      <td> 130784</td>\n",
       "      <td>     B</td>\n",
       "      <td>    FA</td>\n",
       "      <td>     High positive</td>\n",
       "    </tr>\n",
       "    <tr>\n",
       "      <th>9  </th>\n",
       "      <td> 330</td>\n",
       "      <td>    113</td>\n",
       "      <td>  Stub</td>\n",
       "      <td>  Stub</td>\n",
       "      <td>              None</td>\n",
       "    </tr>\n",
       "    <tr>\n",
       "      <th>10 </th>\n",
       "      <td> 332</td>\n",
       "      <td>   1184</td>\n",
       "      <td>  Stub</td>\n",
       "      <td> Start</td>\n",
       "      <td> Moderate positive</td>\n",
       "    </tr>\n",
       "    <tr>\n",
       "      <th>11 </th>\n",
       "      <td> 336</td>\n",
       "      <td>  37372</td>\n",
       "      <td>     B</td>\n",
       "      <td>    GA</td>\n",
       "      <td> Moderate positive</td>\n",
       "    </tr>\n",
       "    <tr>\n",
       "      <th>13 </th>\n",
       "      <td> 340</td>\n",
       "      <td>   2106</td>\n",
       "      <td>     C</td>\n",
       "      <td> Start</td>\n",
       "      <td> Moderate negative</td>\n",
       "    </tr>\n",
       "    <tr>\n",
       "      <th>14 </th>\n",
       "      <td> 344</td>\n",
       "      <td>   2611</td>\n",
       "      <td> Start</td>\n",
       "      <td>     C</td>\n",
       "      <td> Moderate positive</td>\n",
       "    </tr>\n",
       "    <tr>\n",
       "      <th>17 </th>\n",
       "      <td> 572</td>\n",
       "      <td>  10438</td>\n",
       "      <td>     B</td>\n",
       "      <td>     B</td>\n",
       "      <td>              None</td>\n",
       "    </tr>\n",
       "    <tr>\n",
       "      <th>20 </th>\n",
       "      <td> 584</td>\n",
       "      <td>   5961</td>\n",
       "      <td> Start</td>\n",
       "      <td>     C</td>\n",
       "      <td> Moderate positive</td>\n",
       "    </tr>\n",
       "    <tr>\n",
       "      <th>31 </th>\n",
       "      <td> 621</td>\n",
       "      <td>  38624</td>\n",
       "      <td>    FA</td>\n",
       "      <td>    GA</td>\n",
       "      <td>     High negative</td>\n",
       "    </tr>\n",
       "    <tr>\n",
       "      <th>48 </th>\n",
       "      <td> 663</td>\n",
       "      <td>  20906</td>\n",
       "      <td>    FA</td>\n",
       "      <td>     B</td>\n",
       "      <td>     High negative</td>\n",
       "    </tr>\n",
       "    <tr>\n",
       "      <th>51 </th>\n",
       "      <td> 666</td>\n",
       "      <td>  17636</td>\n",
       "      <td>     A</td>\n",
       "      <td>     B</td>\n",
       "      <td>     High negative</td>\n",
       "    </tr>\n",
       "    <tr>\n",
       "      <th>82 </th>\n",
       "      <td> 742</td>\n",
       "      <td>     99</td>\n",
       "      <td> Start</td>\n",
       "      <td>  Stub</td>\n",
       "      <td> Moderate negative</td>\n",
       "    </tr>\n",
       "    <tr>\n",
       "      <th>84 </th>\n",
       "      <td> 748</td>\n",
       "      <td>   6067</td>\n",
       "      <td>     B</td>\n",
       "      <td>     C</td>\n",
       "      <td> Moderate negative</td>\n",
       "    </tr>\n",
       "    <tr>\n",
       "      <th>85 </th>\n",
       "      <td> 751</td>\n",
       "      <td>  45852</td>\n",
       "      <td>    FA</td>\n",
       "      <td>    GA</td>\n",
       "      <td>     High negative</td>\n",
       "    </tr>\n",
       "    <tr>\n",
       "      <th>98 </th>\n",
       "      <td> 785</td>\n",
       "      <td>   9921</td>\n",
       "      <td>    GA</td>\n",
       "      <td>     B</td>\n",
       "      <td> Moderate negative</td>\n",
       "    </tr>\n",
       "    <tr>\n",
       "      <th>99 </th>\n",
       "      <td> 786</td>\n",
       "      <td>   3888</td>\n",
       "      <td>     B</td>\n",
       "      <td>     C</td>\n",
       "      <td> Moderate negative</td>\n",
       "    </tr>\n",
       "    <tr>\n",
       "      <th>106</th>\n",
       "      <td> 798</td>\n",
       "      <td>   7672</td>\n",
       "      <td>    FA</td>\n",
       "      <td>     B</td>\n",
       "      <td>     High negative</td>\n",
       "    </tr>\n",
       "  </tbody>\n",
       "</table>\n",
       "</div>"
      ],
      "text/plain": [
       "     pageid  total_hits assessment_class pop_class         dissonance\n",
       "0        12       49784               GA        GA               None\n",
       "1        25      130034               FA        FA               None\n",
       "2        39       17751                B         B               None\n",
       "3       290      102993                B        FA      High positive\n",
       "4       303       62333                B        GA  Moderate positive\n",
       "5       305       68077                C         A      High positive\n",
       "6       307      235210               GA        FA      High positive\n",
       "7       308      118481                B        FA      High positive\n",
       "8       324      130784                B        FA      High positive\n",
       "9       330         113             Stub      Stub               None\n",
       "10      332        1184             Stub     Start  Moderate positive\n",
       "11      336       37372                B        GA  Moderate positive\n",
       "13      340        2106                C     Start  Moderate negative\n",
       "14      344        2611            Start         C  Moderate positive\n",
       "17      572       10438                B         B               None\n",
       "20      584        5961            Start         C  Moderate positive\n",
       "31      621       38624               FA        GA      High negative\n",
       "48      663       20906               FA         B      High negative\n",
       "51      666       17636                A         B      High negative\n",
       "82      742          99            Start      Stub  Moderate negative\n",
       "84      748        6067                B         C  Moderate negative\n",
       "85      751       45852               FA        GA      High negative\n",
       "98      785        9921               GA         B  Moderate negative\n",
       "99      786        3888                B         C  Moderate negative\n",
       "106     798        7672               FA         B      High negative"
      ]
     },
     "execution_count": 28,
     "metadata": {},
     "output_type": "execute_result"
    }
   ],
   "source": [
    "pah.groupby('dissonance').head()"
   ]
  },
  {
   "cell_type": "code",
   "execution_count": 6,
   "metadata": {
    "collapsed": true
   },
   "outputs": [],
   "source": [
    "lines = open('english-qid-names2016-03-27.csv','r').readlines()"
   ]
  },
  {
   "cell_type": "code",
   "execution_count": 17,
   "metadata": {
    "collapsed": false
   },
   "outputs": [],
   "source": [
    "qidnames = {}\n",
    "for line in lines:\n",
    "    qid, ennamen = line.split(',', maxsplit=1)\n",
    "    enname = ennamen.split('\\n')[0]\n",
    "    if enname:\n",
    "        qidnames[qid]=enname"
   ]
  },
  {
   "cell_type": "code",
   "execution_count": 25,
   "metadata": {
    "collapsed": true
   },
   "outputs": [],
   "source": [
    "import json"
   ]
  },
  {
   "cell_type": "code",
   "execution_count": 27,
   "metadata": {
    "collapsed": false
   },
   "outputs": [],
   "source": [
    "json.dump(qidnames, open('qid_enpage.json','w'))"
   ]
  },
  {
   "cell_type": "code",
   "execution_count": 18,
   "metadata": {
    "collapsed": true
   },
   "outputs": [],
   "source": [
    "endf = pandas.DataFrame.from_dict(qidnames,orient='index')"
   ]
  },
  {
   "cell_type": "code",
   "execution_count": 22,
   "metadata": {
    "collapsed": false
   },
   "outputs": [
    {
     "data": {
      "text/plain": [
       "1346812"
      ]
     },
     "execution_count": 22,
     "metadata": {},
     "output_type": "execute_result"
    }
   ],
   "source": [
    "len(endf)"
   ]
  },
  {
   "cell_type": "markdown",
   "metadata": {},
   "source": [
    "Todo:\n",
    "    + map gender-enwiki-page-id\n",
    "    + dissoance class priors\n",
    "    + posteriors by gender\n",
    "    + posterior for no gender."
   ]
  },
  {
   "cell_type": "code",
   "execution_count": 31,
   "metadata": {
    "collapsed": false
   },
   "outputs": [],
   "source": [
    "bigdf = pandas.read_csv('/media/notconfusing/9d9b45fc-55f7-428c-a228-1c4c4a1b728c/home/maximilianklein/snapshot_data/2016-01-03/gender-index-data-2016-01-03.csv')"
   ]
  },
  {
   "cell_type": "code",
   "execution_count": 54,
   "metadata": {
    "collapsed": false
   },
   "outputs": [],
   "source": [
    "gender_qid_df = bigdf[['qid','gender']]"
   ]
  },
  {
   "cell_type": "code",
   "execution_count": 55,
   "metadata": {
    "collapsed": false
   },
   "outputs": [
    {
     "name": "stderr",
     "output_type": "stream",
     "text": [
      "/usr/local/lib/python3.4/dist-packages/ipykernel/__main__.py:12: SettingWithCopyWarning: \n",
      "A value is trying to be set on a copy of a slice from a DataFrame.\n",
      "Try using .loc[row_indexer,col_indexer] = value instead\n",
      "\n",
      "See the the caveats in the documentation: http://pandas.pydata.org/pandas-docs/stable/indexing.html#indexing-view-versus-copy\n"
     ]
    }
   ],
   "source": [
    "def map_gender(x):\n",
    "    if isinstance(x,float):\n",
    "        return 'no gender'\n",
    "    else:\n",
    "        gen = x.split('|')[0]\n",
    "        if gen == 'Q6581072':\n",
    "            return 'female'\n",
    "        elif gen == 'Q6581097':\n",
    "            return 'male'\n",
    "        else:\n",
    "            return 'nonbin'\n",
    "gender_qid_df['gender'] = gender_qid_df['gender'].apply(map_gender)"
   ]
  },
  {
   "cell_type": "code",
   "execution_count": 59,
   "metadata": {
    "collapsed": false,
    "scrolled": true
   },
   "outputs": [
    {
     "data": {
      "text/html": [
       "<div style=\"max-height:1000px;max-width:1500px;overflow:auto;\">\n",
       "<table border=\"1\" class=\"dataframe\">\n",
       "  <thead>\n",
       "    <tr style=\"text-align: right;\">\n",
       "      <th></th>\n",
       "      <th>qid</th>\n",
       "      <th>gender</th>\n",
       "      <th>enname</th>\n",
       "    </tr>\n",
       "  </thead>\n",
       "  <tbody>\n",
       "    <tr>\n",
       "      <th>0      </th>\n",
       "      <td>       Q23</td>\n",
       "      <td>      male</td>\n",
       "      <td>       George Washington</td>\n",
       "    </tr>\n",
       "    <tr>\n",
       "      <th>1      </th>\n",
       "      <td>       Q42</td>\n",
       "      <td>      male</td>\n",
       "      <td>           Douglas Adams</td>\n",
       "    </tr>\n",
       "    <tr>\n",
       "      <th>2      </th>\n",
       "      <td>      Q207</td>\n",
       "      <td>      male</td>\n",
       "      <td>          George W. Bush</td>\n",
       "    </tr>\n",
       "    <tr>\n",
       "      <th>3      </th>\n",
       "      <td>      Q297</td>\n",
       "      <td>      male</td>\n",
       "      <td>         Diego Velázquez</td>\n",
       "    </tr>\n",
       "    <tr>\n",
       "      <th>4      </th>\n",
       "      <td>      Q326</td>\n",
       "      <td>      male</td>\n",
       "      <td> Eduardo Frei Ruiz-Tagle</td>\n",
       "    </tr>\n",
       "    <tr>\n",
       "      <th>5      </th>\n",
       "      <td>      Q368</td>\n",
       "      <td>      male</td>\n",
       "      <td>        Augusto Pinochet</td>\n",
       "    </tr>\n",
       "    <tr>\n",
       "      <th>6      </th>\n",
       "      <td>      Q377</td>\n",
       "      <td>      male</td>\n",
       "      <td>            Yanka Kupala</td>\n",
       "    </tr>\n",
       "    <tr>\n",
       "      <th>7      </th>\n",
       "      <td>      Q475</td>\n",
       "      <td>      male</td>\n",
       "      <td>   Eduardo Frei Montalva</td>\n",
       "    </tr>\n",
       "    <tr>\n",
       "      <th>8      </th>\n",
       "      <td>      Q501</td>\n",
       "      <td>      male</td>\n",
       "      <td>      Charles Baudelaire</td>\n",
       "    </tr>\n",
       "    <tr>\n",
       "      <th>9      </th>\n",
       "      <td>      Q530</td>\n",
       "      <td>      male</td>\n",
       "      <td>        Ingemar Stenmark</td>\n",
       "    </tr>\n",
       "    <tr>\n",
       "      <th>10     </th>\n",
       "      <td>      Q555</td>\n",
       "      <td>    female</td>\n",
       "      <td>           Rachel Maddow</td>\n",
       "    </tr>\n",
       "    <tr>\n",
       "      <th>11     </th>\n",
       "      <td>      Q619</td>\n",
       "      <td>      male</td>\n",
       "      <td>     Nicolaus Copernicus</td>\n",
       "    </tr>\n",
       "    <tr>\n",
       "      <th>12     </th>\n",
       "      <td>      Q633</td>\n",
       "      <td>      male</td>\n",
       "      <td>              Neil Young</td>\n",
       "    </tr>\n",
       "    <tr>\n",
       "      <th>13     </th>\n",
       "      <td>      Q635</td>\n",
       "      <td>    female</td>\n",
       "      <td>               Cleopatra</td>\n",
       "    </tr>\n",
       "    <tr>\n",
       "      <th>14     </th>\n",
       "      <td>      Q747</td>\n",
       "      <td>      male</td>\n",
       "      <td>        Pierre Corneille</td>\n",
       "    </tr>\n",
       "    <tr>\n",
       "      <th>15     </th>\n",
       "      <td>      Q815</td>\n",
       "      <td>      male</td>\n",
       "      <td> Gabriel González Videla</td>\n",
       "    </tr>\n",
       "    <tr>\n",
       "      <th>16     </th>\n",
       "      <td>      Q849</td>\n",
       "      <td>      male</td>\n",
       "      <td>         François Villon</td>\n",
       "    </tr>\n",
       "    <tr>\n",
       "      <th>17     </th>\n",
       "      <td>      Q853</td>\n",
       "      <td>      male</td>\n",
       "      <td>        Andrei Tarkovsky</td>\n",
       "    </tr>\n",
       "    <tr>\n",
       "      <th>18     </th>\n",
       "      <td>      Q859</td>\n",
       "      <td>      male</td>\n",
       "      <td>                   Plato</td>\n",
       "    </tr>\n",
       "    <tr>\n",
       "      <th>19     </th>\n",
       "      <td>      Q873</td>\n",
       "      <td>    female</td>\n",
       "      <td>            Meryl Streep</td>\n",
       "    </tr>\n",
       "    <tr>\n",
       "      <th>20     </th>\n",
       "      <td>      Q905</td>\n",
       "      <td>      male</td>\n",
       "      <td>             Franz Kafka</td>\n",
       "    </tr>\n",
       "    <tr>\n",
       "      <th>21     </th>\n",
       "      <td>      Q909</td>\n",
       "      <td>      male</td>\n",
       "      <td>       Jorge Luis Borges</td>\n",
       "    </tr>\n",
       "    <tr>\n",
       "      <th>22     </th>\n",
       "      <td>      Q920</td>\n",
       "      <td>      male</td>\n",
       "      <td>              J. Bernlef</td>\n",
       "    </tr>\n",
       "    <tr>\n",
       "      <th>23     </th>\n",
       "      <td>      Q926</td>\n",
       "      <td>      male</td>\n",
       "      <td>          Roald Amundsen</td>\n",
       "    </tr>\n",
       "    <tr>\n",
       "      <th>24     </th>\n",
       "      <td>      Q937</td>\n",
       "      <td>      male</td>\n",
       "      <td>         Albert Einstein</td>\n",
       "    </tr>\n",
       "    <tr>\n",
       "      <th>25     </th>\n",
       "      <td>      Q946</td>\n",
       "      <td>      male</td>\n",
       "      <td>             Donald Tusk</td>\n",
       "    </tr>\n",
       "    <tr>\n",
       "      <th>26     </th>\n",
       "      <td>      Q997</td>\n",
       "      <td>      male</td>\n",
       "      <td>         Andrei Sakharov</td>\n",
       "    </tr>\n",
       "    <tr>\n",
       "      <th>27     </th>\n",
       "      <td>     Q1056</td>\n",
       "      <td>      male</td>\n",
       "      <td>             Italo Balbo</td>\n",
       "    </tr>\n",
       "    <tr>\n",
       "      <th>28     </th>\n",
       "      <td>     Q1058</td>\n",
       "      <td>      male</td>\n",
       "      <td>           Narendra Modi</td>\n",
       "    </tr>\n",
       "    <tr>\n",
       "      <th>29     </th>\n",
       "      <td>     Q1124</td>\n",
       "      <td>      male</td>\n",
       "      <td>            Bill Clinton</td>\n",
       "    </tr>\n",
       "    <tr>\n",
       "      <th>...</th>\n",
       "      <td>...</td>\n",
       "      <td>...</td>\n",
       "      <td>...</td>\n",
       "    </tr>\n",
       "    <tr>\n",
       "      <th>3036206</th>\n",
       "      <td> Q21856216</td>\n",
       "      <td>      male</td>\n",
       "      <td>                    None</td>\n",
       "    </tr>\n",
       "    <tr>\n",
       "      <th>3036207</th>\n",
       "      <td> Q21856218</td>\n",
       "      <td>    female</td>\n",
       "      <td>                    None</td>\n",
       "    </tr>\n",
       "    <tr>\n",
       "      <th>3036208</th>\n",
       "      <td> Q21856220</td>\n",
       "      <td>      male</td>\n",
       "      <td>                    None</td>\n",
       "    </tr>\n",
       "    <tr>\n",
       "      <th>3036209</th>\n",
       "      <td> Q21856230</td>\n",
       "      <td>      male</td>\n",
       "      <td>                    None</td>\n",
       "    </tr>\n",
       "    <tr>\n",
       "      <th>3036210</th>\n",
       "      <td> Q21856235</td>\n",
       "      <td>      male</td>\n",
       "      <td>                    None</td>\n",
       "    </tr>\n",
       "    <tr>\n",
       "      <th>3036211</th>\n",
       "      <td> Q21856262</td>\n",
       "      <td>      male</td>\n",
       "      <td>                    None</td>\n",
       "    </tr>\n",
       "    <tr>\n",
       "      <th>3036212</th>\n",
       "      <td> Q21856266</td>\n",
       "      <td>    female</td>\n",
       "      <td>                    None</td>\n",
       "    </tr>\n",
       "    <tr>\n",
       "      <th>3036213</th>\n",
       "      <td> Q21856269</td>\n",
       "      <td>      male</td>\n",
       "      <td>                    None</td>\n",
       "    </tr>\n",
       "    <tr>\n",
       "      <th>3036214</th>\n",
       "      <td> Q21856277</td>\n",
       "      <td>      male</td>\n",
       "      <td>                    None</td>\n",
       "    </tr>\n",
       "    <tr>\n",
       "      <th>3036215</th>\n",
       "      <td> Q21856281</td>\n",
       "      <td>    female</td>\n",
       "      <td>                    None</td>\n",
       "    </tr>\n",
       "    <tr>\n",
       "      <th>3036216</th>\n",
       "      <td> Q21856282</td>\n",
       "      <td>      male</td>\n",
       "      <td>                    None</td>\n",
       "    </tr>\n",
       "    <tr>\n",
       "      <th>3036217</th>\n",
       "      <td> Q21856285</td>\n",
       "      <td>      male</td>\n",
       "      <td>                    None</td>\n",
       "    </tr>\n",
       "    <tr>\n",
       "      <th>3036218</th>\n",
       "      <td> Q21856286</td>\n",
       "      <td>    female</td>\n",
       "      <td>                    None</td>\n",
       "    </tr>\n",
       "    <tr>\n",
       "      <th>3036219</th>\n",
       "      <td> Q21856289</td>\n",
       "      <td>      male</td>\n",
       "      <td>                    None</td>\n",
       "    </tr>\n",
       "    <tr>\n",
       "      <th>3036220</th>\n",
       "      <td> Q21856290</td>\n",
       "      <td>      male</td>\n",
       "      <td>                    None</td>\n",
       "    </tr>\n",
       "    <tr>\n",
       "      <th>3036221</th>\n",
       "      <td> Q21856292</td>\n",
       "      <td>    female</td>\n",
       "      <td>                    None</td>\n",
       "    </tr>\n",
       "    <tr>\n",
       "      <th>3036222</th>\n",
       "      <td> Q21856299</td>\n",
       "      <td>      male</td>\n",
       "      <td>                    None</td>\n",
       "    </tr>\n",
       "    <tr>\n",
       "      <th>3036223</th>\n",
       "      <td> Q21856300</td>\n",
       "      <td>      male</td>\n",
       "      <td>                    None</td>\n",
       "    </tr>\n",
       "    <tr>\n",
       "      <th>3036224</th>\n",
       "      <td> Q21856420</td>\n",
       "      <td>    female</td>\n",
       "      <td>                    None</td>\n",
       "    </tr>\n",
       "    <tr>\n",
       "      <th>3036225</th>\n",
       "      <td> Q21856453</td>\n",
       "      <td> no gender</td>\n",
       "      <td>                    None</td>\n",
       "    </tr>\n",
       "    <tr>\n",
       "      <th>3036226</th>\n",
       "      <td> Q21856455</td>\n",
       "      <td> no gender</td>\n",
       "      <td>                    None</td>\n",
       "    </tr>\n",
       "    <tr>\n",
       "      <th>3036227</th>\n",
       "      <td> Q21856462</td>\n",
       "      <td> no gender</td>\n",
       "      <td>                    None</td>\n",
       "    </tr>\n",
       "    <tr>\n",
       "      <th>3036228</th>\n",
       "      <td> Q21856594</td>\n",
       "      <td>      male</td>\n",
       "      <td>                    None</td>\n",
       "    </tr>\n",
       "    <tr>\n",
       "      <th>3036229</th>\n",
       "      <td> Q21856604</td>\n",
       "      <td>    female</td>\n",
       "      <td>                    None</td>\n",
       "    </tr>\n",
       "    <tr>\n",
       "      <th>3036230</th>\n",
       "      <td> Q21856657</td>\n",
       "      <td>      male</td>\n",
       "      <td>                    None</td>\n",
       "    </tr>\n",
       "    <tr>\n",
       "      <th>3036231</th>\n",
       "      <td> Q21856682</td>\n",
       "      <td>    nonbin</td>\n",
       "      <td>                    None</td>\n",
       "    </tr>\n",
       "    <tr>\n",
       "      <th>3036232</th>\n",
       "      <td> Q21856708</td>\n",
       "      <td>    female</td>\n",
       "      <td>                    None</td>\n",
       "    </tr>\n",
       "    <tr>\n",
       "      <th>3036233</th>\n",
       "      <td> Q21856749</td>\n",
       "      <td>      male</td>\n",
       "      <td>                    None</td>\n",
       "    </tr>\n",
       "    <tr>\n",
       "      <th>3036234</th>\n",
       "      <td> Q21856759</td>\n",
       "      <td>      male</td>\n",
       "      <td>                    None</td>\n",
       "    </tr>\n",
       "    <tr>\n",
       "      <th>3036235</th>\n",
       "      <td> Q21856771</td>\n",
       "      <td>      male</td>\n",
       "      <td>                    None</td>\n",
       "    </tr>\n",
       "  </tbody>\n",
       "</table>\n",
       "<p>3036236 rows × 3 columns</p>\n",
       "</div>"
      ],
      "text/plain": [
       "               qid     gender                   enname\n",
       "0              Q23       male        George Washington\n",
       "1              Q42       male            Douglas Adams\n",
       "2             Q207       male           George W. Bush\n",
       "3             Q297       male          Diego Velázquez\n",
       "4             Q326       male  Eduardo Frei Ruiz-Tagle\n",
       "5             Q368       male         Augusto Pinochet\n",
       "6             Q377       male             Yanka Kupala\n",
       "7             Q475       male    Eduardo Frei Montalva\n",
       "8             Q501       male       Charles Baudelaire\n",
       "9             Q530       male         Ingemar Stenmark\n",
       "10            Q555     female            Rachel Maddow\n",
       "11            Q619       male      Nicolaus Copernicus\n",
       "12            Q633       male               Neil Young\n",
       "13            Q635     female                Cleopatra\n",
       "14            Q747       male         Pierre Corneille\n",
       "15            Q815       male  Gabriel González Videla\n",
       "16            Q849       male          François Villon\n",
       "17            Q853       male         Andrei Tarkovsky\n",
       "18            Q859       male                    Plato\n",
       "19            Q873     female             Meryl Streep\n",
       "20            Q905       male              Franz Kafka\n",
       "21            Q909       male        Jorge Luis Borges\n",
       "22            Q920       male               J. Bernlef\n",
       "23            Q926       male           Roald Amundsen\n",
       "24            Q937       male          Albert Einstein\n",
       "25            Q946       male              Donald Tusk\n",
       "26            Q997       male          Andrei Sakharov\n",
       "27           Q1056       male              Italo Balbo\n",
       "28           Q1058       male            Narendra Modi\n",
       "29           Q1124       male             Bill Clinton\n",
       "...            ...        ...                      ...\n",
       "3036206  Q21856216       male                     None\n",
       "3036207  Q21856218     female                     None\n",
       "3036208  Q21856220       male                     None\n",
       "3036209  Q21856230       male                     None\n",
       "3036210  Q21856235       male                     None\n",
       "3036211  Q21856262       male                     None\n",
       "3036212  Q21856266     female                     None\n",
       "3036213  Q21856269       male                     None\n",
       "3036214  Q21856277       male                     None\n",
       "3036215  Q21856281     female                     None\n",
       "3036216  Q21856282       male                     None\n",
       "3036217  Q21856285       male                     None\n",
       "3036218  Q21856286     female                     None\n",
       "3036219  Q21856289       male                     None\n",
       "3036220  Q21856290       male                     None\n",
       "3036221  Q21856292     female                     None\n",
       "3036222  Q21856299       male                     None\n",
       "3036223  Q21856300       male                     None\n",
       "3036224  Q21856420     female                     None\n",
       "3036225  Q21856453  no gender                     None\n",
       "3036226  Q21856455  no gender                     None\n",
       "3036227  Q21856462  no gender                     None\n",
       "3036228  Q21856594       male                     None\n",
       "3036229  Q21856604     female                     None\n",
       "3036230  Q21856657       male                     None\n",
       "3036231  Q21856682     nonbin                     None\n",
       "3036232  Q21856708     female                     None\n",
       "3036233  Q21856749       male                     None\n",
       "3036234  Q21856759       male                     None\n",
       "3036235  Q21856771       male                     None\n",
       "\n",
       "[3036236 rows x 3 columns]"
      ]
     },
     "execution_count": 59,
     "metadata": {},
     "output_type": "execute_result"
    }
   ],
   "source": [
    "gender_qid_df"
   ]
  },
  {
   "cell_type": "code",
   "execution_count": 58,
   "metadata": {
    "collapsed": false
   },
   "outputs": [
    {
     "name": "stderr",
     "output_type": "stream",
     "text": [
      "/usr/local/lib/python3.4/dist-packages/ipykernel/__main__.py:6: SettingWithCopyWarning: \n",
      "A value is trying to be set on a copy of a slice from a DataFrame.\n",
      "Try using .loc[row_indexer,col_indexer] = value instead\n",
      "\n",
      "See the the caveats in the documentation: http://pandas.pydata.org/pandas-docs/stable/indexing.html#indexing-view-versus-copy\n"
     ]
    }
   ],
   "source": [
    "def qid2enname(x):\n",
    "    try:\n",
    "        return qidnames[x]\n",
    "    except KeyError:\n",
    "        return None\n",
    "gender_qid_df['enname'] = gender_qid_df['qid'].apply(qid2enname)"
   ]
  },
  {
   "cell_type": "code",
   "execution_count": 67,
   "metadata": {
    "collapsed": false
   },
   "outputs": [],
   "source": [
    "enname_id = pandas.read_csv('/home/notconfusing/workspace/wikidumpparse/wikidump/mediawiki-utilities/enname_id.txt',sep='\\t',names=['enname','pageid'])"
   ]
  },
  {
   "cell_type": "code",
   "execution_count": 69,
   "metadata": {
    "collapsed": false
   },
   "outputs": [],
   "source": [
    "gender_page_id = pandas.merge(gender_qid_df, enname_id, how='inner',on='enname')"
   ]
  },
  {
   "cell_type": "code",
   "execution_count": 156,
   "metadata": {
    "collapsed": false
   },
   "outputs": [],
   "source": [
    "pah_gender = pandas.merge(pah, gender_page_id, how='left', on='pageid')"
   ]
  },
  {
   "cell_type": "code",
   "execution_count": 157,
   "metadata": {
    "collapsed": false
   },
   "outputs": [
    {
     "data": {
      "text/plain": [
       "(3566226, 1135655, 3566226)"
      ]
     },
     "execution_count": 157,
     "metadata": {},
     "output_type": "execute_result"
    }
   ],
   "source": [
    "len(pah), len(gender_page_id), len(pah_gender)"
   ]
  },
  {
   "cell_type": "code",
   "execution_count": 75,
   "metadata": {
    "collapsed": false
   },
   "outputs": [],
   "source": [
    "pah_gender.to_csv('pah_gender.csv')"
   ]
  },
  {
   "cell_type": "code",
   "execution_count": 77,
   "metadata": {
    "collapsed": false
   },
   "outputs": [],
   "source": [
    "!gzip -k pah_gender.csv"
   ]
  },
  {
   "cell_type": "code",
   "execution_count": 79,
   "metadata": {
    "collapsed": false
   },
   "outputs": [
    {
     "name": "stdout",
     "output_type": "stream",
     "text": [
      "24M\tpah_gender.csv.gz\r\n"
     ]
    }
   ],
   "source": [
    "!du -h pah_gender.csv.gz"
   ]
  },
  {
   "cell_type": "markdown",
   "metadata": {},
   "source": [
    "Rel risk. P(gender|misaligned)/P(gender)\n",
    "\n",
    "What proportion of the misaligned dataset is about women?\n",
    "\n",
    "For each gender, what proportion of the each misalignment group do the represent."
   ]
  },
  {
   "cell_type": "code",
   "execution_count": 172,
   "metadata": {
    "collapsed": false
   },
   "outputs": [],
   "source": [
    "pah_gender['gender'] = pah_gender['gender'].fillna('nonbio')"
   ]
  },
  {
   "cell_type": "code",
   "execution_count": 173,
   "metadata": {
    "collapsed": false
   },
   "outputs": [
    {
     "name": "stdout",
     "output_type": "stream",
     "text": [
      "0.044507631065275194 0.04304157952973255\n",
      "0.27188571077263574 0.23647603937607992\n",
      "1.8443662296543352e-05 3.6733510439327174e-05\n",
      "0.6834114627361173 0.72027628086386\n",
      "0.0560191847918616 0.04304157952973255\n",
      "0.20317777218350697 0.23647603937607992\n",
      "9.749552902965755e-05 3.6733510439327174e-05\n",
      "0.7406051416522728 0.72027628086386\n"
     ]
    }
   ],
   "source": [
    "SE = pah_gender[(pah_gender['dissonance'] == 'Moderate negative') | (pah_gender['dissonance'] == 'High negative')]\n",
    "NI = pah_gender[(pah_gender['dissonance'] == 'Moderate positive') | (pah_gender['dissonance'] == 'High positive')]\n",
    "rel_risk = defaultdict(dict)\n",
    "for risk, risk_name in [(SE,'SE'), (NI,'NI')]:\n",
    "    for gender in ['female','male','nonbin','nonbio']:\n",
    "        gen_mis = len(risk[risk['gender'] == gender])\n",
    "        p_gen_mis = gen_mis/len(risk)               #p(gender|misalignment)\n",
    "        p_gen = len(pah_gender[pah_gender['gender'] == gender]) / len(pah_gender)   #p(gender)\n",
    "        print(p_gen_mis, p_gen)\n",
    "        rel_risk[gender][risk_name] = p_gen_mis/p_gen#rel sirk"
   ]
  },
  {
   "cell_type": "code",
   "execution_count": 175,
   "metadata": {
    "collapsed": false
   },
   "outputs": [],
   "source": [
    "rel_risk_df = pandas.DataFrame.from_dict(rel_risk,orient=\"index\")"
   ]
  },
  {
   "cell_type": "code",
   "execution_count": 180,
   "metadata": {
    "collapsed": false
   },
   "outputs": [
    {
     "name": "stdout",
     "output_type": "stream",
     "text": [
      "\\begin{tabular}{lrr}\n",
      "\\toprule\n",
      "{} &   NI &   SE \\\\\n",
      "\\midrule\n",
      "female & 1.30 & 1.03 \\\\\n",
      "male   & 0.86 & 1.15 \\\\\n",
      "nonbin & 2.65 & 0.50 \\\\\n",
      "nonbio & 1.03 & 0.95 \\\\\n",
      "\\bottomrule\n",
      "\\end{tabular}\n",
      "\n"
     ]
    }
   ],
   "source": [
    "print(rel_risk_df.to_latex(float_format=lambda n:'%.2f' %n))"
   ]
  },
  {
   "cell_type": "code",
   "execution_count": 124,
   "metadata": {
    "collapsed": true
   },
   "outputs": [],
   "source": [
    "def calc_prob(df):\n",
    "    probs = {'%size':len(df)/len(pah_gender)}\n",
    "    for dissonance in ['High positive', 'Moderate positive', 'None', 'Moderate negative', 'High negative']:\n",
    "        tot_dis = len(df[df['dissonance'] == dissonance])\n",
    "        tot_page = len(df)\n",
    "        probs[dissonance] = tot_dis / tot_page\n",
    "    return probs"
   ]
  },
  {
   "cell_type": "code",
   "execution_count": 125,
   "metadata": {
    "collapsed": false
   },
   "outputs": [],
   "source": [
    "priors = calc_prob(pah)"
   ]
  },
  {
   "cell_type": "code",
   "execution_count": 127,
   "metadata": {
    "collapsed": false
   },
   "outputs": [],
   "source": [
    "probs = {}\n",
    "for group in bygender.groups:\n",
    "    probs[group] = calc_prob(pah_gender[pah_gender['gender']==group])"
   ]
  },
  {
   "cell_type": "code",
   "execution_count": 128,
   "metadata": {
    "collapsed": false
   },
   "outputs": [],
   "source": [
    "probs['priors'] = priors"
   ]
  },
  {
   "cell_type": "code",
   "execution_count": 129,
   "metadata": {
    "collapsed": false
   },
   "outputs": [],
   "source": [
    "probs_df = pandas.DataFrame.from_dict(probs, orient='index')"
   ]
  },
  {
   "cell_type": "code",
   "execution_count": 130,
   "metadata": {
    "collapsed": false
   },
   "outputs": [
    {
     "data": {
      "text/html": [
       "<div style=\"max-height:1000px;max-width:1500px;overflow:auto;\">\n",
       "<table border=\"1\" class=\"dataframe\">\n",
       "  <thead>\n",
       "    <tr style=\"text-align: right;\">\n",
       "      <th></th>\n",
       "      <th>High negative</th>\n",
       "      <th>Moderate positive</th>\n",
       "      <th>High positive</th>\n",
       "      <th>Moderate negative</th>\n",
       "      <th>None</th>\n",
       "      <th>%size</th>\n",
       "    </tr>\n",
       "  </thead>\n",
       "  <tbody>\n",
       "    <tr>\n",
       "      <th>female</th>\n",
       "      <td> 0.026398</td>\n",
       "      <td> 0.196272</td>\n",
       "      <td> 0.054529</td>\n",
       "      <td> 0.162258</td>\n",
       "      <td> 0.560542</td>\n",
       "      <td> 0.153872</td>\n",
       "    </tr>\n",
       "    <tr>\n",
       "      <th>male</th>\n",
       "      <td> 0.030039</td>\n",
       "      <td> 0.144785</td>\n",
       "      <td> 0.020781</td>\n",
       "      <td> 0.179722</td>\n",
       "      <td> 0.624673</td>\n",
       "      <td> 0.845391</td>\n",
       "    </tr>\n",
       "    <tr>\n",
       "      <th>no gender</th>\n",
       "      <td> 0.021523</td>\n",
       "      <td> 0.105960</td>\n",
       "      <td> 0.008278</td>\n",
       "      <td> 0.168874</td>\n",
       "      <td> 0.695364</td>\n",
       "      <td> 0.000605</td>\n",
       "    </tr>\n",
       "    <tr>\n",
       "      <th>nonbin</th>\n",
       "      <td> 0.038168</td>\n",
       "      <td> 0.343511</td>\n",
       "      <td> 0.167939</td>\n",
       "      <td> 0.053435</td>\n",
       "      <td> 0.396947</td>\n",
       "      <td> 0.000131</td>\n",
       "    </tr>\n",
       "    <tr>\n",
       "      <th>priors</th>\n",
       "      <td> 0.030688</td>\n",
       "      <td> 0.166800</td>\n",
       "      <td> 0.025900</td>\n",
       "      <td> 0.151754</td>\n",
       "      <td> 0.624858</td>\n",
       "      <td> 3.574956</td>\n",
       "    </tr>\n",
       "  </tbody>\n",
       "</table>\n",
       "</div>"
      ],
      "text/plain": [
       "           High negative  Moderate positive  High positive  Moderate negative  \\\n",
       "female          0.026398           0.196272       0.054529           0.162258   \n",
       "male            0.030039           0.144785       0.020781           0.179722   \n",
       "no gender       0.021523           0.105960       0.008278           0.168874   \n",
       "nonbin          0.038168           0.343511       0.167939           0.053435   \n",
       "priors          0.030688           0.166800       0.025900           0.151754   \n",
       "\n",
       "               None     %size  \n",
       "female     0.560542  0.153872  \n",
       "male       0.624673  0.845391  \n",
       "no gender  0.695364  0.000605  \n",
       "nonbin     0.396947  0.000131  \n",
       "priors     0.624858  3.574956  "
      ]
     },
     "execution_count": 130,
     "metadata": {},
     "output_type": "execute_result"
    }
   ],
   "source": [
    "probs_df"
   ]
  },
  {
   "cell_type": "code",
   "execution_count": 132,
   "metadata": {
    "collapsed": true
   },
   "outputs": [],
   "source": [
    "probs_df['rel risk NI'] = ( probs_df['Moderate positive'] + probs_df['High positive'] ) / probs_df['%size']\n",
    "probs_df['rel risk SE'] = ( probs_df['Moderate negative'] + probs_df['High negative'] ) / probs_df['%size']"
   ]
  },
  {
   "cell_type": "code",
   "execution_count": 133,
   "metadata": {
    "collapsed": false
   },
   "outputs": [
    {
     "data": {
      "text/html": [
       "<div style=\"max-height:1000px;max-width:1500px;overflow:auto;\">\n",
       "<table border=\"1\" class=\"dataframe\">\n",
       "  <thead>\n",
       "    <tr style=\"text-align: right;\">\n",
       "      <th></th>\n",
       "      <th>High negative</th>\n",
       "      <th>Moderate positive</th>\n",
       "      <th>High positive</th>\n",
       "      <th>Moderate negative</th>\n",
       "      <th>None</th>\n",
       "      <th>%size</th>\n",
       "      <th>rel risk NI</th>\n",
       "      <th>rel risk SE</th>\n",
       "    </tr>\n",
       "  </thead>\n",
       "  <tbody>\n",
       "    <tr>\n",
       "      <th>female</th>\n",
       "      <td> 0.026398</td>\n",
       "      <td> 0.196272</td>\n",
       "      <td> 0.054529</td>\n",
       "      <td> 0.162258</td>\n",
       "      <td> 0.560542</td>\n",
       "      <td> 0.153872</td>\n",
       "      <td>    1.629937</td>\n",
       "      <td>   1.226062</td>\n",
       "    </tr>\n",
       "    <tr>\n",
       "      <th>male</th>\n",
       "      <td> 0.030039</td>\n",
       "      <td> 0.144785</td>\n",
       "      <td> 0.020781</td>\n",
       "      <td> 0.179722</td>\n",
       "      <td> 0.624673</td>\n",
       "      <td> 0.845391</td>\n",
       "      <td>    0.195845</td>\n",
       "      <td>   0.248123</td>\n",
       "    </tr>\n",
       "    <tr>\n",
       "      <th>no gender</th>\n",
       "      <td> 0.021523</td>\n",
       "      <td> 0.105960</td>\n",
       "      <td> 0.008278</td>\n",
       "      <td> 0.168874</td>\n",
       "      <td> 0.695364</td>\n",
       "      <td> 0.000605</td>\n",
       "      <td>  188.674570</td>\n",
       "      <td> 314.457617</td>\n",
       "    </tr>\n",
       "    <tr>\n",
       "      <th>nonbin</th>\n",
       "      <td> 0.038168</td>\n",
       "      <td> 0.343511</td>\n",
       "      <td> 0.167939</td>\n",
       "      <td> 0.053435</td>\n",
       "      <td> 0.396947</td>\n",
       "      <td> 0.000131</td>\n",
       "      <td> 3894.667327</td>\n",
       "      <td> 697.552357</td>\n",
       "    </tr>\n",
       "    <tr>\n",
       "      <th>priors</th>\n",
       "      <td> 0.030688</td>\n",
       "      <td> 0.166800</td>\n",
       "      <td> 0.025900</td>\n",
       "      <td> 0.151754</td>\n",
       "      <td> 0.624858</td>\n",
       "      <td> 3.574956</td>\n",
       "      <td>    0.053903</td>\n",
       "      <td>   0.051033</td>\n",
       "    </tr>\n",
       "  </tbody>\n",
       "</table>\n",
       "</div>"
      ],
      "text/plain": [
       "           High negative  Moderate positive  High positive  Moderate negative  \\\n",
       "female          0.026398           0.196272       0.054529           0.162258   \n",
       "male            0.030039           0.144785       0.020781           0.179722   \n",
       "no gender       0.021523           0.105960       0.008278           0.168874   \n",
       "nonbin          0.038168           0.343511       0.167939           0.053435   \n",
       "priors          0.030688           0.166800       0.025900           0.151754   \n",
       "\n",
       "               None     %size  rel risk NI  rel risk SE  \n",
       "female     0.560542  0.153872     1.629937     1.226062  \n",
       "male       0.624673  0.845391     0.195845     0.248123  \n",
       "no gender  0.695364  0.000605   188.674570   314.457617  \n",
       "nonbin     0.396947  0.000131  3894.667327   697.552357  \n",
       "priors     0.624858  3.574956     0.053903     0.051033  "
      ]
     },
     "execution_count": 133,
     "metadata": {},
     "output_type": "execute_result"
    }
   ],
   "source": [
    "probs_df"
   ]
  },
  {
   "cell_type": "code",
   "execution_count": null,
   "metadata": {
    "collapsed": true
   },
   "outputs": [],
   "source": []
  }
 ],
 "metadata": {
  "kernelspec": {
   "display_name": "Python 3",
   "language": "python",
   "name": "python3"
  },
  "language_info": {
   "codemirror_mode": {
    "name": "ipython",
    "version": 3
   },
   "file_extension": ".py",
   "mimetype": "text/x-python",
   "name": "python",
   "nbconvert_exporter": "python",
   "pygments_lexer": "ipython3",
   "version": "3.4.3+"
  }
 },
 "nbformat": 4,
 "nbformat_minor": 0
}
